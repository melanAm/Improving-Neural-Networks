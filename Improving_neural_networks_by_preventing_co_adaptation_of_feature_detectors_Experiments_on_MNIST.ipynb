{
  "cells": [
    {
      "cell_type": "markdown",
      "metadata": {
        "id": "view-in-github",
        "colab_type": "text"
      },
      "source": [
        "<a href=\"https://colab.research.google.com/github/melanAm/Improving-Neural-Networks/blob/main/Improving_neural_networks_by_preventing_co_adaptation_of_feature_detectors_Experiments_on_MNIST.ipynb\" target=\"_parent\"><img src=\"https://colab.research.google.com/assets/colab-badge.svg\" alt=\"Open In Colab\"/></a>"
      ]
    },
    {
      "cell_type": "markdown",
      "metadata": {
        "id": "GXOMltoBUwp5"
      },
      "source": [
        "This is the implementation of the paper \"Improving neural networks by preventing\n",
        "co-adaptation of feature detectors\", Experiments on MNIST code"
      ]
    },
    {
      "cell_type": "code",
      "execution_count": null,
      "metadata": {
        "id": "g4BebF0ZRz5K"
      },
      "outputs": [],
      "source": [
        "#import required packages\n",
        "import numpy as np\n",
        "import math\n",
        "import torch\n",
        "from torchvision import datasets,transforms\n",
        "from torch.utils.data import DataLoader\n",
        "import torch.nn as nn\n",
        "import torch.nn.functional as F\n",
        "import torch.optim as optim\n",
        "from torch.optim.optimizer import _use_grad_for_differentiable\n",
        "import matplotlib.pyplot as plt\n",
        "import os\n",
        "import copy\n",
        "import json\n",
        "import time"
      ]
    },
    {
      "cell_type": "code",
      "execution_count": null,
      "metadata": {
        "id": "Jp_j_qRDSBmr"
      },
      "outputs": [],
      "source": [
        "#hyper parameters\n",
        "num_epochs = 3000\n",
        "batch_size = 100\n",
        "lr_init = 0.1\n",
        "lr_decay_factor = 0.998\n",
        "max_weight = np.sqrt(15.0)       #maximum square length of every neuron's weight vector\n",
        "moment_init = 0.5\n",
        "moment_final = 0.99\n",
        "num_steps = 500\n",
        "momentum_schedule = np.concatenate([np.linspace(moment_init,moment_final,num_steps),np.full(shape=(num_epochs-num_steps,),fill_value=moment_final)])\n",
        "mean = 0\n",
        "std = 0.01\n",
        "num_class = 10\n",
        "random_seed = 42\n",
        "device = 'cuda' if torch.cuda.is_available() else 'cpu'"
      ]
    },
    {
      "cell_type": "markdown",
      "source": [
        "# Dataset"
      ],
      "metadata": {
        "id": "jtlQBXN7qhNf"
      }
    },
    {
      "cell_type": "code",
      "execution_count": null,
      "metadata": {
        "id": "nplt5ItC8zya"
      },
      "outputs": [],
      "source": [
        "os.mkdir('dataset')"
      ]
    },
    {
      "cell_type": "code",
      "execution_count": null,
      "metadata": {
        "id": "srxZOHkPSZ_v",
        "colab": {
          "base_uri": "https://localhost:8080/"
        },
        "outputId": "b935b99d-488e-4d23-9015-cd61b2dc4e60"
      },
      "outputs": [
        {
          "output_type": "stream",
          "name": "stdout",
          "text": [
            "Downloading http://yann.lecun.com/exdb/mnist/train-images-idx3-ubyte.gz\n",
            "Failed to download (trying next):\n",
            "HTTP Error 403: Forbidden\n",
            "\n",
            "Downloading https://ossci-datasets.s3.amazonaws.com/mnist/train-images-idx3-ubyte.gz\n",
            "Downloading https://ossci-datasets.s3.amazonaws.com/mnist/train-images-idx3-ubyte.gz to /content/dataset/MNIST/raw/train-images-idx3-ubyte.gz\n"
          ]
        },
        {
          "output_type": "stream",
          "name": "stderr",
          "text": [
            "100%|██████████| 9.91M/9.91M [00:00<00:00, 39.2MB/s]\n"
          ]
        },
        {
          "output_type": "stream",
          "name": "stdout",
          "text": [
            "Extracting /content/dataset/MNIST/raw/train-images-idx3-ubyte.gz to /content/dataset/MNIST/raw\n",
            "\n",
            "Downloading http://yann.lecun.com/exdb/mnist/train-labels-idx1-ubyte.gz\n",
            "Failed to download (trying next):\n",
            "HTTP Error 403: Forbidden\n",
            "\n",
            "Downloading https://ossci-datasets.s3.amazonaws.com/mnist/train-labels-idx1-ubyte.gz\n",
            "Downloading https://ossci-datasets.s3.amazonaws.com/mnist/train-labels-idx1-ubyte.gz to /content/dataset/MNIST/raw/train-labels-idx1-ubyte.gz\n"
          ]
        },
        {
          "output_type": "stream",
          "name": "stderr",
          "text": [
            "100%|██████████| 28.9k/28.9k [00:00<00:00, 1.24MB/s]\n"
          ]
        },
        {
          "output_type": "stream",
          "name": "stdout",
          "text": [
            "Extracting /content/dataset/MNIST/raw/train-labels-idx1-ubyte.gz to /content/dataset/MNIST/raw\n",
            "\n",
            "Downloading http://yann.lecun.com/exdb/mnist/t10k-images-idx3-ubyte.gz\n",
            "Failed to download (trying next):\n",
            "HTTP Error 403: Forbidden\n",
            "\n",
            "Downloading https://ossci-datasets.s3.amazonaws.com/mnist/t10k-images-idx3-ubyte.gz\n",
            "Downloading https://ossci-datasets.s3.amazonaws.com/mnist/t10k-images-idx3-ubyte.gz to /content/dataset/MNIST/raw/t10k-images-idx3-ubyte.gz\n"
          ]
        },
        {
          "output_type": "stream",
          "name": "stderr",
          "text": [
            "100%|██████████| 1.65M/1.65M [00:00<00:00, 10.9MB/s]\n"
          ]
        },
        {
          "output_type": "stream",
          "name": "stdout",
          "text": [
            "Extracting /content/dataset/MNIST/raw/t10k-images-idx3-ubyte.gz to /content/dataset/MNIST/raw\n",
            "\n",
            "Downloading http://yann.lecun.com/exdb/mnist/t10k-labels-idx1-ubyte.gz\n",
            "Failed to download (trying next):\n",
            "HTTP Error 403: Forbidden\n",
            "\n",
            "Downloading https://ossci-datasets.s3.amazonaws.com/mnist/t10k-labels-idx1-ubyte.gz\n",
            "Downloading https://ossci-datasets.s3.amazonaws.com/mnist/t10k-labels-idx1-ubyte.gz to /content/dataset/MNIST/raw/t10k-labels-idx1-ubyte.gz\n"
          ]
        },
        {
          "output_type": "stream",
          "name": "stderr",
          "text": [
            "100%|██████████| 4.54k/4.54k [00:00<00:00, 6.26MB/s]"
          ]
        },
        {
          "output_type": "stream",
          "name": "stdout",
          "text": [
            "Extracting /content/dataset/MNIST/raw/t10k-labels-idx1-ubyte.gz to /content/dataset/MNIST/raw\n",
            "\n"
          ]
        },
        {
          "output_type": "stream",
          "name": "stderr",
          "text": [
            "\n"
          ]
        }
      ],
      "source": [
        "#load mnist dataset\n",
        "path = '/content/dataset'\n",
        "train_transform = transforms.Compose([transforms.RandomCrop(size=(28,28),padding=(2,)),transforms.ToTensor(),transforms.Normalize((0.1307,),(0.3081,))])\n",
        "val_transform =  transforms.Compose([transforms.ToTensor(),transforms.Normalize((0.1307,),(0.3081,))])\n",
        "train_dataset = datasets.MNIST(root=path,train=True,download=True,transform=train_transform)\n",
        "val_dataset = datasets.MNIST(root=path,train=False,download=True,transform=val_transform)\n",
        "train_loader = DataLoader(train_dataset,batch_size=batch_size,shuffle=True,num_workers=2,pin_memory=torch.cuda.is_available())\n",
        "val_loader = DataLoader(val_dataset,batch_size=batch_size,shuffle=False,num_workers=2,pin_memory=torch.cuda.is_available())"
      ]
    },
    {
      "cell_type": "markdown",
      "source": [
        "# Neural Network Model"
      ],
      "metadata": {
        "id": "gwcAdS60qdW4"
      }
    },
    {
      "cell_type": "code",
      "execution_count": null,
      "metadata": {
        "id": "DMImoG0Z0ECw"
      },
      "outputs": [],
      "source": [
        "#multi-layer perceptron input layer:784, hidden_layers:1200-1200, output_layer:10\n",
        "class NeuralNet(nn.Module):\n",
        "  def __init__(self):\n",
        "    super(NeuralNet,self).__init__()\n",
        "    self.fc1 = nn.Linear(in_features=784,out_features=1200,bias=True)\n",
        "    self.fc2 = nn.Linear(in_features=1200,out_features=1200,bias=True)\n",
        "    self.layer_out = nn.Linear(in_features=1200,out_features=10,bias=True)\n",
        "    self.layers = [self.fc1,self.fc2,self.layer_out]\n",
        "    self.initialize()\n",
        "\n",
        "  def initialize(self):\n",
        "    for layer in self.layers:\n",
        "      torch.nn.init.normal_(layer.weight,mean=0.0,std=0.01)\n",
        "      torch.nn.init.zeros_(layer.bias)\n",
        "\n",
        "  def forward(self,x):\n",
        "    x = x.view(-1,784)\n",
        "    x = F.dropout(x,p=0.2,training=self.training)\n",
        "    x = F.relu(self.fc1(x))\n",
        "    x = F.dropout(x,p=0.5,training=self.training)\n",
        "    x = F.relu(self.fc2(x))\n",
        "    x = F.dropout(x,p=0.5,training=self.training)\n",
        "    x = self.layer_out(x)\n",
        "    return x"
      ]
    },
    {
      "cell_type": "markdown",
      "source": [
        "#customized SGD optimizer"
      ],
      "metadata": {
        "id": "W6XiXarDrdkp"
      }
    },
    {
      "cell_type": "code",
      "source": [
        "class CSGD(optim.Optimizer):\n",
        "  def __init__(self,params,lr_init,lr_decay_factor,momentum_schedule,max_weight,differentiable=False):\n",
        "    self.epoch = 0\n",
        "    self.lr_decay_factor = lr_decay_factor\n",
        "    self.momentum_schedule = momentum_schedule\n",
        "    self.max_weight = max_weight\n",
        "    defaults = dict(lr=lr_init,momentum=self.momentum_schedule[0],differentiable=differentiable)\n",
        "    super().__init__(params,defaults)\n",
        "\n",
        "  def schedule(self):\n",
        "      self.epoch += 1\n",
        "      for group in self.param_groups:\n",
        "        group[\"lr\"] = group[\"lr\"] * self.lr_decay_factor\n",
        "        group[\"momentum\"] = self.momentum_schedule[self.epoch]\n",
        "\n",
        "  def _delw(self,grads,momentum_buffer_list,lr,momentum):\n",
        "        lrm = -lr*(1-momentum)\n",
        "        del_w = torch._foreach_mul(grads,lrm)\n",
        "        if momentum_buffer_list:\n",
        "          buf_x_moment = torch._foreach_mul(momentum_buffer_list,momentum)\n",
        "          torch._foreach_add_(del_w,buf_x_moment)\n",
        "        return del_w\n",
        "\n",
        "  @_use_grad_for_differentiable\n",
        "  def step(self):\n",
        "      for group in self.param_groups:\n",
        "        lr = group[\"lr\"]\n",
        "        momentum = group[\"momentum\"]\n",
        "        params = []\n",
        "        grads = []\n",
        "        momentum_buffer_list = []\n",
        "        for p in group[\"params\"]:\n",
        "          if p.grad is not None:\n",
        "            params.append(p)\n",
        "            grads.append(p.grad)\n",
        "            state = self.state[p]\n",
        "            momentum_buffer = state.get(\"momentum_buffer\")\n",
        "            if momentum_buffer != None:\n",
        "              momentum_buffer_list.append(momentum_buffer)\n",
        "        del_w = self._delw(grads,momentum_buffer_list,lr,momentum)\n",
        "        torch._foreach_add_(params,del_w)\n",
        "        for p,momentum_buffer in zip(params,del_w):\n",
        "          state = self.state[p]\n",
        "          state[\"momentum_buffer\"] = momentum_buffer\n",
        "          #regularize weight vector of every neuron to have square length of max_weight\n",
        "          if p.dim()>1:\n",
        "            norm = torch.linalg.vector_norm(p,dim=1,keepdim=True)\n",
        "            nrm_coef = norm.reciprocal().mul(self.max_weight).clamp(max=1.)\n",
        "            p.mul_(nrm_coef)"
      ],
      "metadata": {
        "id": "pRDDTes9tk0J"
      },
      "execution_count": null,
      "outputs": []
    },
    {
      "cell_type": "markdown",
      "source": [
        " **Done up to here** :) :> <3"
      ],
      "metadata": {
        "id": "jAuwf0mpIzOu"
      }
    },
    {
      "cell_type": "code",
      "source": [
        "use_gpu = True\n",
        "def reproducibilitySeed():\n",
        "    torch_init_seed = 42\n",
        "    torch.manual_seed(torch_init_seed)\n",
        "    numpy_init_seed = 42\n",
        "    np.random.seed(numpy_init_seed)\n",
        "    if use_gpu:\n",
        "        torch.backends.cudnn.deterministic = True\n",
        "        torch.backends.cudnn.benchmark = False\n",
        "\n",
        "reproducibilitySeed()"
      ],
      "metadata": {
        "id": "Tk8goZcefABl"
      },
      "execution_count": null,
      "outputs": []
    },
    {
      "cell_type": "code",
      "execution_count": null,
      "metadata": {
        "id": "lr6-P0AU0UZE"
      },
      "outputs": [],
      "source": [
        "model = NeuralNet().to(device)"
      ]
    },
    {
      "cell_type": "code",
      "execution_count": null,
      "metadata": {
        "id": "M1kdpqlP2Wo-"
      },
      "outputs": [],
      "source": [
        "#cost function\n",
        "criterion = nn.CrossEntropyLoss()"
      ]
    },
    {
      "cell_type": "code",
      "source": [
        "#create optimizer module\n",
        "optimizer = CSGD(teacher.parameters())"
      ],
      "metadata": {
        "id": "EJLjeKblA8U1"
      },
      "execution_count": null,
      "outputs": []
    },
    {
      "cell_type": "code",
      "execution_count": null,
      "metadata": {
        "id": "uUNMNpFuAFSn"
      },
      "outputs": [],
      "source": [
        "if os.path.exists('/content/teacher')==False:\n",
        "  os.mkdir('/content/teacher')"
      ]
    },
    {
      "cell_type": "code",
      "execution_count": null,
      "metadata": {
        "id": "BZnFM2MNAEJB"
      },
      "outputs": [],
      "source": [
        "def log(t):\n",
        "        logname = os.path.join('/content/teacher', 'MLP_MNIST_DropoutPaper_CSGD_lr-init-10.txt')\n",
        "        with open(logname, 'a') as f:\n",
        "            f.write( json.dumps(t) + '\\n')\n",
        "        print(t)"
      ]
    },
    {
      "cell_type": "code",
      "execution_count": null,
      "metadata": {
        "id": "ihaYol1i3MRI"
      },
      "outputs": [],
      "source": [
        "def train(model,criterion,optimizer,num_epochs):\n",
        "  bestparams = copy.deepcopy(model.state_dict())\n",
        "  best_correct = 0\n",
        "  time_start = time.time()\n",
        "  for epoch in range(num_epochs):\n",
        "    train_loss = 0.\n",
        "    val_loss = 0.\n",
        "    train_correct = 0\n",
        "    val_correct = 0\n",
        "    model.train()\n",
        "    for x,y in train_loader:\n",
        "      x = x.to(device)\n",
        "      y = y.to(device)\n",
        "      optimizer.zero_grad()\n",
        "      y_hat = model.forward(x)\n",
        "      loss = criterion(y_hat,y)\n",
        "      loss.backward()\n",
        "      optimizer.step()\n",
        "\n",
        "    optimizer.schedule()\n",
        "\n",
        "    model.eval()\n",
        "    for x,y in train_loader:\n",
        "      x = x.to(device)\n",
        "      y = y.to(device)\n",
        "      y_hat = model.forward(x)\n",
        "      loss = criterion(y_hat,y)\n",
        "      train_loss+= loss.item()*x.size(0)\n",
        "      train_correct += (((torch.argmax(y_hat,dim=1)==y)).sum()).item()\n",
        "    train_loss = train_loss/len(train_dataset)\n",
        "    train_error = len(train_dataset)-train_correct\n",
        "    train_acc = train_correct/len(train_dataset)\n",
        "\n",
        "    for x,y in val_loader:\n",
        "      x = x.to(device)\n",
        "      y = y.to(device)\n",
        "      y_hat = model.forward(x)\n",
        "      loss = criterion(y_hat,y)\n",
        "      val_loss += loss.item()*x.size(0)\n",
        "      val_correct += (((torch.argmax(y_hat,dim=1)==y)).sum()).item()\n",
        "    val_loss = val_loss/len(val_dataset)\n",
        "    val_error = len(val_dataset)-val_correct\n",
        "    val_acc = val_correct/len(val_dataset)\n",
        "\n",
        "    if val_correct > best_correct:\n",
        "      bestparams = copy.deepcopy(model.state_dict())\n",
        "      best_correct = val_correct\n",
        "\n",
        "    log({\n",
        "            \"epoch\": epoch+1,\n",
        "            \"train_loss\": train_loss,\n",
        "            \"train_correct\": train_correct,\n",
        "            \"train_error\": train_error,\n",
        "            \"train_acc\" : train_acc,\n",
        "            \"val_loss\": val_loss,\n",
        "            \"val_correct\": val_correct,\n",
        "            \"val_error\": val_error,\n",
        "            \"val_acc\" : val_acc,\n",
        "           })\n",
        "\n",
        "  time_fin = time.time()-time_start\n",
        "  print('time: {}'.format(time_fin))\n",
        "  return bestparams"
      ]
    },
    {
      "cell_type": "code",
      "source": [
        "optimized_params = train(model,criterion,optimizer,num_epochs=num_epochs)"
      ],
      "metadata": {
        "colab": {
          "base_uri": "https://localhost:8080/",
          "height": 1000
        },
        "id": "8iYX7SCXk1_P",
        "outputId": "35ca84c7-cbd3-4156-d0dc-70d3b688a21e"
      },
      "execution_count": null,
      "outputs": [
        {
          "output_type": "stream",
          "name": "stdout",
          "text": [
            "epoch: 1\n",
            "lrm: 4.9802\n",
            "momentum: 0.5009819639278558\n",
            "{'epoch': 1, 'train_loss': 2.3822418944040935, 'train_correct': 6164, 'train_error': 53836, 'train_acc': 0.10273333333333333, 'val_loss': 2.383527817726135, 'val_correct': 1019, 'val_error': 8981, 'val_acc': 0.1019}\n",
            "epoch: 2\n",
            "lrm: 4.960459200000001\n",
            "momentum: 0.5019639278557114\n",
            "{'epoch': 2, 'train_loss': 2.3159763062000276, 'train_correct': 5860, 'train_error': 54140, 'train_acc': 0.09766666666666667, 'val_loss': 2.3161227178573607, 'val_correct': 974, 'val_error': 9026, 'val_acc': 0.0974}\n",
            "epoch: 3\n",
            "lrm: 4.9407774424\n",
            "momentum: 0.5029458917835672\n",
            "{'epoch': 3, 'train_loss': 2.3645738160610197, 'train_correct': 5987, 'train_error': 54013, 'train_acc': 0.09978333333333333, 'val_loss': 2.3629838323593138, 'val_correct': 1035, 'val_error': 8965, 'val_acc': 0.1035}\n",
            "epoch: 4\n",
            "lrm: 4.9211545699936\n",
            "momentum: 0.5039278557114228\n",
            "{'epoch': 4, 'train_loss': 2.3327728780110677, 'train_correct': 5847, 'train_error': 54153, 'train_acc': 0.09745, 'val_loss': 2.3307490038871763, 'val_correct': 982, 'val_error': 9018, 'val_acc': 0.0982}\n",
            "epoch: 5\n",
            "lrm: 4.901590425967055\n",
            "momentum: 0.5049098196392786\n",
            "{'epoch': 5, 'train_loss': 2.3292718096574148, 'train_correct': 5961, 'train_error': 54039, 'train_acc': 0.09935, 'val_loss': 2.3270270109176634, 'val_correct': 1032, 'val_error': 8968, 'val_acc': 0.1032}\n",
            "epoch: 6\n",
            "lrm: 4.882084853898338\n",
            "momentum: 0.5058917835671343\n",
            "{'epoch': 6, 'train_loss': 2.371152792374293, 'train_correct': 5958, 'train_error': 54042, 'train_acc': 0.0993, 'val_loss': 2.3671218395233153, 'val_correct': 1032, 'val_error': 8968, 'val_acc': 0.1032}\n",
            "epoch: 7\n",
            "lrm: 4.862637697756191\n",
            "momentum: 0.50687374749499\n",
            "{'epoch': 7, 'train_loss': 2.365431439081828, 'train_correct': 6744, 'train_error': 53256, 'train_acc': 0.1124, 'val_loss': 2.3642021512985227, 'val_correct': 1135, 'val_error': 8865, 'val_acc': 0.1135}\n",
            "epoch: 8\n",
            "lrm: 4.843248801899198\n",
            "momentum: 0.5078557114228457\n",
            "{'epoch': 8, 'train_loss': 2.378743039369583, 'train_correct': 6299, 'train_error': 53701, 'train_acc': 0.10498333333333333, 'val_loss': 2.3721126675605775, 'val_correct': 1016, 'val_error': 8984, 'val_acc': 0.1016}\n",
            "epoch: 9\n",
            "lrm: 4.8239180110748405\n",
            "momentum: 0.5088376753507015\n",
            "{'epoch': 9, 'train_loss': 2.3800761234760284, 'train_correct': 6131, 'train_error': 53869, 'train_acc': 0.10218333333333333, 'val_loss': 2.3792934799194336, 'val_correct': 1010, 'val_error': 8990, 'val_acc': 0.101}\n",
            "epoch: 10\n",
            "lrm: 4.804645170418574\n",
            "momentum: 0.5098196392785571\n",
            "{'epoch': 10, 'train_loss': 2.341101858218511, 'train_correct': 5949, 'train_error': 54051, 'train_acc': 0.09915, 'val_loss': 2.338805673122406, 'val_correct': 1009, 'val_error': 8991, 'val_acc': 0.1009}\n",
            "epoch: 11\n",
            "lrm: 4.785430125452887\n",
            "momentum: 0.5108016032064129\n",
            "{'epoch': 11, 'train_loss': 2.378033408721288, 'train_correct': 6742, 'train_error': 53258, 'train_acc': 0.11236666666666667, 'val_loss': 2.3809611654281615, 'val_correct': 1135, 'val_error': 8865, 'val_acc': 0.1135}\n",
            "epoch: 12\n",
            "lrm: 4.766272722086382\n",
            "momentum: 0.5117835671342685\n",
            "{'epoch': 12, 'train_loss': 2.444032245079676, 'train_correct': 6265, 'train_error': 53735, 'train_acc': 0.10441666666666667, 'val_loss': 2.4454580307006837, 'val_correct': 1028, 'val_error': 8972, 'val_acc': 0.1028}\n",
            "epoch: 13\n",
            "lrm: 4.7471728066128405\n",
            "momentum: 0.5127655310621243\n",
            "{'epoch': 13, 'train_loss': 2.377017970085144, 'train_correct': 5918, 'train_error': 54082, 'train_acc': 0.09863333333333334, 'val_loss': 2.3790094780921938, 'val_correct': 958, 'val_error': 9042, 'val_acc': 0.0958}\n",
            "epoch: 14\n",
            "lrm: 4.728130225710306\n",
            "momentum: 0.51374749498998\n",
            "{'epoch': 14, 'train_loss': 2.378629310131073, 'train_correct': 6265, 'train_error': 53735, 'train_acc': 0.10441666666666667, 'val_loss': 2.383019678592682, 'val_correct': 1028, 'val_error': 8972, 'val_acc': 0.1028}\n",
            "epoch: 15\n",
            "lrm: 4.709144826440154\n",
            "momentum: 0.5147294589178357\n",
            "{'epoch': 15, 'train_loss': 2.360067976315816, 'train_correct': 5958, 'train_error': 54042, 'train_acc': 0.0993, 'val_loss': 2.357546284198761, 'val_correct': 1032, 'val_error': 8968, 'val_acc': 0.1032}\n",
            "epoch: 16\n",
            "lrm: 4.690216456246181\n",
            "momentum: 0.5157114228456914\n",
            "{'epoch': 16, 'train_loss': 2.3779663197199503, 'train_correct': 5958, 'train_error': 54042, 'train_acc': 0.0993, 'val_loss': 2.374789390563965, 'val_correct': 1032, 'val_error': 8968, 'val_acc': 0.1032}\n",
            "epoch: 17\n",
            "lrm: 4.671344962953676\n",
            "momentum: 0.5166933867735471\n",
            "{'epoch': 17, 'train_loss': 2.411843163569768, 'train_correct': 5842, 'train_error': 54158, 'train_acc': 0.09736666666666667, 'val_loss': 2.4085728478431703, 'val_correct': 982, 'val_error': 9018, 'val_acc': 0.0982}\n",
            "epoch: 18\n",
            "lrm: 4.652530194768518\n",
            "momentum: 0.5176753507014028\n",
            "{'epoch': 18, 'train_loss': 2.344077107111613, 'train_correct': 5852, 'train_error': 54148, 'train_acc': 0.09753333333333333, 'val_loss': 2.343728709220886, 'val_correct': 974, 'val_error': 9026, 'val_acc': 0.0974}\n",
            "epoch: 19\n",
            "lrm: 4.633772000276248\n",
            "momentum: 0.5186573146292586\n",
            "{'epoch': 19, 'train_loss': 2.3688777800401053, 'train_correct': 5918, 'train_error': 54082, 'train_acc': 0.09863333333333334, 'val_loss': 2.368886876106262, 'val_correct': 958, 'val_error': 9042, 'val_acc': 0.0958}\n",
            "epoch: 20\n",
            "lrm: 4.615070228441168\n",
            "momentum: 0.5196392785571142\n",
            "{'epoch': 20, 'train_loss': 2.3931448344389596, 'train_correct': 6131, 'train_error': 53869, 'train_acc': 0.10218333333333333, 'val_loss': 2.3961183881759642, 'val_correct': 1010, 'val_error': 8990, 'val_acc': 0.101}\n",
            "epoch: 21\n",
            "lrm: 4.596424728605428\n",
            "momentum: 0.52062124248497\n",
            "{'epoch': 21, 'train_loss': 2.3444447807470956, 'train_correct': 5949, 'train_error': 54051, 'train_acc': 0.09915, 'val_loss': 2.341735374927521, 'val_correct': 1009, 'val_error': 8991, 'val_acc': 0.1009}\n",
            "epoch: 22\n",
            "lrm: 4.577835350488117\n",
            "momentum: 0.5216032064128256\n",
            "{'epoch': 22, 'train_loss': 2.343107734123866, 'train_correct': 5923, 'train_error': 54077, 'train_acc': 0.09871666666666666, 'val_loss': 2.345549740791321, 'val_correct': 980, 'val_error': 9020, 'val_acc': 0.098}\n",
            "epoch: 23\n",
            "lrm: 4.5593019441843605\n",
            "momentum: 0.5225851703406814\n",
            "{'epoch': 23, 'train_loss': 2.3990355801582335, 'train_correct': 5923, 'train_error': 54077, 'train_acc': 0.09871666666666666, 'val_loss': 2.397869803905487, 'val_correct': 980, 'val_error': 9020, 'val_acc': 0.098}\n",
            "epoch: 24\n",
            "lrm: 4.540824360164417\n",
            "momentum: 0.5235671342685371\n",
            "{'epoch': 24, 'train_loss': 2.377232606013616, 'train_correct': 5842, 'train_error': 54158, 'train_acc': 0.09736666666666667, 'val_loss': 2.3743315029144285, 'val_correct': 982, 'val_error': 9018, 'val_acc': 0.0982}\n",
            "epoch: 25\n",
            "lrm: 4.522402449272777\n",
            "momentum: 0.5245490981963928\n",
            "{'epoch': 25, 'train_loss': 2.3516718316078187, 'train_correct': 5949, 'train_error': 54051, 'train_acc': 0.09915, 'val_loss': 2.347535181045532, 'val_correct': 1009, 'val_error': 8991, 'val_acc': 0.1009}\n",
            "epoch: 26\n",
            "lrm: 4.5040360627272635\n",
            "momentum: 0.5255310621242485\n",
            "{'epoch': 26, 'train_loss': 2.358070135116577, 'train_correct': 6265, 'train_error': 53735, 'train_acc': 0.10441666666666667, 'val_loss': 2.3586208391189576, 'val_correct': 1028, 'val_error': 8972, 'val_acc': 0.1028}\n",
            "epoch: 27\n",
            "lrm: 4.485725052118133\n",
            "momentum: 0.5265130260521043\n",
            "{'epoch': 27, 'train_loss': 2.3510903787612913, 'train_correct': 6265, 'train_error': 53735, 'train_acc': 0.10441666666666667, 'val_loss': 2.3530219078063963, 'val_correct': 1028, 'val_error': 8972, 'val_acc': 0.1028}\n",
            "epoch: 28\n",
            "lrm: 4.46746926940719\n",
            "momentum: 0.5274949899799599\n",
            "{'epoch': 28, 'train_loss': 2.385979018608729, 'train_correct': 5923, 'train_error': 54077, 'train_acc': 0.09871666666666666, 'val_loss': 2.3883523392677306, 'val_correct': 980, 'val_error': 9020, 'val_acc': 0.098}\n",
            "epoch: 29\n",
            "lrm: 4.4492685669268806\n",
            "momentum: 0.5284769539078157\n",
            "{'epoch': 29, 'train_loss': 2.326755239168803, 'train_correct': 5949, 'train_error': 54051, 'train_acc': 0.09915, 'val_loss': 2.325238375663757, 'val_correct': 1009, 'val_error': 8991, 'val_acc': 0.1009}\n",
            "epoch: 30\n",
            "lrm: 4.431122797379416\n",
            "momentum: 0.5294589178356713\n",
            "{'epoch': 30, 'train_loss': 2.3636066766579944, 'train_correct': 5842, 'train_error': 54158, 'train_acc': 0.09736666666666667, 'val_loss': 2.3640588402748106, 'val_correct': 982, 'val_error': 9018, 'val_acc': 0.0982}\n",
            "epoch: 31\n",
            "lrm: 4.413031813835873\n",
            "momentum: 0.5304408817635271\n",
            "{'epoch': 31, 'train_loss': 2.3859265351295473, 'train_correct': 5938, 'train_error': 54062, 'train_acc': 0.09896666666666666, 'val_loss': 2.388255751132965, 'val_correct': 958, 'val_error': 9042, 'val_acc': 0.0958}\n",
            "epoch: 32\n",
            "lrm: 4.394995469735315\n",
            "momentum: 0.5314228456913828\n",
            "{'epoch': 32, 'train_loss': 2.43450678507487, 'train_correct': 6265, 'train_error': 53735, 'train_acc': 0.10441666666666667, 'val_loss': 2.4339968729019166, 'val_correct': 1028, 'val_error': 8972, 'val_acc': 0.1028}\n",
            "epoch: 33\n",
            "lrm: 4.377013618883903\n",
            "momentum: 0.5324048096192385\n",
            "{'epoch': 33, 'train_loss': 2.3373108502229054, 'train_correct': 5958, 'train_error': 54042, 'train_acc': 0.0993, 'val_loss': 2.334817559719086, 'val_correct': 1032, 'val_error': 8968, 'val_acc': 0.1032}\n",
            "epoch: 34\n",
            "lrm: 4.359086115454019\n",
            "momentum: 0.5333867735470942\n",
            "{'epoch': 34, 'train_loss': 2.3703224432468413, 'train_correct': 5851, 'train_error': 54149, 'train_acc': 0.09751666666666667, 'val_loss': 2.3666097068786622, 'val_correct': 974, 'val_error': 9026, 'val_acc': 0.0974}\n",
            "epoch: 35\n",
            "lrm: 4.341212813983378\n",
            "momentum: 0.53436873747495\n",
            "{'epoch': 35, 'train_loss': 2.3413577282428744, 'train_correct': 6131, 'train_error': 53869, 'train_acc': 0.10218333333333333, 'val_loss': 2.3422591423988344, 'val_correct': 1010, 'val_error': 8990, 'val_acc': 0.101}\n",
            "epoch: 36\n",
            "lrm: 4.323393569374159\n",
            "momentum: 0.5353507014028056\n",
            "{'epoch': 36, 'train_loss': 2.350902865330378, 'train_correct': 5958, 'train_error': 54042, 'train_acc': 0.0993, 'val_loss': 2.3498318552970887, 'val_correct': 1032, 'val_error': 8968, 'val_acc': 0.1032}\n",
            "epoch: 37\n",
            "lrm: 4.305628236892119\n",
            "momentum: 0.5363326653306614\n",
            "{'epoch': 37, 'train_loss': 2.3829213492075603, 'train_correct': 5852, 'train_error': 54148, 'train_acc': 0.09753333333333333, 'val_loss': 2.38033921957016, 'val_correct': 974, 'val_error': 9026, 'val_acc': 0.0974}\n",
            "epoch: 38\n",
            "lrm: 4.287916672165731\n",
            "momentum: 0.537314629258517\n",
            "{'epoch': 38, 'train_loss': 2.372291612227758, 'train_correct': 5918, 'train_error': 54082, 'train_acc': 0.09863333333333334, 'val_loss': 2.3779496645927427, 'val_correct': 958, 'val_error': 9042, 'val_acc': 0.0958}\n",
            "epoch: 39\n",
            "lrm: 4.270258731185301\n",
            "momentum: 0.5382965931863728\n",
            "{'epoch': 39, 'train_loss': 2.369320840438207, 'train_correct': 6265, 'train_error': 53735, 'train_acc': 0.10441666666666667, 'val_loss': 2.3676053261756898, 'val_correct': 1028, 'val_error': 8972, 'val_acc': 0.1028}\n",
            "epoch: 40\n",
            "lrm: 4.252654270302104\n",
            "momentum: 0.5392785571142285\n",
            "{'epoch': 40, 'train_loss': 2.3551848797003427, 'train_correct': 6742, 'train_error': 53258, 'train_acc': 0.11236666666666667, 'val_loss': 2.355757040977478, 'val_correct': 1135, 'val_error': 8865, 'val_acc': 0.1135}\n"
          ]
        },
        {
          "output_type": "error",
          "ename": "KeyboardInterrupt",
          "evalue": "",
          "traceback": [
            "\u001b[0;31m---------------------------------------------------------------------------\u001b[0m",
            "\u001b[0;31mKeyboardInterrupt\u001b[0m                         Traceback (most recent call last)",
            "\u001b[0;32m<ipython-input-80-bb748ee61b57>\u001b[0m in \u001b[0;36m<cell line: 1>\u001b[0;34m()\u001b[0m\n\u001b[0;32m----> 1\u001b[0;31m \u001b[0moptimized_params\u001b[0m \u001b[0;34m=\u001b[0m \u001b[0mtrain\u001b[0m\u001b[0;34m(\u001b[0m\u001b[0mteacher\u001b[0m\u001b[0;34m,\u001b[0m\u001b[0mcriterion\u001b[0m\u001b[0;34m,\u001b[0m\u001b[0moptimizer\u001b[0m\u001b[0;34m,\u001b[0m\u001b[0mnum_epochs\u001b[0m\u001b[0;34m=\u001b[0m\u001b[0mnum_epochs\u001b[0m\u001b[0;34m)\u001b[0m\u001b[0;34m\u001b[0m\u001b[0;34m\u001b[0m\u001b[0m\n\u001b[0m",
            "\u001b[0;32m<ipython-input-69-6ffe2878c8a0>\u001b[0m in \u001b[0;36mtrain\u001b[0;34m(model, criterion, optimizer, num_epochs)\u001b[0m\n\u001b[1;32m     10\u001b[0m     \u001b[0mval_correct\u001b[0m \u001b[0;34m=\u001b[0m \u001b[0;36m0\u001b[0m\u001b[0;34m\u001b[0m\u001b[0;34m\u001b[0m\u001b[0m\n\u001b[1;32m     11\u001b[0m     \u001b[0mmodel\u001b[0m\u001b[0;34m.\u001b[0m\u001b[0mtrain\u001b[0m\u001b[0;34m(\u001b[0m\u001b[0;34m)\u001b[0m\u001b[0;34m\u001b[0m\u001b[0;34m\u001b[0m\u001b[0m\n\u001b[0;32m---> 12\u001b[0;31m     \u001b[0;32mfor\u001b[0m \u001b[0mx\u001b[0m\u001b[0;34m,\u001b[0m\u001b[0my\u001b[0m \u001b[0;32min\u001b[0m \u001b[0mtrain_loader\u001b[0m\u001b[0;34m:\u001b[0m\u001b[0;34m\u001b[0m\u001b[0;34m\u001b[0m\u001b[0m\n\u001b[0m\u001b[1;32m     13\u001b[0m       \u001b[0mx\u001b[0m \u001b[0;34m=\u001b[0m \u001b[0mx\u001b[0m\u001b[0;34m.\u001b[0m\u001b[0mto\u001b[0m\u001b[0;34m(\u001b[0m\u001b[0mdevice\u001b[0m\u001b[0;34m)\u001b[0m\u001b[0;34m\u001b[0m\u001b[0;34m\u001b[0m\u001b[0m\n\u001b[1;32m     14\u001b[0m       \u001b[0my\u001b[0m \u001b[0;34m=\u001b[0m \u001b[0my\u001b[0m\u001b[0;34m.\u001b[0m\u001b[0mto\u001b[0m\u001b[0;34m(\u001b[0m\u001b[0mdevice\u001b[0m\u001b[0;34m)\u001b[0m\u001b[0;34m\u001b[0m\u001b[0;34m\u001b[0m\u001b[0m\n",
            "\u001b[0;32m/usr/local/lib/python3.10/dist-packages/torch/utils/data/dataloader.py\u001b[0m in \u001b[0;36m__next__\u001b[0;34m(self)\u001b[0m\n\u001b[1;32m    699\u001b[0m                 \u001b[0;31m# TODO(https://github.com/pytorch/pytorch/issues/76750)\u001b[0m\u001b[0;34m\u001b[0m\u001b[0;34m\u001b[0m\u001b[0m\n\u001b[1;32m    700\u001b[0m                 \u001b[0mself\u001b[0m\u001b[0;34m.\u001b[0m\u001b[0m_reset\u001b[0m\u001b[0;34m(\u001b[0m\u001b[0;34m)\u001b[0m  \u001b[0;31m# type: ignore[call-arg]\u001b[0m\u001b[0;34m\u001b[0m\u001b[0;34m\u001b[0m\u001b[0m\n\u001b[0;32m--> 701\u001b[0;31m             \u001b[0mdata\u001b[0m \u001b[0;34m=\u001b[0m \u001b[0mself\u001b[0m\u001b[0;34m.\u001b[0m\u001b[0m_next_data\u001b[0m\u001b[0;34m(\u001b[0m\u001b[0;34m)\u001b[0m\u001b[0;34m\u001b[0m\u001b[0;34m\u001b[0m\u001b[0m\n\u001b[0m\u001b[1;32m    702\u001b[0m             \u001b[0mself\u001b[0m\u001b[0;34m.\u001b[0m\u001b[0m_num_yielded\u001b[0m \u001b[0;34m+=\u001b[0m \u001b[0;36m1\u001b[0m\u001b[0;34m\u001b[0m\u001b[0;34m\u001b[0m\u001b[0m\n\u001b[1;32m    703\u001b[0m             if (\n",
            "\u001b[0;32m/usr/local/lib/python3.10/dist-packages/torch/utils/data/dataloader.py\u001b[0m in \u001b[0;36m_next_data\u001b[0;34m(self)\u001b[0m\n\u001b[1;32m   1446\u001b[0m \u001b[0;34m\u001b[0m\u001b[0m\n\u001b[1;32m   1447\u001b[0m             \u001b[0;32massert\u001b[0m \u001b[0;32mnot\u001b[0m \u001b[0mself\u001b[0m\u001b[0;34m.\u001b[0m\u001b[0m_shutdown\u001b[0m \u001b[0;32mand\u001b[0m \u001b[0mself\u001b[0m\u001b[0;34m.\u001b[0m\u001b[0m_tasks_outstanding\u001b[0m \u001b[0;34m>\u001b[0m \u001b[0;36m0\u001b[0m\u001b[0;34m\u001b[0m\u001b[0;34m\u001b[0m\u001b[0m\n\u001b[0;32m-> 1448\u001b[0;31m             \u001b[0midx\u001b[0m\u001b[0;34m,\u001b[0m \u001b[0mdata\u001b[0m \u001b[0;34m=\u001b[0m \u001b[0mself\u001b[0m\u001b[0;34m.\u001b[0m\u001b[0m_get_data\u001b[0m\u001b[0;34m(\u001b[0m\u001b[0;34m)\u001b[0m\u001b[0;34m\u001b[0m\u001b[0;34m\u001b[0m\u001b[0m\n\u001b[0m\u001b[1;32m   1449\u001b[0m             \u001b[0mself\u001b[0m\u001b[0;34m.\u001b[0m\u001b[0m_tasks_outstanding\u001b[0m \u001b[0;34m-=\u001b[0m \u001b[0;36m1\u001b[0m\u001b[0;34m\u001b[0m\u001b[0;34m\u001b[0m\u001b[0m\n\u001b[1;32m   1450\u001b[0m             \u001b[0;32mif\u001b[0m \u001b[0mself\u001b[0m\u001b[0;34m.\u001b[0m\u001b[0m_dataset_kind\u001b[0m \u001b[0;34m==\u001b[0m \u001b[0m_DatasetKind\u001b[0m\u001b[0;34m.\u001b[0m\u001b[0mIterable\u001b[0m\u001b[0;34m:\u001b[0m\u001b[0;34m\u001b[0m\u001b[0;34m\u001b[0m\u001b[0m\n",
            "\u001b[0;32m/usr/local/lib/python3.10/dist-packages/torch/utils/data/dataloader.py\u001b[0m in \u001b[0;36m_get_data\u001b[0;34m(self)\u001b[0m\n\u001b[1;32m   1400\u001b[0m         \u001b[0;32melif\u001b[0m \u001b[0mself\u001b[0m\u001b[0;34m.\u001b[0m\u001b[0m_pin_memory\u001b[0m\u001b[0;34m:\u001b[0m\u001b[0;34m\u001b[0m\u001b[0;34m\u001b[0m\u001b[0m\n\u001b[1;32m   1401\u001b[0m             \u001b[0;32mwhile\u001b[0m \u001b[0mself\u001b[0m\u001b[0;34m.\u001b[0m\u001b[0m_pin_memory_thread\u001b[0m\u001b[0;34m.\u001b[0m\u001b[0mis_alive\u001b[0m\u001b[0;34m(\u001b[0m\u001b[0;34m)\u001b[0m\u001b[0;34m:\u001b[0m\u001b[0;34m\u001b[0m\u001b[0;34m\u001b[0m\u001b[0m\n\u001b[0;32m-> 1402\u001b[0;31m                 \u001b[0msuccess\u001b[0m\u001b[0;34m,\u001b[0m \u001b[0mdata\u001b[0m \u001b[0;34m=\u001b[0m \u001b[0mself\u001b[0m\u001b[0;34m.\u001b[0m\u001b[0m_try_get_data\u001b[0m\u001b[0;34m(\u001b[0m\u001b[0;34m)\u001b[0m\u001b[0;34m\u001b[0m\u001b[0;34m\u001b[0m\u001b[0m\n\u001b[0m\u001b[1;32m   1403\u001b[0m                 \u001b[0;32mif\u001b[0m \u001b[0msuccess\u001b[0m\u001b[0;34m:\u001b[0m\u001b[0;34m\u001b[0m\u001b[0;34m\u001b[0m\u001b[0m\n\u001b[1;32m   1404\u001b[0m                     \u001b[0;32mreturn\u001b[0m \u001b[0mdata\u001b[0m\u001b[0;34m\u001b[0m\u001b[0;34m\u001b[0m\u001b[0m\n",
            "\u001b[0;32m/usr/local/lib/python3.10/dist-packages/torch/utils/data/dataloader.py\u001b[0m in \u001b[0;36m_try_get_data\u001b[0;34m(self, timeout)\u001b[0m\n\u001b[1;32m   1241\u001b[0m         \u001b[0;31m#   (bool: whether successfully get data, any: data if successful else None)\u001b[0m\u001b[0;34m\u001b[0m\u001b[0;34m\u001b[0m\u001b[0m\n\u001b[1;32m   1242\u001b[0m         \u001b[0;32mtry\u001b[0m\u001b[0;34m:\u001b[0m\u001b[0;34m\u001b[0m\u001b[0;34m\u001b[0m\u001b[0m\n\u001b[0;32m-> 1243\u001b[0;31m             \u001b[0mdata\u001b[0m \u001b[0;34m=\u001b[0m \u001b[0mself\u001b[0m\u001b[0;34m.\u001b[0m\u001b[0m_data_queue\u001b[0m\u001b[0;34m.\u001b[0m\u001b[0mget\u001b[0m\u001b[0;34m(\u001b[0m\u001b[0mtimeout\u001b[0m\u001b[0;34m=\u001b[0m\u001b[0mtimeout\u001b[0m\u001b[0;34m)\u001b[0m\u001b[0;34m\u001b[0m\u001b[0;34m\u001b[0m\u001b[0m\n\u001b[0m\u001b[1;32m   1244\u001b[0m             \u001b[0;32mreturn\u001b[0m \u001b[0;34m(\u001b[0m\u001b[0;32mTrue\u001b[0m\u001b[0;34m,\u001b[0m \u001b[0mdata\u001b[0m\u001b[0;34m)\u001b[0m\u001b[0;34m\u001b[0m\u001b[0;34m\u001b[0m\u001b[0m\n\u001b[1;32m   1245\u001b[0m         \u001b[0;32mexcept\u001b[0m \u001b[0mException\u001b[0m \u001b[0;32mas\u001b[0m \u001b[0me\u001b[0m\u001b[0;34m:\u001b[0m\u001b[0;34m\u001b[0m\u001b[0;34m\u001b[0m\u001b[0m\n",
            "\u001b[0;32m/usr/lib/python3.10/queue.py\u001b[0m in \u001b[0;36mget\u001b[0;34m(self, block, timeout)\u001b[0m\n\u001b[1;32m    178\u001b[0m                     \u001b[0;32mif\u001b[0m \u001b[0mremaining\u001b[0m \u001b[0;34m<=\u001b[0m \u001b[0;36m0.0\u001b[0m\u001b[0;34m:\u001b[0m\u001b[0;34m\u001b[0m\u001b[0;34m\u001b[0m\u001b[0m\n\u001b[1;32m    179\u001b[0m                         \u001b[0;32mraise\u001b[0m \u001b[0mEmpty\u001b[0m\u001b[0;34m\u001b[0m\u001b[0;34m\u001b[0m\u001b[0m\n\u001b[0;32m--> 180\u001b[0;31m                     \u001b[0mself\u001b[0m\u001b[0;34m.\u001b[0m\u001b[0mnot_empty\u001b[0m\u001b[0;34m.\u001b[0m\u001b[0mwait\u001b[0m\u001b[0;34m(\u001b[0m\u001b[0mremaining\u001b[0m\u001b[0;34m)\u001b[0m\u001b[0;34m\u001b[0m\u001b[0;34m\u001b[0m\u001b[0m\n\u001b[0m\u001b[1;32m    181\u001b[0m             \u001b[0mitem\u001b[0m \u001b[0;34m=\u001b[0m \u001b[0mself\u001b[0m\u001b[0;34m.\u001b[0m\u001b[0m_get\u001b[0m\u001b[0;34m(\u001b[0m\u001b[0;34m)\u001b[0m\u001b[0;34m\u001b[0m\u001b[0;34m\u001b[0m\u001b[0m\n\u001b[1;32m    182\u001b[0m             \u001b[0mself\u001b[0m\u001b[0;34m.\u001b[0m\u001b[0mnot_full\u001b[0m\u001b[0;34m.\u001b[0m\u001b[0mnotify\u001b[0m\u001b[0;34m(\u001b[0m\u001b[0;34m)\u001b[0m\u001b[0;34m\u001b[0m\u001b[0;34m\u001b[0m\u001b[0m\n",
            "\u001b[0;32m/usr/lib/python3.10/threading.py\u001b[0m in \u001b[0;36mwait\u001b[0;34m(self, timeout)\u001b[0m\n\u001b[1;32m    322\u001b[0m             \u001b[0;32melse\u001b[0m\u001b[0;34m:\u001b[0m\u001b[0;34m\u001b[0m\u001b[0;34m\u001b[0m\u001b[0m\n\u001b[1;32m    323\u001b[0m                 \u001b[0;32mif\u001b[0m \u001b[0mtimeout\u001b[0m \u001b[0;34m>\u001b[0m \u001b[0;36m0\u001b[0m\u001b[0;34m:\u001b[0m\u001b[0;34m\u001b[0m\u001b[0;34m\u001b[0m\u001b[0m\n\u001b[0;32m--> 324\u001b[0;31m                     \u001b[0mgotit\u001b[0m \u001b[0;34m=\u001b[0m \u001b[0mwaiter\u001b[0m\u001b[0;34m.\u001b[0m\u001b[0macquire\u001b[0m\u001b[0;34m(\u001b[0m\u001b[0;32mTrue\u001b[0m\u001b[0;34m,\u001b[0m \u001b[0mtimeout\u001b[0m\u001b[0;34m)\u001b[0m\u001b[0;34m\u001b[0m\u001b[0;34m\u001b[0m\u001b[0m\n\u001b[0m\u001b[1;32m    325\u001b[0m                 \u001b[0;32melse\u001b[0m\u001b[0;34m:\u001b[0m\u001b[0;34m\u001b[0m\u001b[0;34m\u001b[0m\u001b[0m\n\u001b[1;32m    326\u001b[0m                     \u001b[0mgotit\u001b[0m \u001b[0;34m=\u001b[0m \u001b[0mwaiter\u001b[0m\u001b[0;34m.\u001b[0m\u001b[0macquire\u001b[0m\u001b[0;34m(\u001b[0m\u001b[0;32mFalse\u001b[0m\u001b[0;34m)\u001b[0m\u001b[0;34m\u001b[0m\u001b[0;34m\u001b[0m\u001b[0m\n",
            "\u001b[0;31mKeyboardInterrupt\u001b[0m: "
          ]
        }
      ]
    },
    {
      "cell_type": "code",
      "source": [
        "optimized_params = copy.deepcopy(teacher.state_dict())"
      ],
      "metadata": {
        "id": "owJJ-SQYhFJ9"
      },
      "execution_count": null,
      "outputs": []
    },
    {
      "cell_type": "code",
      "source": [
        "#SGD, lr=0.01, momentum=0.9 , Input Dropout=20%\n",
        "optimized_params = train(teacher,criterion,optimizer,num_epochs=num_epochs)"
      ],
      "metadata": {
        "colab": {
          "base_uri": "https://localhost:8080/"
        },
        "id": "bRoxVFfwOoZA",
        "outputId": "7db8ac29-513c-4792-f681-9400af39ffc2"
      },
      "execution_count": null,
      "outputs": [
        {
          "output_type": "stream",
          "name": "stdout",
          "text": [
            "{'epoch': 1, 'train_loss': 0.6983546553055445, 'train_correct': 47338, 'train_error': 12662, 'train_acc': 0.7889666666666667, 'val_loss': 0.6630761915445328, 'val_correct': 7982, 'val_error': 2018, 'val_acc': 0.7982}\n",
            "{'epoch': 2, 'train_loss': 0.29941678803414107, 'train_correct': 54841, 'train_error': 5159, 'train_acc': 0.9140166666666667, 'val_loss': 0.2748346263170242, 'val_correct': 9221, 'val_error': 779, 'val_acc': 0.9221}\n",
            "{'epoch': 3, 'train_loss': 0.20368177607655524, 'train_correct': 56452, 'train_error': 3548, 'train_acc': 0.9408666666666666, 'val_loss': 0.18964646756649017, 'val_correct': 9436, 'val_error': 564, 'val_acc': 0.9436}\n",
            "{'epoch': 4, 'train_loss': 0.17250994903345904, 'train_correct': 56972, 'train_error': 3028, 'train_acc': 0.9495333333333333, 'val_loss': 0.16292740676552056, 'val_correct': 9486, 'val_error': 514, 'val_acc': 0.9486}\n",
            "{'epoch': 5, 'train_loss': 0.14088090778018036, 'train_correct': 57507, 'train_error': 2493, 'train_acc': 0.95845, 'val_loss': 0.13272601291537284, 'val_correct': 9600, 'val_error': 400, 'val_acc': 0.96}\n",
            "{'epoch': 6, 'train_loss': 0.1273426321024696, 'train_correct': 57754, 'train_error': 2246, 'train_acc': 0.9625666666666667, 'val_loss': 0.12219059154391289, 'val_correct': 9631, 'val_error': 369, 'val_acc': 0.9631}\n",
            "{'epoch': 7, 'train_loss': 0.11561400879795353, 'train_correct': 57887, 'train_error': 2113, 'train_acc': 0.9647833333333333, 'val_loss': 0.11241349592804908, 'val_correct': 9651, 'val_error': 349, 'val_acc': 0.9651}\n",
            "{'epoch': 8, 'train_loss': 0.10779606703979273, 'train_correct': 58051, 'train_error': 1949, 'train_acc': 0.9675166666666667, 'val_loss': 0.10233868923038245, 'val_correct': 9687, 'val_error': 313, 'val_acc': 0.9687}\n",
            "{'epoch': 9, 'train_loss': 0.09648590684557955, 'train_correct': 58269, 'train_error': 1731, 'train_acc': 0.97115, 'val_loss': 0.08781372375786305, 'val_correct': 9715, 'val_error': 285, 'val_acc': 0.9715}\n",
            "{'epoch': 10, 'train_loss': 0.09002020572312176, 'train_correct': 58340, 'train_error': 1660, 'train_acc': 0.9723333333333334, 'val_loss': 0.08799287894740701, 'val_correct': 9741, 'val_error': 259, 'val_acc': 0.9741}\n",
            "{'epoch': 11, 'train_loss': 0.08775124657588701, 'train_correct': 58450, 'train_error': 1550, 'train_acc': 0.9741666666666666, 'val_loss': 0.08143620835617185, 'val_correct': 9740, 'val_error': 260, 'val_acc': 0.974}\n",
            "{'epoch': 12, 'train_loss': 0.08192630535379673, 'train_correct': 58519, 'train_error': 1481, 'train_acc': 0.9753166666666667, 'val_loss': 0.07468375308439136, 'val_correct': 9754, 'val_error': 246, 'val_acc': 0.9754}\n",
            "{'epoch': 13, 'train_loss': 0.08069513440597803, 'train_correct': 58550, 'train_error': 1450, 'train_acc': 0.9758333333333333, 'val_loss': 0.07655743998475373, 'val_correct': 9747, 'val_error': 253, 'val_acc': 0.9747}\n",
            "{'epoch': 14, 'train_loss': 0.07853196112128595, 'train_correct': 58560, 'train_error': 1440, 'train_acc': 0.976, 'val_loss': 0.0732405464630574, 'val_correct': 9759, 'val_error': 241, 'val_acc': 0.9759}\n",
            "{'epoch': 15, 'train_loss': 0.07509270158906778, 'train_correct': 58628, 'train_error': 1372, 'train_acc': 0.9771333333333333, 'val_loss': 0.07155014692805707, 'val_correct': 9781, 'val_error': 219, 'val_acc': 0.9781}\n",
            "{'epoch': 16, 'train_loss': 0.07000913009047509, 'train_correct': 58694, 'train_error': 1306, 'train_acc': 0.9782333333333333, 'val_loss': 0.06763985947705806, 'val_correct': 9782, 'val_error': 218, 'val_acc': 0.9782}\n",
            "{'epoch': 17, 'train_loss': 0.06690980549746503, 'train_correct': 58752, 'train_error': 1248, 'train_acc': 0.9792, 'val_loss': 0.06782414972782135, 'val_correct': 9781, 'val_error': 219, 'val_acc': 0.9781}\n",
            "{'epoch': 18, 'train_loss': 0.0664322038499328, 'train_correct': 58787, 'train_error': 1213, 'train_acc': 0.9797833333333333, 'val_loss': 0.06456409701146186, 'val_correct': 9785, 'val_error': 215, 'val_acc': 0.9785}\n",
            "{'epoch': 19, 'train_loss': 0.06450008115575959, 'train_correct': 58790, 'train_error': 1210, 'train_acc': 0.9798333333333333, 'val_loss': 0.06364984316751361, 'val_correct': 9788, 'val_error': 212, 'val_acc': 0.9788}\n",
            "{'epoch': 20, 'train_loss': 0.06286381141515449, 'train_correct': 58841, 'train_error': 1159, 'train_acc': 0.9806833333333334, 'val_loss': 0.060327007500454784, 'val_correct': 9800, 'val_error': 200, 'val_acc': 0.98}\n",
            "{'epoch': 21, 'train_loss': 0.06085586318590989, 'train_correct': 58851, 'train_error': 1149, 'train_acc': 0.98085, 'val_loss': 0.05997302750125527, 'val_correct': 9797, 'val_error': 203, 'val_acc': 0.9797}\n",
            "{'epoch': 22, 'train_loss': 0.05879277208897596, 'train_correct': 58884, 'train_error': 1116, 'train_acc': 0.9814, 'val_loss': 0.05805675973184407, 'val_correct': 9809, 'val_error': 191, 'val_acc': 0.9809}\n",
            "{'epoch': 23, 'train_loss': 0.05702898969485735, 'train_correct': 58935, 'train_error': 1065, 'train_acc': 0.98225, 'val_loss': 0.05511498473584652, 'val_correct': 9817, 'val_error': 183, 'val_acc': 0.9817}\n",
            "{'epoch': 24, 'train_loss': 0.05675538489439835, 'train_correct': 58914, 'train_error': 1086, 'train_acc': 0.9819, 'val_loss': 0.05876815665513277, 'val_correct': 9805, 'val_error': 195, 'val_acc': 0.9805}\n",
            "{'epoch': 25, 'train_loss': 0.0528238884305271, 'train_correct': 59015, 'train_error': 985, 'train_acc': 0.9835833333333334, 'val_loss': 0.05472577658481896, 'val_correct': 9830, 'val_error': 170, 'val_acc': 0.983}\n",
            "{'epoch': 26, 'train_loss': 0.05420180553880831, 'train_correct': 58979, 'train_error': 1021, 'train_acc': 0.9829833333333333, 'val_loss': 0.053577935164794324, 'val_correct': 9824, 'val_error': 176, 'val_acc': 0.9824}\n",
            "{'epoch': 27, 'train_loss': 0.0545712108638448, 'train_correct': 59001, 'train_error': 999, 'train_acc': 0.98335, 'val_loss': 0.053771391147747635, 'val_correct': 9839, 'val_error': 161, 'val_acc': 0.9839}\n",
            "{'epoch': 28, 'train_loss': 0.050958488765948766, 'train_correct': 59029, 'train_error': 971, 'train_acc': 0.9838166666666667, 'val_loss': 0.05316798598039895, 'val_correct': 9826, 'val_error': 174, 'val_acc': 0.9826}\n",
            "{'epoch': 29, 'train_loss': 0.0516378747827063, 'train_correct': 59005, 'train_error': 995, 'train_acc': 0.9834166666666667, 'val_loss': 0.051266659684479236, 'val_correct': 9838, 'val_error': 162, 'val_acc': 0.9838}\n",
            "{'epoch': 30, 'train_loss': 0.050938980788147695, 'train_correct': 59046, 'train_error': 954, 'train_acc': 0.9841, 'val_loss': 0.048186764712445436, 'val_correct': 9843, 'val_error': 157, 'val_acc': 0.9843}\n",
            "{'epoch': 31, 'train_loss': 0.049450195040553806, 'train_correct': 59079, 'train_error': 921, 'train_acc': 0.98465, 'val_loss': 0.05403409044258296, 'val_correct': 9822, 'val_error': 178, 'val_acc': 0.9822}\n",
            "{'epoch': 32, 'train_loss': 0.04866137846159593, 'train_correct': 59119, 'train_error': 881, 'train_acc': 0.9853166666666666, 'val_loss': 0.05054533232934773, 'val_correct': 9851, 'val_error': 149, 'val_acc': 0.9851}\n",
            "{'epoch': 33, 'train_loss': 0.047053124381539725, 'train_correct': 59121, 'train_error': 879, 'train_acc': 0.98535, 'val_loss': 0.045767997964285316, 'val_correct': 9861, 'val_error': 139, 'val_acc': 0.9861}\n",
            "{'epoch': 34, 'train_loss': 0.04871931048110127, 'train_correct': 59059, 'train_error': 941, 'train_acc': 0.9843166666666666, 'val_loss': 0.04873201194219291, 'val_correct': 9834, 'val_error': 166, 'val_acc': 0.9834}\n",
            "{'epoch': 35, 'train_loss': 0.046677642973760765, 'train_correct': 59122, 'train_error': 878, 'train_acc': 0.9853666666666666, 'val_loss': 0.04956443684641272, 'val_correct': 9848, 'val_error': 152, 'val_acc': 0.9848}\n",
            "{'epoch': 36, 'train_loss': 0.04679832809759925, 'train_correct': 59116, 'train_error': 884, 'train_acc': 0.9852666666666666, 'val_loss': 0.0478024641610682, 'val_correct': 9850, 'val_error': 150, 'val_acc': 0.985}\n",
            "{'epoch': 37, 'train_loss': 0.04341285629780032, 'train_correct': 59165, 'train_error': 835, 'train_acc': 0.9860833333333333, 'val_loss': 0.045422854498028756, 'val_correct': 9844, 'val_error': 156, 'val_acc': 0.9844}\n",
            "{'epoch': 38, 'train_loss': 0.044564588541009774, 'train_correct': 59175, 'train_error': 825, 'train_acc': 0.98625, 'val_loss': 0.04732755344361067, 'val_correct': 9843, 'val_error': 157, 'val_acc': 0.9843}\n",
            "{'epoch': 39, 'train_loss': 0.04516713332113189, 'train_correct': 59158, 'train_error': 842, 'train_acc': 0.9859666666666667, 'val_loss': 0.04948804962914437, 'val_correct': 9847, 'val_error': 153, 'val_acc': 0.9847}\n",
            "{'epoch': 40, 'train_loss': 0.042118594284402205, 'train_correct': 59227, 'train_error': 773, 'train_acc': 0.9871166666666666, 'val_loss': 0.04685171579010785, 'val_correct': 9856, 'val_error': 144, 'val_acc': 0.9856}\n",
            "{'epoch': 41, 'train_loss': 0.043384711093191676, 'train_correct': 59217, 'train_error': 783, 'train_acc': 0.98695, 'val_loss': 0.043250577412545683, 'val_correct': 9859, 'val_error': 141, 'val_acc': 0.9859}\n",
            "{'epoch': 42, 'train_loss': 0.042116313361329955, 'train_correct': 59235, 'train_error': 765, 'train_acc': 0.98725, 'val_loss': 0.04281800088007003, 'val_correct': 9856, 'val_error': 144, 'val_acc': 0.9856}\n",
            "{'epoch': 43, 'train_loss': 0.04296164986444637, 'train_correct': 59190, 'train_error': 810, 'train_acc': 0.9865, 'val_loss': 0.04737196615664288, 'val_correct': 9844, 'val_error': 156, 'val_acc': 0.9844}\n",
            "{'epoch': 44, 'train_loss': 0.041739445074150956, 'train_correct': 59208, 'train_error': 792, 'train_acc': 0.9868, 'val_loss': 0.04292645125417039, 'val_correct': 9862, 'val_error': 138, 'val_acc': 0.9862}\n",
            "{'epoch': 45, 'train_loss': 0.04054242278138796, 'train_correct': 59245, 'train_error': 755, 'train_acc': 0.9874166666666667, 'val_loss': 0.04490009552799165, 'val_correct': 9855, 'val_error': 145, 'val_acc': 0.9855}\n",
            "{'epoch': 46, 'train_loss': 0.03849219358487365, 'train_correct': 59276, 'train_error': 724, 'train_acc': 0.9879333333333333, 'val_loss': 0.04404106720816344, 'val_correct': 9857, 'val_error': 143, 'val_acc': 0.9857}\n",
            "{'epoch': 47, 'train_loss': 0.04036444036639295, 'train_correct': 59269, 'train_error': 731, 'train_acc': 0.9878166666666667, 'val_loss': 0.04577963272109628, 'val_correct': 9859, 'val_error': 141, 'val_acc': 0.9859}\n",
            "{'epoch': 48, 'train_loss': 0.03768488718662411, 'train_correct': 59287, 'train_error': 713, 'train_acc': 0.9881166666666666, 'val_loss': 0.04022034116089344, 'val_correct': 9864, 'val_error': 136, 'val_acc': 0.9864}\n",
            "{'epoch': 49, 'train_loss': 0.03905313852902812, 'train_correct': 59261, 'train_error': 739, 'train_acc': 0.9876833333333334, 'val_loss': 0.043675700129242614, 'val_correct': 9855, 'val_error': 145, 'val_acc': 0.9855}\n",
            "{'epoch': 50, 'train_loss': 0.038448422066867355, 'train_correct': 59275, 'train_error': 725, 'train_acc': 0.9879166666666667, 'val_loss': 0.03995739187579602, 'val_correct': 9861, 'val_error': 139, 'val_acc': 0.9861}\n",
            "{'epoch': 51, 'train_loss': 0.03833706477792778, 'train_correct': 59277, 'train_error': 723, 'train_acc': 0.98795, 'val_loss': 0.04105654912535101, 'val_correct': 9873, 'val_error': 127, 'val_acc': 0.9873}\n",
            "{'epoch': 52, 'train_loss': 0.03796587009448558, 'train_correct': 59301, 'train_error': 699, 'train_acc': 0.98835, 'val_loss': 0.03985559499822557, 'val_correct': 9884, 'val_error': 116, 'val_acc': 0.9884}\n",
            "{'epoch': 53, 'train_loss': 0.03633361766774518, 'train_correct': 59316, 'train_error': 684, 'train_acc': 0.9886, 'val_loss': 0.039977594120427964, 'val_correct': 9867, 'val_error': 133, 'val_acc': 0.9867}\n",
            "{'epoch': 54, 'train_loss': 0.037942550053703596, 'train_correct': 59278, 'train_error': 722, 'train_acc': 0.9879666666666667, 'val_loss': 0.040300673115998505, 'val_correct': 9862, 'val_error': 138, 'val_acc': 0.9862}\n",
            "{'epoch': 55, 'train_loss': 0.036018795546454686, 'train_correct': 59328, 'train_error': 672, 'train_acc': 0.9888, 'val_loss': 0.040352363456040624, 'val_correct': 9866, 'val_error': 134, 'val_acc': 0.9866}\n",
            "{'epoch': 56, 'train_loss': 0.035993575293105096, 'train_correct': 59331, 'train_error': 669, 'train_acc': 0.98885, 'val_loss': 0.039564858148805795, 'val_correct': 9870, 'val_error': 130, 'val_acc': 0.987}\n",
            "{'epoch': 57, 'train_loss': 0.035287591144830606, 'train_correct': 59333, 'train_error': 667, 'train_acc': 0.9888833333333333, 'val_loss': 0.03988177101360634, 'val_correct': 9875, 'val_error': 125, 'val_acc': 0.9875}\n",
            "{'epoch': 58, 'train_loss': 0.034544571101820715, 'train_correct': 59359, 'train_error': 641, 'train_acc': 0.9893166666666666, 'val_loss': 0.03925637073814869, 'val_correct': 9871, 'val_error': 129, 'val_acc': 0.9871}\n",
            "{'epoch': 59, 'train_loss': 0.03398948686818282, 'train_correct': 59354, 'train_error': 646, 'train_acc': 0.9892333333333333, 'val_loss': 0.040535256159491835, 'val_correct': 9872, 'val_error': 128, 'val_acc': 0.9872}\n",
            "{'epoch': 60, 'train_loss': 0.03450208485223508, 'train_correct': 59355, 'train_error': 645, 'train_acc': 0.98925, 'val_loss': 0.03899711139732972, 'val_correct': 9866, 'val_error': 134, 'val_acc': 0.9866}\n",
            "{'epoch': 61, 'train_loss': 0.03339854531436382, 'train_correct': 59383, 'train_error': 617, 'train_acc': 0.9897166666666667, 'val_loss': 0.03942976781632751, 'val_correct': 9867, 'val_error': 133, 'val_acc': 0.9867}\n",
            "{'epoch': 62, 'train_loss': 0.034506324520528625, 'train_correct': 59332, 'train_error': 668, 'train_acc': 0.9888666666666667, 'val_loss': 0.04115037538576871, 'val_correct': 9866, 'val_error': 134, 'val_acc': 0.9866}\n",
            "{'epoch': 63, 'train_loss': 0.033031322702687854, 'train_correct': 59389, 'train_error': 611, 'train_acc': 0.9898166666666667, 'val_loss': 0.03725048102904111, 'val_correct': 9883, 'val_error': 117, 'val_acc': 0.9883}\n",
            "{'epoch': 64, 'train_loss': 0.03310011442207421, 'train_correct': 59394, 'train_error': 606, 'train_acc': 0.9899, 'val_loss': 0.03966698965057731, 'val_correct': 9867, 'val_error': 133, 'val_acc': 0.9867}\n",
            "{'epoch': 65, 'train_loss': 0.03304786070385793, 'train_correct': 59385, 'train_error': 615, 'train_acc': 0.98975, 'val_loss': 0.03885430310387164, 'val_correct': 9872, 'val_error': 128, 'val_acc': 0.9872}\n",
            "{'epoch': 66, 'train_loss': 0.030879515908891333, 'train_correct': 59425, 'train_error': 575, 'train_acc': 0.9904166666666666, 'val_loss': 0.04009252548916265, 'val_correct': 9870, 'val_error': 130, 'val_acc': 0.987}\n",
            "{'epoch': 67, 'train_loss': 0.03160601821107169, 'train_correct': 59414, 'train_error': 586, 'train_acc': 0.9902333333333333, 'val_loss': 0.03748987515224144, 'val_correct': 9870, 'val_error': 130, 'val_acc': 0.987}\n",
            "{'epoch': 68, 'train_loss': 0.032607296952046456, 'train_correct': 59408, 'train_error': 592, 'train_acc': 0.9901333333333333, 'val_loss': 0.03761940142372623, 'val_correct': 9874, 'val_error': 126, 'val_acc': 0.9874}\n",
            "{'epoch': 69, 'train_loss': 0.03090687491814606, 'train_correct': 59435, 'train_error': 565, 'train_acc': 0.9905833333333334, 'val_loss': 0.03925873073050752, 'val_correct': 9872, 'val_error': 128, 'val_acc': 0.9872}\n",
            "{'epoch': 70, 'train_loss': 0.030476002307453502, 'train_correct': 59447, 'train_error': 553, 'train_acc': 0.9907833333333333, 'val_loss': 0.04019020724575967, 'val_correct': 9868, 'val_error': 132, 'val_acc': 0.9868}\n",
            "{'epoch': 71, 'train_loss': 0.031087670808580395, 'train_correct': 59445, 'train_error': 555, 'train_acc': 0.99075, 'val_loss': 0.03838314712163992, 'val_correct': 9872, 'val_error': 128, 'val_acc': 0.9872}\n",
            "{'epoch': 72, 'train_loss': 0.031192703263562483, 'train_correct': 59407, 'train_error': 593, 'train_acc': 0.9901166666666666, 'val_loss': 0.03632526134140789, 'val_correct': 9877, 'val_error': 123, 'val_acc': 0.9877}\n",
            "{'epoch': 73, 'train_loss': 0.031100523005976963, 'train_correct': 59399, 'train_error': 601, 'train_acc': 0.9899833333333333, 'val_loss': 0.03680959057528525, 'val_correct': 9874, 'val_error': 126, 'val_acc': 0.9874}\n",
            "{'epoch': 74, 'train_loss': 0.02921228969527874, 'train_correct': 59447, 'train_error': 553, 'train_acc': 0.9907833333333333, 'val_loss': 0.035232022649142894, 'val_correct': 9893, 'val_error': 107, 'val_acc': 0.9893}\n",
            "{'epoch': 75, 'train_loss': 0.030076864970033056, 'train_correct': 59431, 'train_error': 569, 'train_acc': 0.9905166666666667, 'val_loss': 0.03727590787922964, 'val_correct': 9884, 'val_error': 116, 'val_acc': 0.9884}\n",
            "{'epoch': 76, 'train_loss': 0.031076037554303184, 'train_correct': 59417, 'train_error': 583, 'train_acc': 0.9902833333333333, 'val_loss': 0.03712442992022261, 'val_correct': 9893, 'val_error': 107, 'val_acc': 0.9893}\n",
            "{'epoch': 77, 'train_loss': 0.02913843592570629, 'train_correct': 59477, 'train_error': 523, 'train_acc': 0.9912833333333333, 'val_loss': 0.03638188989367336, 'val_correct': 9874, 'val_error': 126, 'val_acc': 0.9874}\n",
            "{'epoch': 78, 'train_loss': 0.030128928100457416, 'train_correct': 59442, 'train_error': 558, 'train_acc': 0.9907, 'val_loss': 0.03751871531130746, 'val_correct': 9869, 'val_error': 131, 'val_acc': 0.9869}\n",
            "{'epoch': 79, 'train_loss': 0.029957670189905913, 'train_correct': 59457, 'train_error': 543, 'train_acc': 0.99095, 'val_loss': 0.03774029918480665, 'val_correct': 9872, 'val_error': 128, 'val_acc': 0.9872}\n",
            "{'epoch': 80, 'train_loss': 0.029153759925587414, 'train_correct': 59422, 'train_error': 578, 'train_acc': 0.9903666666666666, 'val_loss': 0.03709124384680763, 'val_correct': 9881, 'val_error': 119, 'val_acc': 0.9881}\n",
            "{'epoch': 81, 'train_loss': 0.02750367785706961, 'train_correct': 59504, 'train_error': 496, 'train_acc': 0.9917333333333334, 'val_loss': 0.032557355118915436, 'val_correct': 9901, 'val_error': 99, 'val_acc': 0.9901}\n",
            "{'epoch': 82, 'train_loss': 0.028703347927851914, 'train_correct': 59442, 'train_error': 558, 'train_acc': 0.9907, 'val_loss': 0.03402828108053654, 'val_correct': 9893, 'val_error': 107, 'val_acc': 0.9893}\n",
            "{'epoch': 83, 'train_loss': 0.029292257810011504, 'train_correct': 59462, 'train_error': 538, 'train_acc': 0.9910333333333333, 'val_loss': 0.03647735136095434, 'val_correct': 9881, 'val_error': 119, 'val_acc': 0.9881}\n",
            "{'epoch': 84, 'train_loss': 0.02846452771880043, 'train_correct': 59476, 'train_error': 524, 'train_acc': 0.9912666666666666, 'val_loss': 0.03323054922861047, 'val_correct': 9894, 'val_error': 106, 'val_acc': 0.9894}\n",
            "{'epoch': 85, 'train_loss': 0.028079275651834906, 'train_correct': 59475, 'train_error': 525, 'train_acc': 0.99125, 'val_loss': 0.034213050971739, 'val_correct': 9884, 'val_error': 116, 'val_acc': 0.9884}\n",
            "{'epoch': 86, 'train_loss': 0.028001006870763376, 'train_correct': 59495, 'train_error': 505, 'train_acc': 0.9915833333333334, 'val_loss': 0.03337553322082385, 'val_correct': 9887, 'val_error': 113, 'val_acc': 0.9887}\n",
            "{'epoch': 87, 'train_loss': 0.02764910179578389, 'train_correct': 59482, 'train_error': 518, 'train_acc': 0.9913666666666666, 'val_loss': 0.035739652602933346, 'val_correct': 9881, 'val_error': 119, 'val_acc': 0.9881}\n",
            "{'epoch': 88, 'train_loss': 0.028182779701795273, 'train_correct': 59474, 'train_error': 526, 'train_acc': 0.9912333333333333, 'val_loss': 0.03472277116496116, 'val_correct': 9881, 'val_error': 119, 'val_acc': 0.9881}\n",
            "{'epoch': 89, 'train_loss': 0.027199268530433376, 'train_correct': 59498, 'train_error': 502, 'train_acc': 0.9916333333333334, 'val_loss': 0.03570672422880307, 'val_correct': 9890, 'val_error': 110, 'val_acc': 0.989}\n",
            "{'epoch': 90, 'train_loss': 0.027639081386538842, 'train_correct': 59497, 'train_error': 503, 'train_acc': 0.9916166666666667, 'val_loss': 0.03804559130454436, 'val_correct': 9885, 'val_error': 115, 'val_acc': 0.9885}\n",
            "{'epoch': 91, 'train_loss': 0.02659773562035601, 'train_correct': 59506, 'train_error': 494, 'train_acc': 0.9917666666666667, 'val_loss': 0.03357499281410128, 'val_correct': 9888, 'val_error': 112, 'val_acc': 0.9888}\n",
            "{'epoch': 92, 'train_loss': 0.0266218862515719, 'train_correct': 59510, 'train_error': 490, 'train_acc': 0.9918333333333333, 'val_loss': 0.034573302557691935, 'val_correct': 9887, 'val_error': 113, 'val_acc': 0.9887}\n",
            "{'epoch': 93, 'train_loss': 0.026816632837289946, 'train_correct': 59509, 'train_error': 491, 'train_acc': 0.9918166666666667, 'val_loss': 0.03289612493943423, 'val_correct': 9884, 'val_error': 116, 'val_acc': 0.9884}\n",
            "{'epoch': 94, 'train_loss': 0.026282762806707372, 'train_correct': 59536, 'train_error': 464, 'train_acc': 0.9922666666666666, 'val_loss': 0.034052372346632186, 'val_correct': 9888, 'val_error': 112, 'val_acc': 0.9888}\n",
            "{'epoch': 95, 'train_loss': 0.02675470703029229, 'train_correct': 59486, 'train_error': 514, 'train_acc': 0.9914333333333334, 'val_loss': 0.03477288403082639, 'val_correct': 9885, 'val_error': 115, 'val_acc': 0.9885}\n",
            "{'epoch': 96, 'train_loss': 0.026655659155803733, 'train_correct': 59532, 'train_error': 468, 'train_acc': 0.9922, 'val_loss': 0.033242958609480414, 'val_correct': 9892, 'val_error': 108, 'val_acc': 0.9892}\n",
            "{'epoch': 97, 'train_loss': 0.025415064352176463, 'train_correct': 59530, 'train_error': 470, 'train_acc': 0.9921666666666666, 'val_loss': 0.03467505412525498, 'val_correct': 9876, 'val_error': 124, 'val_acc': 0.9876}\n",
            "{'epoch': 98, 'train_loss': 0.025057475253512772, 'train_correct': 59550, 'train_error': 450, 'train_acc': 0.9925, 'val_loss': 0.03222592912614346, 'val_correct': 9889, 'val_error': 111, 'val_acc': 0.9889}\n",
            "{'epoch': 99, 'train_loss': 0.025655540832667613, 'train_correct': 59510, 'train_error': 490, 'train_acc': 0.9918333333333333, 'val_loss': 0.031265027332119645, 'val_correct': 9891, 'val_error': 109, 'val_acc': 0.9891}\n",
            "{'epoch': 100, 'train_loss': 0.02426487816410372, 'train_correct': 59552, 'train_error': 448, 'train_acc': 0.9925333333333334, 'val_loss': 0.032156635157298295, 'val_correct': 9893, 'val_error': 107, 'val_acc': 0.9893}\n",
            "time: 2943.5936307907104\n"
          ]
        }
      ]
    },
    {
      "cell_type": "code",
      "source": [
        "#SGD, lr=0.01, no momentum, Input Dropout=20%\n",
        "optimized_params = train(teacher,criterion,optimizer,num_epochs=num_epochs)"
      ],
      "metadata": {
        "colab": {
          "base_uri": "https://localhost:8080/"
        },
        "id": "mk5Wpj2m-Hqq",
        "outputId": "b263c35f-b332-46e5-a87f-c02f89910973"
      },
      "execution_count": null,
      "outputs": [
        {
          "output_type": "stream",
          "name": "stdout",
          "text": [
            "{'epoch': 1, 'train_loss': 2.274973742167155, 'train_correct': 19448, 'train_error': 40552, 'train_acc': 0.32413333333333333, 'val_loss': 2.2743730330467224, 'val_correct': 3302, 'val_error': 6698, 'val_acc': 0.3302}\n",
            "{'epoch': 2, 'train_loss': 2.1015995657444, 'train_correct': 23088, 'train_error': 36912, 'train_acc': 0.3848, 'val_loss': 2.097918231487274, 'val_correct': 3962, 'val_error': 6038, 'val_acc': 0.3962}\n",
            "{'epoch': 3, 'train_loss': 1.4993104300896327, 'train_correct': 32702, 'train_error': 27298, 'train_acc': 0.5450333333333334, 'val_loss': 1.488956618309021, 'val_correct': 5523, 'val_error': 4477, 'val_acc': 0.5523}\n",
            "{'epoch': 4, 'train_loss': 1.175541691184044, 'train_correct': 37538, 'train_error': 22462, 'train_acc': 0.6256333333333334, 'val_loss': 1.1508322495222092, 'val_correct': 6356, 'val_error': 3644, 'val_acc': 0.6356}\n",
            "{'epoch': 5, 'train_loss': 1.0248547171552975, 'train_correct': 40534, 'train_error': 19466, 'train_acc': 0.6755666666666666, 'val_loss': 0.9974469554424286, 'val_correct': 6863, 'val_error': 3137, 'val_acc': 0.6863}\n",
            "{'epoch': 6, 'train_loss': 0.9276575336853663, 'train_correct': 42618, 'train_error': 17382, 'train_acc': 0.7103, 'val_loss': 0.9036369216442108, 'val_correct': 7188, 'val_error': 2812, 'val_acc': 0.7188}\n",
            "{'epoch': 7, 'train_loss': 0.8355428327123324, 'train_correct': 44620, 'train_error': 15380, 'train_acc': 0.7436666666666667, 'val_loss': 0.8065653067827224, 'val_correct': 7534, 'val_error': 2466, 'val_acc': 0.7534}\n",
            "{'epoch': 8, 'train_loss': 0.7611648496985436, 'train_correct': 46147, 'train_error': 13853, 'train_acc': 0.7691166666666667, 'val_loss': 0.7329753094911575, 'val_correct': 7798, 'val_error': 2202, 'val_acc': 0.7798}\n",
            "{'epoch': 9, 'train_loss': 0.6880270528296629, 'train_correct': 47672, 'train_error': 12328, 'train_acc': 0.7945333333333333, 'val_loss': 0.6728101134300232, 'val_correct': 7990, 'val_error': 2010, 'val_acc': 0.799}\n",
            "{'epoch': 10, 'train_loss': 0.6235980879267057, 'train_correct': 49005, 'train_error': 10995, 'train_acc': 0.81675, 'val_loss': 0.5978197759389877, 'val_correct': 8248, 'val_error': 1752, 'val_acc': 0.8248}\n",
            "{'epoch': 11, 'train_loss': 0.5608811911940574, 'train_correct': 50250, 'train_error': 9750, 'train_acc': 0.8375, 'val_loss': 0.5497390139102936, 'val_correct': 8411, 'val_error': 1589, 'val_acc': 0.8411}\n",
            "{'epoch': 12, 'train_loss': 0.5025409574806691, 'train_correct': 51387, 'train_error': 8613, 'train_acc': 0.85645, 'val_loss': 0.47951469123363494, 'val_correct': 8613, 'val_error': 1387, 'val_acc': 0.8613}\n",
            "{'epoch': 13, 'train_loss': 0.45516449250280855, 'train_correct': 52352, 'train_error': 7648, 'train_acc': 0.8725333333333334, 'val_loss': 0.4343353256583214, 'val_correct': 8753, 'val_error': 1247, 'val_acc': 0.8753}\n",
            "{'epoch': 14, 'train_loss': 0.41496700679262477, 'train_correct': 52979, 'train_error': 7021, 'train_acc': 0.8829833333333333, 'val_loss': 0.3879625517129898, 'val_correct': 8956, 'val_error': 1044, 'val_acc': 0.8956}\n",
            "{'epoch': 15, 'train_loss': 0.3769565734267235, 'train_correct': 53666, 'train_error': 6334, 'train_acc': 0.8944333333333333, 'val_loss': 0.36032734632492064, 'val_correct': 8993, 'val_error': 1007, 'val_acc': 0.8993}\n",
            "{'epoch': 16, 'train_loss': 0.3430916373928388, 'train_correct': 54301, 'train_error': 5699, 'train_acc': 0.9050166666666667, 'val_loss': 0.3283447913825512, 'val_correct': 9101, 'val_error': 899, 'val_acc': 0.9101}\n",
            "{'epoch': 17, 'train_loss': 0.31710070416331293, 'train_correct': 54699, 'train_error': 5301, 'train_acc': 0.91165, 'val_loss': 0.298111586868763, 'val_correct': 9134, 'val_error': 866, 'val_acc': 0.9134}\n",
            "{'epoch': 18, 'train_loss': 0.2967156942685445, 'train_correct': 55093, 'train_error': 4907, 'train_acc': 0.9182166666666667, 'val_loss': 0.2868113529682159, 'val_correct': 9203, 'val_error': 797, 'val_acc': 0.9203}\n",
            "{'epoch': 19, 'train_loss': 0.28042883361379306, 'train_correct': 55319, 'train_error': 4681, 'train_acc': 0.9219833333333334, 'val_loss': 0.2614008282124996, 'val_correct': 9290, 'val_error': 710, 'val_acc': 0.929}\n",
            "{'epoch': 20, 'train_loss': 0.26374306430419286, 'train_correct': 55536, 'train_error': 4464, 'train_acc': 0.9256, 'val_loss': 0.2454947842657566, 'val_correct': 9334, 'val_error': 666, 'val_acc': 0.9334}\n",
            "{'epoch': 21, 'train_loss': 0.24767523771772781, 'train_correct': 55914, 'train_error': 4086, 'train_acc': 0.9319, 'val_loss': 0.24107281185686588, 'val_correct': 9341, 'val_error': 659, 'val_acc': 0.9341}\n",
            "{'epoch': 22, 'train_loss': 0.23522516746073963, 'train_correct': 56006, 'train_error': 3994, 'train_acc': 0.9334333333333333, 'val_loss': 0.22528202816843987, 'val_correct': 9382, 'val_error': 618, 'val_acc': 0.9382}\n",
            "{'epoch': 23, 'train_loss': 0.22850698312123616, 'train_correct': 56150, 'train_error': 3850, 'train_acc': 0.9358333333333333, 'val_loss': 0.21302844807505608, 'val_correct': 9397, 'val_error': 603, 'val_acc': 0.9397}\n",
            "{'epoch': 24, 'train_loss': 0.21850807782262563, 'train_correct': 56344, 'train_error': 3656, 'train_acc': 0.9390666666666667, 'val_loss': 0.20644304417073728, 'val_correct': 9429, 'val_error': 571, 'val_acc': 0.9429}\n",
            "{'epoch': 25, 'train_loss': 0.21016091346740723, 'train_correct': 56480, 'train_error': 3520, 'train_acc': 0.9413333333333334, 'val_loss': 0.19113771066069604, 'val_correct': 9452, 'val_error': 548, 'val_acc': 0.9452}\n",
            "{'epoch': 26, 'train_loss': 0.20178587025652328, 'train_correct': 56642, 'train_error': 3358, 'train_acc': 0.9440333333333333, 'val_loss': 0.186919219866395, 'val_correct': 9458, 'val_error': 542, 'val_acc': 0.9458}\n",
            "{'epoch': 27, 'train_loss': 0.19635516858349245, 'train_correct': 56572, 'train_error': 3428, 'train_acc': 0.9428666666666666, 'val_loss': 0.18566856987774372, 'val_correct': 9456, 'val_error': 544, 'val_acc': 0.9456}\n",
            "{'epoch': 28, 'train_loss': 0.1865521275252104, 'train_correct': 56867, 'train_error': 3133, 'train_acc': 0.9477833333333333, 'val_loss': 0.1764848443120718, 'val_correct': 9482, 'val_error': 518, 'val_acc': 0.9482}\n",
            "{'epoch': 29, 'train_loss': 0.1845450191013515, 'train_correct': 56899, 'train_error': 3101, 'train_acc': 0.9483166666666667, 'val_loss': 0.1659347543120384, 'val_correct': 9525, 'val_error': 475, 'val_acc': 0.9525}\n",
            "{'epoch': 30, 'train_loss': 0.1793107002042234, 'train_correct': 56925, 'train_error': 3075, 'train_acc': 0.94875, 'val_loss': 0.16216669157147406, 'val_correct': 9549, 'val_error': 451, 'val_acc': 0.9549}\n",
            "{'epoch': 31, 'train_loss': 0.1729278903702895, 'train_correct': 57094, 'train_error': 2906, 'train_acc': 0.9515666666666667, 'val_loss': 0.16213370352983475, 'val_correct': 9549, 'val_error': 451, 'val_acc': 0.9549}\n",
            "{'epoch': 32, 'train_loss': 0.16933388488988083, 'train_correct': 57072, 'train_error': 2928, 'train_acc': 0.9512, 'val_loss': 0.15721695020794868, 'val_correct': 9563, 'val_error': 437, 'val_acc': 0.9563}\n",
            "{'epoch': 33, 'train_loss': 0.1633630656885604, 'train_correct': 57251, 'train_error': 2749, 'train_acc': 0.9541833333333334, 'val_loss': 0.15045702919363976, 'val_correct': 9572, 'val_error': 428, 'val_acc': 0.9572}\n",
            "{'epoch': 34, 'train_loss': 0.1612569460645318, 'train_correct': 57208, 'train_error': 2792, 'train_acc': 0.9534666666666667, 'val_loss': 0.15098164621740578, 'val_correct': 9563, 'val_error': 437, 'val_acc': 0.9563}\n",
            "{'epoch': 35, 'train_loss': 0.15749012622361383, 'train_correct': 57273, 'train_error': 2727, 'train_acc': 0.95455, 'val_loss': 0.14764355741441249, 'val_correct': 9563, 'val_error': 437, 'val_acc': 0.9563}\n",
            "{'epoch': 36, 'train_loss': 0.1493478529403607, 'train_correct': 57424, 'train_error': 2576, 'train_acc': 0.9570666666666666, 'val_loss': 0.13656462222337723, 'val_correct': 9615, 'val_error': 385, 'val_acc': 0.9615}\n",
            "{'epoch': 37, 'train_loss': 0.1486350894284745, 'train_correct': 57462, 'train_error': 2538, 'train_acc': 0.9577, 'val_loss': 0.1404319404065609, 'val_correct': 9604, 'val_error': 396, 'val_acc': 0.9604}\n",
            "{'epoch': 38, 'train_loss': 0.14628945471718907, 'train_correct': 57483, 'train_error': 2517, 'train_acc': 0.95805, 'val_loss': 0.13773359585553407, 'val_correct': 9602, 'val_error': 398, 'val_acc': 0.9602}\n",
            "{'epoch': 39, 'train_loss': 0.1449598665907979, 'train_correct': 57571, 'train_error': 2429, 'train_acc': 0.9595166666666667, 'val_loss': 0.1339685470610857, 'val_correct': 9597, 'val_error': 403, 'val_acc': 0.9597}\n",
            "{'epoch': 40, 'train_loss': 0.13915298021088043, 'train_correct': 57616, 'train_error': 2384, 'train_acc': 0.9602666666666667, 'val_loss': 0.13171193309128285, 'val_correct': 9608, 'val_error': 392, 'val_acc': 0.9608}\n",
            "{'epoch': 41, 'train_loss': 0.13868673556794722, 'train_correct': 57645, 'train_error': 2355, 'train_acc': 0.96075, 'val_loss': 0.1248839794099331, 'val_correct': 9622, 'val_error': 378, 'val_acc': 0.9622}\n",
            "{'epoch': 42, 'train_loss': 0.13430955200145642, 'train_correct': 57636, 'train_error': 2364, 'train_acc': 0.9606, 'val_loss': 0.12338059056550264, 'val_correct': 9614, 'val_error': 386, 'val_acc': 0.9614}\n",
            "{'epoch': 43, 'train_loss': 0.13221628821765383, 'train_correct': 57711, 'train_error': 2289, 'train_acc': 0.96185, 'val_loss': 0.12484083633869886, 'val_correct': 9616, 'val_error': 384, 'val_acc': 0.9616}\n",
            "{'epoch': 44, 'train_loss': 0.12945844298849504, 'train_correct': 57738, 'train_error': 2262, 'train_acc': 0.9623, 'val_loss': 0.11776382554322481, 'val_correct': 9658, 'val_error': 342, 'val_acc': 0.9658}\n",
            "{'epoch': 45, 'train_loss': 0.126530363302057, 'train_correct': 57815, 'train_error': 2185, 'train_acc': 0.9635833333333333, 'val_loss': 0.12169012621045112, 'val_correct': 9639, 'val_error': 361, 'val_acc': 0.9639}\n",
            "{'epoch': 46, 'train_loss': 0.12442638034000993, 'train_correct': 57849, 'train_error': 2151, 'train_acc': 0.96415, 'val_loss': 0.1204841723665595, 'val_correct': 9650, 'val_error': 350, 'val_acc': 0.965}\n",
            "{'epoch': 47, 'train_loss': 0.12420359776355326, 'train_correct': 57840, 'train_error': 2160, 'train_acc': 0.964, 'val_loss': 0.11644953340291977, 'val_correct': 9651, 'val_error': 349, 'val_acc': 0.9651}\n",
            "{'epoch': 48, 'train_loss': 0.12132291670267781, 'train_correct': 57929, 'train_error': 2071, 'train_acc': 0.9654833333333334, 'val_loss': 0.10991989370435476, 'val_correct': 9681, 'val_error': 319, 'val_acc': 0.9681}\n",
            "{'epoch': 49, 'train_loss': 0.11892175899197657, 'train_correct': 57875, 'train_error': 2125, 'train_acc': 0.9645833333333333, 'val_loss': 0.1106768605299294, 'val_correct': 9657, 'val_error': 343, 'val_acc': 0.9657}\n",
            "{'epoch': 50, 'train_loss': 0.117605452745532, 'train_correct': 57942, 'train_error': 2058, 'train_acc': 0.9657, 'val_loss': 0.11198568142950535, 'val_correct': 9668, 'val_error': 332, 'val_acc': 0.9668}\n",
            "{'epoch': 51, 'train_loss': 0.11636319241176049, 'train_correct': 58012, 'train_error': 1988, 'train_acc': 0.9668666666666667, 'val_loss': 0.1052922722697258, 'val_correct': 9682, 'val_error': 318, 'val_acc': 0.9682}\n",
            "{'epoch': 52, 'train_loss': 0.11579591065024336, 'train_correct': 57961, 'train_error': 2039, 'train_acc': 0.9660166666666666, 'val_loss': 0.10679598746821284, 'val_correct': 9685, 'val_error': 315, 'val_acc': 0.9685}\n",
            "{'epoch': 53, 'train_loss': 0.11142116227497657, 'train_correct': 58124, 'train_error': 1876, 'train_acc': 0.9687333333333333, 'val_loss': 0.10177088242024183, 'val_correct': 9696, 'val_error': 304, 'val_acc': 0.9696}\n",
            "{'epoch': 54, 'train_loss': 0.1123821555885176, 'train_correct': 58009, 'train_error': 1991, 'train_acc': 0.9668166666666667, 'val_loss': 0.1017269049026072, 'val_correct': 9695, 'val_error': 305, 'val_acc': 0.9695}\n",
            "{'epoch': 55, 'train_loss': 0.10927815463704367, 'train_correct': 58133, 'train_error': 1867, 'train_acc': 0.9688833333333333, 'val_loss': 0.10541400279849768, 'val_correct': 9683, 'val_error': 317, 'val_acc': 0.9683}\n",
            "{'epoch': 56, 'train_loss': 0.10950943905549745, 'train_correct': 58102, 'train_error': 1898, 'train_acc': 0.9683666666666667, 'val_loss': 0.09850703217089177, 'val_correct': 9713, 'val_error': 287, 'val_acc': 0.9713}\n",
            "{'epoch': 57, 'train_loss': 0.10606881813456615, 'train_correct': 58144, 'train_error': 1856, 'train_acc': 0.9690666666666666, 'val_loss': 0.09605196762830019, 'val_correct': 9715, 'val_error': 285, 'val_acc': 0.9715}\n",
            "{'epoch': 58, 'train_loss': 0.1032938152551651, 'train_correct': 58179, 'train_error': 1821, 'train_acc': 0.96965, 'val_loss': 0.0989969832263887, 'val_correct': 9695, 'val_error': 305, 'val_acc': 0.9695}\n",
            "{'epoch': 59, 'train_loss': 0.10502280464706322, 'train_correct': 58158, 'train_error': 1842, 'train_acc': 0.9693, 'val_loss': 0.09606668673455715, 'val_correct': 9711, 'val_error': 289, 'val_acc': 0.9711}\n",
            "{'epoch': 60, 'train_loss': 0.10311455848626792, 'train_correct': 58175, 'train_error': 1825, 'train_acc': 0.9695833333333334, 'val_loss': 0.09510555133223533, 'val_correct': 9724, 'val_error': 276, 'val_acc': 0.9724}\n",
            "{'epoch': 61, 'train_loss': 0.10116870426262418, 'train_correct': 58226, 'train_error': 1774, 'train_acc': 0.9704333333333334, 'val_loss': 0.09425244396552443, 'val_correct': 9720, 'val_error': 280, 'val_acc': 0.972}\n",
            "{'epoch': 62, 'train_loss': 0.10141952222213149, 'train_correct': 58237, 'train_error': 1763, 'train_acc': 0.9706166666666667, 'val_loss': 0.09547522444278002, 'val_correct': 9699, 'val_error': 301, 'val_acc': 0.9699}\n",
            "{'epoch': 63, 'train_loss': 0.0997298946014295, 'train_correct': 58304, 'train_error': 1696, 'train_acc': 0.9717333333333333, 'val_loss': 0.09137453034520149, 'val_correct': 9719, 'val_error': 281, 'val_acc': 0.9719}\n",
            "{'epoch': 64, 'train_loss': 0.09866744174622, 'train_correct': 58274, 'train_error': 1726, 'train_acc': 0.9712333333333333, 'val_loss': 0.09170309787616134, 'val_correct': 9717, 'val_error': 283, 'val_acc': 0.9717}\n",
            "{'epoch': 65, 'train_loss': 0.0960884930100292, 'train_correct': 58353, 'train_error': 1647, 'train_acc': 0.97255, 'val_loss': 0.08957696955651046, 'val_correct': 9711, 'val_error': 289, 'val_acc': 0.9711}\n",
            "{'epoch': 66, 'train_loss': 0.09358810389103989, 'train_correct': 58358, 'train_error': 1642, 'train_acc': 0.9726333333333333, 'val_loss': 0.0916069826669991, 'val_correct': 9716, 'val_error': 284, 'val_acc': 0.9716}\n",
            "{'epoch': 67, 'train_loss': 0.09583385909286637, 'train_correct': 58293, 'train_error': 1707, 'train_acc': 0.97155, 'val_loss': 0.09236477930098771, 'val_correct': 9712, 'val_error': 288, 'val_acc': 0.9712}\n",
            "{'epoch': 68, 'train_loss': 0.09570148263126611, 'train_correct': 58299, 'train_error': 1701, 'train_acc': 0.97165, 'val_loss': 0.09170858826488257, 'val_correct': 9713, 'val_error': 287, 'val_acc': 0.9713}\n",
            "{'epoch': 69, 'train_loss': 0.09300503534885744, 'train_correct': 58388, 'train_error': 1612, 'train_acc': 0.9731333333333333, 'val_loss': 0.08886987213045358, 'val_correct': 9725, 'val_error': 275, 'val_acc': 0.9725}\n",
            "{'epoch': 70, 'train_loss': 0.09202497365574042, 'train_correct': 58369, 'train_error': 1631, 'train_acc': 0.9728166666666667, 'val_loss': 0.08871022531762719, 'val_correct': 9722, 'val_error': 278, 'val_acc': 0.9722}\n",
            "{'epoch': 71, 'train_loss': 0.09147789182762305, 'train_correct': 58368, 'train_error': 1632, 'train_acc': 0.9728, 'val_loss': 0.08627447752282023, 'val_correct': 9729, 'val_error': 271, 'val_acc': 0.9729}\n",
            "{'epoch': 72, 'train_loss': 0.0904539449326694, 'train_correct': 58413, 'train_error': 1587, 'train_acc': 0.97355, 'val_loss': 0.08533951248973608, 'val_correct': 9738, 'val_error': 262, 'val_acc': 0.9738}\n",
            "{'epoch': 73, 'train_loss': 0.09006786816753447, 'train_correct': 58445, 'train_error': 1555, 'train_acc': 0.9740833333333333, 'val_loss': 0.08489953886717558, 'val_correct': 9727, 'val_error': 273, 'val_acc': 0.9727}\n",
            "{'epoch': 74, 'train_loss': 0.08692822119376312, 'train_correct': 58495, 'train_error': 1505, 'train_acc': 0.9749166666666667, 'val_loss': 0.08121399069204926, 'val_correct': 9756, 'val_error': 244, 'val_acc': 0.9756}\n",
            "{'epoch': 75, 'train_loss': 0.08637431856710463, 'train_correct': 58499, 'train_error': 1501, 'train_acc': 0.9749833333333333, 'val_loss': 0.08095824988558889, 'val_correct': 9737, 'val_error': 263, 'val_acc': 0.9737}\n",
            "{'epoch': 76, 'train_loss': 0.08629324454503755, 'train_correct': 58485, 'train_error': 1515, 'train_acc': 0.97475, 'val_loss': 0.0824071335978806, 'val_correct': 9765, 'val_error': 235, 'val_acc': 0.9765}\n",
            "{'epoch': 77, 'train_loss': 0.08523289299880465, 'train_correct': 58504, 'train_error': 1496, 'train_acc': 0.9750666666666666, 'val_loss': 0.08349449845030904, 'val_correct': 9724, 'val_error': 276, 'val_acc': 0.9724}\n",
            "{'epoch': 78, 'train_loss': 0.08589828648604453, 'train_correct': 58492, 'train_error': 1508, 'train_acc': 0.9748666666666667, 'val_loss': 0.08298728866502643, 'val_correct': 9743, 'val_error': 257, 'val_acc': 0.9743}\n",
            "{'epoch': 79, 'train_loss': 0.0839140345963339, 'train_correct': 58556, 'train_error': 1444, 'train_acc': 0.9759333333333333, 'val_loss': 0.07917886187322437, 'val_correct': 9749, 'val_error': 251, 'val_acc': 0.9749}\n",
            "{'epoch': 80, 'train_loss': 0.08450352385019262, 'train_correct': 58509, 'train_error': 1491, 'train_acc': 0.97515, 'val_loss': 0.08199623648077249, 'val_correct': 9746, 'val_error': 254, 'val_acc': 0.9746}\n",
            "{'epoch': 81, 'train_loss': 0.08287076915924747, 'train_correct': 58531, 'train_error': 1469, 'train_acc': 0.9755166666666667, 'val_loss': 0.073960175588727, 'val_correct': 9764, 'val_error': 236, 'val_acc': 0.9764}\n",
            "{'epoch': 82, 'train_loss': 0.0819401520009463, 'train_correct': 58567, 'train_error': 1433, 'train_acc': 0.9761166666666666, 'val_loss': 0.07612342214211822, 'val_correct': 9763, 'val_error': 237, 'val_acc': 0.9763}\n",
            "{'epoch': 83, 'train_loss': 0.08208358774272104, 'train_correct': 58508, 'train_error': 1492, 'train_acc': 0.9751333333333333, 'val_loss': 0.07585148643702269, 'val_correct': 9746, 'val_error': 254, 'val_acc': 0.9746}\n",
            "{'epoch': 84, 'train_loss': 0.08051093019389857, 'train_correct': 58593, 'train_error': 1407, 'train_acc': 0.97655, 'val_loss': 0.07522110109217466, 'val_correct': 9754, 'val_error': 246, 'val_acc': 0.9754}\n",
            "{'epoch': 85, 'train_loss': 0.0804877145929883, 'train_correct': 58577, 'train_error': 1423, 'train_acc': 0.9762833333333333, 'val_loss': 0.07628400152549147, 'val_correct': 9760, 'val_error': 240, 'val_acc': 0.976}\n",
            "{'epoch': 86, 'train_loss': 0.08013633024413139, 'train_correct': 58613, 'train_error': 1387, 'train_acc': 0.9768833333333333, 'val_loss': 0.07254124362021684, 'val_correct': 9779, 'val_error': 221, 'val_acc': 0.9779}\n",
            "{'epoch': 87, 'train_loss': 0.07991418612810473, 'train_correct': 58590, 'train_error': 1410, 'train_acc': 0.9765, 'val_loss': 0.07852779604494571, 'val_correct': 9759, 'val_error': 241, 'val_acc': 0.9759}\n",
            "{'epoch': 88, 'train_loss': 0.0789923011418432, 'train_correct': 58590, 'train_error': 1410, 'train_acc': 0.9765, 'val_loss': 0.07367513531818987, 'val_correct': 9772, 'val_error': 228, 'val_acc': 0.9772}\n",
            "{'epoch': 89, 'train_loss': 0.07916517890058458, 'train_correct': 58589, 'train_error': 1411, 'train_acc': 0.9764833333333334, 'val_loss': 0.0752672000322491, 'val_correct': 9769, 'val_error': 231, 'val_acc': 0.9769}\n",
            "{'epoch': 90, 'train_loss': 0.0777187626529485, 'train_correct': 58642, 'train_error': 1358, 'train_acc': 0.9773666666666667, 'val_loss': 0.07767386311665177, 'val_correct': 9760, 'val_error': 240, 'val_acc': 0.976}\n",
            "{'epoch': 91, 'train_loss': 0.07617857018020004, 'train_correct': 58644, 'train_error': 1356, 'train_acc': 0.9774, 'val_loss': 0.07557827666401863, 'val_correct': 9752, 'val_error': 248, 'val_acc': 0.9752}\n",
            "{'epoch': 92, 'train_loss': 0.0768689385894686, 'train_correct': 58629, 'train_error': 1371, 'train_acc': 0.97715, 'val_loss': 0.07527133669704199, 'val_correct': 9770, 'val_error': 230, 'val_acc': 0.977}\n",
            "{'epoch': 93, 'train_loss': 0.07542932307658096, 'train_correct': 58652, 'train_error': 1348, 'train_acc': 0.9775333333333334, 'val_loss': 0.07037785146385431, 'val_correct': 9777, 'val_error': 223, 'val_acc': 0.9777}\n",
            "{'epoch': 94, 'train_loss': 0.0754495813154305, 'train_correct': 58669, 'train_error': 1331, 'train_acc': 0.9778166666666667, 'val_loss': 0.07271332322619856, 'val_correct': 9765, 'val_error': 235, 'val_acc': 0.9765}\n",
            "{'epoch': 95, 'train_loss': 0.07432786118394384, 'train_correct': 58667, 'train_error': 1333, 'train_acc': 0.9777833333333333, 'val_loss': 0.07335251646116375, 'val_correct': 9761, 'val_error': 239, 'val_acc': 0.9761}\n",
            "{'epoch': 96, 'train_loss': 0.07348298281896859, 'train_correct': 58701, 'train_error': 1299, 'train_acc': 0.97835, 'val_loss': 0.06797286421060562, 'val_correct': 9792, 'val_error': 208, 'val_acc': 0.9792}\n",
            "{'epoch': 97, 'train_loss': 0.07309583746672918, 'train_correct': 58708, 'train_error': 1292, 'train_acc': 0.9784666666666667, 'val_loss': 0.0690353021491319, 'val_correct': 9774, 'val_error': 226, 'val_acc': 0.9774}\n",
            "{'epoch': 98, 'train_loss': 0.07236775437990825, 'train_correct': 58692, 'train_error': 1308, 'train_acc': 0.9782, 'val_loss': 0.06726199734956026, 'val_correct': 9799, 'val_error': 201, 'val_acc': 0.9799}\n",
            "{'epoch': 99, 'train_loss': 0.07291836625275512, 'train_correct': 58719, 'train_error': 1281, 'train_acc': 0.97865, 'val_loss': 0.0661077350564301, 'val_correct': 9787, 'val_error': 213, 'val_acc': 0.9787}\n",
            "{'epoch': 100, 'train_loss': 0.07151080471463502, 'train_correct': 58731, 'train_error': 1269, 'train_acc': 0.97885, 'val_loss': 0.06712282469496131, 'val_correct': 9794, 'val_error': 206, 'val_acc': 0.9794}\n",
            "time: 2945.665915489197\n"
          ]
        }
      ]
    },
    {
      "cell_type": "code",
      "execution_count": null,
      "metadata": {
        "colab": {
          "base_uri": "https://localhost:8080/"
        },
        "id": "MMKObNf15OPb",
        "outputId": "3173302d-5c0d-45fb-a00a-db3f483e1d13"
      },
      "outputs": [
        {
          "output_type": "stream",
          "name": "stdout",
          "text": [
            "Adjusting learning rate of group 0 to 1.0000e-01.\n",
            "{'epoch': 1, 'train_loss': 0.6229396446049213, 'train_correct': 48687, 'train_error': 11313, 'train_acc': 0.81145, 'val_loss': 0.5880341100692749, 'val_correct': 8237, 'val_error': 1763, 'val_acc': 0.8237}\n",
            "Adjusting learning rate of group 0 to 1.0000e-01.\n",
            "{'epoch': 2, 'train_loss': 0.2805052057777842, 'train_correct': 55096, 'train_error': 4904, 'train_acc': 0.9182666666666667, 'val_loss': 0.2568030695617199, 'val_correct': 9245, 'val_error': 755, 'val_acc': 0.9245}\n",
            "Adjusting learning rate of group 0 to 1.0000e-01.\n",
            "{'epoch': 3, 'train_loss': 0.19316471860433618, 'train_correct': 56633, 'train_error': 3367, 'train_acc': 0.9438833333333333, 'val_loss': 0.17781622566282748, 'val_correct': 9475, 'val_error': 525, 'val_acc': 0.9475}\n",
            "Adjusting learning rate of group 0 to 1.0000e-01.\n",
            "{'epoch': 4, 'train_loss': 0.15762120412041744, 'train_correct': 57242, 'train_error': 2758, 'train_acc': 0.9540333333333333, 'val_loss': 0.14398545905947685, 'val_correct': 9553, 'val_error': 447, 'val_acc': 0.9553}\n",
            "Adjusting learning rate of group 0 to 1.0000e-01.\n",
            "{'epoch': 5, 'train_loss': 0.14623574216539661, 'train_correct': 57439, 'train_error': 2561, 'train_acc': 0.9573166666666667, 'val_loss': 0.1434943202137947, 'val_correct': 9553, 'val_error': 447, 'val_acc': 0.9553}\n",
            "Adjusting learning rate of group 0 to 1.0000e-01.\n",
            "{'epoch': 6, 'train_loss': 0.12201978144856791, 'train_correct': 57872, 'train_error': 2128, 'train_acc': 0.9645333333333334, 'val_loss': 0.11664549805223942, 'val_correct': 9634, 'val_error': 366, 'val_acc': 0.9634}\n",
            "Adjusting learning rate of group 0 to 1.0000e-01.\n",
            "{'epoch': 7, 'train_loss': 0.11209078483593961, 'train_correct': 57966, 'train_error': 2034, 'train_acc': 0.9661, 'val_loss': 0.10876950085163116, 'val_correct': 9666, 'val_error': 334, 'val_acc': 0.9666}\n",
            "Adjusting learning rate of group 0 to 1.0000e-01.\n",
            "{'epoch': 8, 'train_loss': 0.09914363429881633, 'train_correct': 58228, 'train_error': 1772, 'train_acc': 0.9704666666666667, 'val_loss': 0.09331691393628716, 'val_correct': 9698, 'val_error': 302, 'val_acc': 0.9698}\n",
            "Adjusting learning rate of group 0 to 1.0000e-01.\n",
            "{'epoch': 9, 'train_loss': 0.09202639966116598, 'train_correct': 58341, 'train_error': 1659, 'train_acc': 0.97235, 'val_loss': 0.08853226616978645, 'val_correct': 9710, 'val_error': 290, 'val_acc': 0.971}\n",
            "Adjusting learning rate of group 0 to 1.0000e-01.\n",
            "{'epoch': 10, 'train_loss': 0.08779988891134659, 'train_correct': 58427, 'train_error': 1573, 'train_acc': 0.9737833333333333, 'val_loss': 0.08748237509280443, 'val_correct': 9740, 'val_error': 260, 'val_acc': 0.974}\n",
            "Adjusting learning rate of group 0 to 1.0000e-01.\n",
            "{'epoch': 11, 'train_loss': 0.08972957152562837, 'train_correct': 58388, 'train_error': 1612, 'train_acc': 0.9731333333333333, 'val_loss': 0.08564833888784051, 'val_correct': 9737, 'val_error': 263, 'val_acc': 0.9737}\n",
            "Adjusting learning rate of group 0 to 1.0000e-01.\n",
            "{'epoch': 12, 'train_loss': 0.07792982286618401, 'train_correct': 58599, 'train_error': 1401, 'train_acc': 0.97665, 'val_loss': 0.07459005140699446, 'val_correct': 9750, 'val_error': 250, 'val_acc': 0.975}\n",
            "Adjusting learning rate of group 0 to 1.0000e-01.\n",
            "{'epoch': 13, 'train_loss': 0.0766025373355175, 'train_correct': 58615, 'train_error': 1385, 'train_acc': 0.9769166666666667, 'val_loss': 0.07406898172572256, 'val_correct': 9745, 'val_error': 255, 'val_acc': 0.9745}\n",
            "Adjusting learning rate of group 0 to 1.0000e-01.\n",
            "{'epoch': 14, 'train_loss': 0.07343951343093068, 'train_correct': 58711, 'train_error': 1289, 'train_acc': 0.9785166666666667, 'val_loss': 0.06906851309351623, 'val_correct': 9785, 'val_error': 215, 'val_acc': 0.9785}\n",
            "Adjusting learning rate of group 0 to 1.0000e-01.\n",
            "{'epoch': 15, 'train_loss': 0.06895952744254222, 'train_correct': 58705, 'train_error': 1295, 'train_acc': 0.9784166666666667, 'val_loss': 0.06508088814094663, 'val_correct': 9785, 'val_error': 215, 'val_acc': 0.9785}\n",
            "Adjusting learning rate of group 0 to 1.0000e-01.\n",
            "{'epoch': 16, 'train_loss': 0.06456909941664586, 'train_correct': 58792, 'train_error': 1208, 'train_acc': 0.9798666666666667, 'val_loss': 0.0642685957904905, 'val_correct': 9791, 'val_error': 209, 'val_acc': 0.9791}\n",
            "Adjusting learning rate of group 0 to 1.0000e-01.\n",
            "{'epoch': 17, 'train_loss': 0.060565355665360886, 'train_correct': 58885, 'train_error': 1115, 'train_acc': 0.9814166666666667, 'val_loss': 0.06216067558154464, 'val_correct': 9819, 'val_error': 181, 'val_acc': 0.9819}\n",
            "Adjusting learning rate of group 0 to 1.0000e-01.\n",
            "{'epoch': 18, 'train_loss': 0.06107775409938768, 'train_correct': 58904, 'train_error': 1096, 'train_acc': 0.9817333333333333, 'val_loss': 0.061786938710138205, 'val_correct': 9791, 'val_error': 209, 'val_acc': 0.9791}\n",
            "Adjusting learning rate of group 0 to 1.0000e-01.\n",
            "{'epoch': 19, 'train_loss': 0.05951587717592095, 'train_correct': 58894, 'train_error': 1106, 'train_acc': 0.9815666666666667, 'val_loss': 0.058426334168761966, 'val_correct': 9818, 'val_error': 182, 'val_acc': 0.9818}\n",
            "Adjusting learning rate of group 0 to 1.0000e-01.\n",
            "{'epoch': 20, 'train_loss': 0.05699680538227161, 'train_correct': 58948, 'train_error': 1052, 'train_acc': 0.9824666666666667, 'val_loss': 0.057469616392627355, 'val_correct': 9801, 'val_error': 199, 'val_acc': 0.9801}\n",
            "Adjusting learning rate of group 0 to 1.0000e-01.\n",
            "{'epoch': 21, 'train_loss': 0.05577001686673611, 'train_correct': 58978, 'train_error': 1022, 'train_acc': 0.9829666666666667, 'val_loss': 0.05936466191895306, 'val_correct': 9814, 'val_error': 186, 'val_acc': 0.9814}\n",
            "Adjusting learning rate of group 0 to 1.0000e-01.\n",
            "{'epoch': 22, 'train_loss': 0.05480276537535247, 'train_correct': 58986, 'train_error': 1014, 'train_acc': 0.9831, 'val_loss': 0.06035508099012077, 'val_correct': 9814, 'val_error': 186, 'val_acc': 0.9814}\n",
            "Adjusting learning rate of group 0 to 1.0000e-01.\n",
            "{'epoch': 23, 'train_loss': 0.053975168940766406, 'train_correct': 59044, 'train_error': 956, 'train_acc': 0.9840666666666666, 'val_loss': 0.05530390823725611, 'val_correct': 9818, 'val_error': 182, 'val_acc': 0.9818}\n",
            "Adjusting learning rate of group 0 to 1.0000e-01.\n",
            "{'epoch': 24, 'train_loss': 0.05011085735051893, 'train_correct': 59061, 'train_error': 939, 'train_acc': 0.98435, 'val_loss': 0.053969638384878636, 'val_correct': 9825, 'val_error': 175, 'val_acc': 0.9825}\n",
            "Adjusting learning rate of group 0 to 1.0000e-01.\n",
            "{'epoch': 25, 'train_loss': 0.04823068879816371, 'train_correct': 59097, 'train_error': 903, 'train_acc': 0.98495, 'val_loss': 0.047805848531425, 'val_correct': 9856, 'val_error': 144, 'val_acc': 0.9856}\n",
            "Adjusting learning rate of group 0 to 1.0000e-01.\n",
            "{'epoch': 26, 'train_loss': 0.049158516311241934, 'train_correct': 59091, 'train_error': 909, 'train_acc': 0.98485, 'val_loss': 0.04979002592153847, 'val_correct': 9837, 'val_error': 163, 'val_acc': 0.9837}\n",
            "Adjusting learning rate of group 0 to 1.0000e-01.\n",
            "{'epoch': 27, 'train_loss': 0.04911656582960859, 'train_correct': 59072, 'train_error': 928, 'train_acc': 0.9845333333333334, 'val_loss': 0.049315518061630426, 'val_correct': 9838, 'val_error': 162, 'val_acc': 0.9838}\n",
            "Adjusting learning rate of group 0 to 1.0000e-01.\n",
            "{'epoch': 28, 'train_loss': 0.04619968307514986, 'train_correct': 59114, 'train_error': 886, 'train_acc': 0.9852333333333333, 'val_loss': 0.0499695810675621, 'val_correct': 9824, 'val_error': 176, 'val_acc': 0.9824}\n",
            "Adjusting learning rate of group 0 to 1.0000e-01.\n",
            "{'epoch': 29, 'train_loss': 0.04503303021968653, 'train_correct': 59153, 'train_error': 847, 'train_acc': 0.9858833333333333, 'val_loss': 0.045050182533450424, 'val_correct': 9854, 'val_error': 146, 'val_acc': 0.9854}\n",
            "Adjusting learning rate of group 0 to 1.0000e-01.\n",
            "{'epoch': 30, 'train_loss': 0.04549107849753151, 'train_correct': 59168, 'train_error': 832, 'train_acc': 0.9861333333333333, 'val_loss': 0.046924220770597456, 'val_correct': 9851, 'val_error': 149, 'val_acc': 0.9851}\n",
            "Adjusting learning rate of group 0 to 1.0000e-01.\n",
            "{'epoch': 31, 'train_loss': 0.04264803473236194, 'train_correct': 59201, 'train_error': 799, 'train_acc': 0.9866833333333334, 'val_loss': 0.052160492721013724, 'val_correct': 9825, 'val_error': 175, 'val_acc': 0.9825}\n",
            "Adjusting learning rate of group 0 to 1.0000e-01.\n",
            "{'epoch': 32, 'train_loss': 0.044075781016726975, 'train_correct': 59165, 'train_error': 835, 'train_acc': 0.9860833333333333, 'val_loss': 0.04847383971326053, 'val_correct': 9844, 'val_error': 156, 'val_acc': 0.9844}\n",
            "Adjusting learning rate of group 0 to 1.0000e-01.\n",
            "{'epoch': 33, 'train_loss': 0.042453661356897404, 'train_correct': 59223, 'train_error': 777, 'train_acc': 0.98705, 'val_loss': 0.046780984385404734, 'val_correct': 9867, 'val_error': 133, 'val_acc': 0.9867}\n",
            "Adjusting learning rate of group 0 to 1.0000e-01.\n",
            "{'epoch': 34, 'train_loss': 0.04296972290690367, 'train_correct': 59203, 'train_error': 797, 'train_acc': 0.9867166666666667, 'val_loss': 0.047602288508787755, 'val_correct': 9851, 'val_error': 149, 'val_acc': 0.9851}\n",
            "Adjusting learning rate of group 0 to 1.0000e-01.\n",
            "{'epoch': 35, 'train_loss': 0.04064255164276498, 'train_correct': 59251, 'train_error': 749, 'train_acc': 0.9875166666666667, 'val_loss': 0.04674697004258633, 'val_correct': 9851, 'val_error': 149, 'val_acc': 0.9851}\n",
            "Adjusting learning rate of group 0 to 1.0000e-01.\n",
            "{'epoch': 36, 'train_loss': 0.04146247924809965, 'train_correct': 59202, 'train_error': 798, 'train_acc': 0.9867, 'val_loss': 0.04581642037257552, 'val_correct': 9854, 'val_error': 146, 'val_acc': 0.9854}\n",
            "Adjusting learning rate of group 0 to 1.0000e-01.\n",
            "{'epoch': 37, 'train_loss': 0.040045668620538585, 'train_correct': 59238, 'train_error': 762, 'train_acc': 0.9873, 'val_loss': 0.048424827181734145, 'val_correct': 9844, 'val_error': 156, 'val_acc': 0.9844}\n",
            "Adjusting learning rate of group 0 to 1.0000e-01.\n",
            "{'epoch': 38, 'train_loss': 0.040924985538003965, 'train_correct': 59271, 'train_error': 729, 'train_acc': 0.98785, 'val_loss': 0.044717107177712025, 'val_correct': 9860, 'val_error': 140, 'val_acc': 0.986}\n",
            "Adjusting learning rate of group 0 to 1.0000e-01.\n",
            "{'epoch': 39, 'train_loss': 0.04050251102230201, 'train_correct': 59227, 'train_error': 773, 'train_acc': 0.9871166666666666, 'val_loss': 0.04638855495722964, 'val_correct': 9847, 'val_error': 153, 'val_acc': 0.9847}\n",
            "Adjusting learning rate of group 0 to 1.0000e-01.\n",
            "{'epoch': 40, 'train_loss': 0.03678822589533714, 'train_correct': 59328, 'train_error': 672, 'train_acc': 0.9888, 'val_loss': 0.04631082758773118, 'val_correct': 9850, 'val_error': 150, 'val_acc': 0.985}\n",
            "Adjusting learning rate of group 0 to 1.0000e-01.\n",
            "{'epoch': 41, 'train_loss': 0.037133435337358, 'train_correct': 59340, 'train_error': 660, 'train_acc': 0.989, 'val_loss': 0.04092883319593966, 'val_correct': 9856, 'val_error': 144, 'val_acc': 0.9856}\n",
            "Adjusting learning rate of group 0 to 1.0000e-01.\n",
            "{'epoch': 42, 'train_loss': 0.03639810601559778, 'train_correct': 59339, 'train_error': 661, 'train_acc': 0.9889833333333333, 'val_loss': 0.043123153899796304, 'val_correct': 9864, 'val_error': 136, 'val_acc': 0.9864}\n",
            "Adjusting learning rate of group 0 to 1.0000e-01.\n",
            "{'epoch': 43, 'train_loss': 0.03747903101029806, 'train_correct': 59309, 'train_error': 691, 'train_acc': 0.9884833333333334, 'val_loss': 0.04367439006688073, 'val_correct': 9861, 'val_error': 139, 'val_acc': 0.9861}\n",
            "Adjusting learning rate of group 0 to 1.0000e-01.\n",
            "{'epoch': 44, 'train_loss': 0.03568379611281368, 'train_correct': 59340, 'train_error': 660, 'train_acc': 0.989, 'val_loss': 0.042147614591522144, 'val_correct': 9866, 'val_error': 134, 'val_acc': 0.9866}\n",
            "Adjusting learning rate of group 0 to 1.0000e-01.\n",
            "{'epoch': 45, 'train_loss': 0.03397440896524737, 'train_correct': 59376, 'train_error': 624, 'train_acc': 0.9896, 'val_loss': 0.04332575687207282, 'val_correct': 9860, 'val_error': 140, 'val_acc': 0.986}\n",
            "Adjusting learning rate of group 0 to 1.0000e-01.\n",
            "{'epoch': 46, 'train_loss': 0.03370221601430482, 'train_correct': 59384, 'train_error': 616, 'train_acc': 0.9897333333333334, 'val_loss': 0.04354355068877339, 'val_correct': 9861, 'val_error': 139, 'val_acc': 0.9861}\n",
            "Adjusting learning rate of group 0 to 1.0000e-01.\n",
            "{'epoch': 47, 'train_loss': 0.03475069902914887, 'train_correct': 59381, 'train_error': 619, 'train_acc': 0.9896833333333334, 'val_loss': 0.043071127156727014, 'val_correct': 9875, 'val_error': 125, 'val_acc': 0.9875}\n",
            "Adjusting learning rate of group 0 to 1.0000e-01.\n",
            "{'epoch': 48, 'train_loss': 0.03294049537080961, 'train_correct': 59405, 'train_error': 595, 'train_acc': 0.9900833333333333, 'val_loss': 0.03938756653573364, 'val_correct': 9872, 'val_error': 128, 'val_acc': 0.9872}\n",
            "Adjusting learning rate of group 0 to 1.0000e-01.\n",
            "{'epoch': 49, 'train_loss': 0.03358719932322856, 'train_correct': 59377, 'train_error': 623, 'train_acc': 0.9896166666666667, 'val_loss': 0.04036156099755317, 'val_correct': 9865, 'val_error': 135, 'val_acc': 0.9865}\n",
            "Adjusting learning rate of group 0 to 1.0000e-02.\n",
            "{'epoch': 50, 'train_loss': 0.03174315019879335, 'train_correct': 59406, 'train_error': 594, 'train_acc': 0.9901, 'val_loss': 0.03779547872953117, 'val_correct': 9879, 'val_error': 121, 'val_acc': 0.9879}\n",
            "Adjusting learning rate of group 0 to 1.0000e-02.\n",
            "{'epoch': 51, 'train_loss': 0.02987261782992088, 'train_correct': 59480, 'train_error': 520, 'train_acc': 0.9913333333333333, 'val_loss': 0.03646854575024918, 'val_correct': 9889, 'val_error': 111, 'val_acc': 0.9889}\n",
            "Adjusting learning rate of group 0 to 1.0000e-02.\n",
            "{'epoch': 52, 'train_loss': 0.02938596100003148, 'train_correct': 59462, 'train_error': 538, 'train_acc': 0.9910333333333333, 'val_loss': 0.03485310111893341, 'val_correct': 9896, 'val_error': 104, 'val_acc': 0.9896}\n",
            "Adjusting learning rate of group 0 to 1.0000e-02.\n",
            "{'epoch': 53, 'train_loss': 0.028499636912796025, 'train_correct': 59491, 'train_error': 509, 'train_acc': 0.9915166666666667, 'val_loss': 0.0378172294748947, 'val_correct': 9879, 'val_error': 121, 'val_acc': 0.9879}\n",
            "Adjusting learning rate of group 0 to 1.0000e-02.\n",
            "{'epoch': 54, 'train_loss': 0.02917991923575755, 'train_correct': 59469, 'train_error': 531, 'train_acc': 0.99115, 'val_loss': 0.03327848750166595, 'val_correct': 9887, 'val_error': 113, 'val_acc': 0.9887}\n",
            "Adjusting learning rate of group 0 to 1.0000e-02.\n",
            "{'epoch': 55, 'train_loss': 0.027896058925349885, 'train_correct': 59505, 'train_error': 495, 'train_acc': 0.99175, 'val_loss': 0.03814584032632411, 'val_correct': 9871, 'val_error': 129, 'val_acc': 0.9871}\n",
            "Adjusting learning rate of group 0 to 1.0000e-02.\n",
            "{'epoch': 56, 'train_loss': 0.027601512775484782, 'train_correct': 59503, 'train_error': 497, 'train_acc': 0.9917166666666667, 'val_loss': 0.03425387738272548, 'val_correct': 9890, 'val_error': 110, 'val_acc': 0.989}\n",
            "Adjusting learning rate of group 0 to 1.0000e-02.\n",
            "{'epoch': 57, 'train_loss': 0.027657969352439978, 'train_correct': 59508, 'train_error': 492, 'train_acc': 0.9918, 'val_loss': 0.03309681446058676, 'val_correct': 9891, 'val_error': 109, 'val_acc': 0.9891}\n",
            "Adjusting learning rate of group 0 to 1.0000e-02.\n",
            "{'epoch': 58, 'train_loss': 0.027778272499563172, 'train_correct': 59508, 'train_error': 492, 'train_acc': 0.9918, 'val_loss': 0.03688220383133739, 'val_correct': 9881, 'val_error': 119, 'val_acc': 0.9881}\n",
            "Adjusting learning rate of group 0 to 1.0000e-02.\n",
            "{'epoch': 59, 'train_loss': 0.02777418626685782, 'train_correct': 59491, 'train_error': 509, 'train_acc': 0.9915166666666667, 'val_loss': 0.034969750535674395, 'val_correct': 9885, 'val_error': 115, 'val_acc': 0.9885}\n",
            "Adjusting learning rate of group 0 to 1.0000e-02.\n",
            "{'epoch': 60, 'train_loss': 0.026960334405303002, 'train_correct': 59530, 'train_error': 470, 'train_acc': 0.9921666666666666, 'val_loss': 0.032394716897979375, 'val_correct': 9890, 'val_error': 110, 'val_acc': 0.989}\n",
            "Adjusting learning rate of group 0 to 1.0000e-02.\n",
            "{'epoch': 61, 'train_loss': 0.026895545017517484, 'train_correct': 59508, 'train_error': 492, 'train_acc': 0.9918, 'val_loss': 0.035812378709670155, 'val_correct': 9878, 'val_error': 122, 'val_acc': 0.9878}\n",
            "Adjusting learning rate of group 0 to 1.0000e-02.\n",
            "{'epoch': 62, 'train_loss': 0.027044795328595987, 'train_correct': 59512, 'train_error': 488, 'train_acc': 0.9918666666666667, 'val_loss': 0.0354317161696963, 'val_correct': 9887, 'val_error': 113, 'val_acc': 0.9887}\n",
            "Adjusting learning rate of group 0 to 1.0000e-02.\n",
            "{'epoch': 63, 'train_loss': 0.02646251514592829, 'train_correct': 59507, 'train_error': 493, 'train_acc': 0.9917833333333334, 'val_loss': 0.033119967655511576, 'val_correct': 9890, 'val_error': 110, 'val_acc': 0.989}\n",
            "Adjusting learning rate of group 0 to 1.0000e-02.\n",
            "{'epoch': 64, 'train_loss': 0.02631302116982018, 'train_correct': 59528, 'train_error': 472, 'train_acc': 0.9921333333333333, 'val_loss': 0.034661054029129446, 'val_correct': 9881, 'val_error': 119, 'val_acc': 0.9881}\n",
            "Adjusting learning rate of group 0 to 1.0000e-02.\n",
            "{'epoch': 65, 'train_loss': 0.026345765254227445, 'train_correct': 59538, 'train_error': 462, 'train_acc': 0.9923, 'val_loss': 0.035225014382740484, 'val_correct': 9888, 'val_error': 112, 'val_acc': 0.9888}\n",
            "Adjusting learning rate of group 0 to 1.0000e-02.\n",
            "{'epoch': 66, 'train_loss': 0.02535399222552466, 'train_correct': 59556, 'train_error': 444, 'train_acc': 0.9926, 'val_loss': 0.03486922038486227, 'val_correct': 9884, 'val_error': 116, 'val_acc': 0.9884}\n",
            "Adjusting learning rate of group 0 to 1.0000e-02.\n",
            "{'epoch': 67, 'train_loss': 0.02572856085180926, 'train_correct': 59518, 'train_error': 482, 'train_acc': 0.9919666666666667, 'val_loss': 0.035510659760329875, 'val_correct': 9876, 'val_error': 124, 'val_acc': 0.9876}\n",
            "Adjusting learning rate of group 0 to 1.0000e-02.\n",
            "{'epoch': 68, 'train_loss': 0.026714844569020593, 'train_correct': 59506, 'train_error': 494, 'train_acc': 0.9917666666666667, 'val_loss': 0.03310303647187538, 'val_correct': 9891, 'val_error': 109, 'val_acc': 0.9891}\n",
            "Adjusting learning rate of group 0 to 1.0000e-02.\n",
            "{'epoch': 69, 'train_loss': 0.02572119447014605, 'train_correct': 59552, 'train_error': 448, 'train_acc': 0.9925333333333334, 'val_loss': 0.03684268744429573, 'val_correct': 9874, 'val_error': 126, 'val_acc': 0.9874}\n",
            "Adjusting learning rate of group 0 to 1.0000e-02.\n",
            "{'epoch': 70, 'train_loss': 0.02505195510845321, 'train_correct': 59541, 'train_error': 459, 'train_acc': 0.99235, 'val_loss': 0.036058217147365214, 'val_correct': 9883, 'val_error': 117, 'val_acc': 0.9883}\n",
            "Adjusting learning rate of group 0 to 1.0000e-02.\n",
            "{'epoch': 71, 'train_loss': 0.025348053839600957, 'train_correct': 59570, 'train_error': 430, 'train_acc': 0.9928333333333333, 'val_loss': 0.03406217582058162, 'val_correct': 9884, 'val_error': 116, 'val_acc': 0.9884}\n",
            "Adjusting learning rate of group 0 to 1.0000e-02.\n",
            "{'epoch': 72, 'train_loss': 0.026093356793086664, 'train_correct': 59513, 'train_error': 487, 'train_acc': 0.9918833333333333, 'val_loss': 0.03429752565454692, 'val_correct': 9890, 'val_error': 110, 'val_acc': 0.989}\n",
            "Adjusting learning rate of group 0 to 1.0000e-02.\n",
            "{'epoch': 73, 'train_loss': 0.025706374452468785, 'train_correct': 59531, 'train_error': 469, 'train_acc': 0.9921833333333333, 'val_loss': 0.03534221758367494, 'val_correct': 9875, 'val_error': 125, 'val_acc': 0.9875}\n",
            "Adjusting learning rate of group 0 to 1.0000e-02.\n",
            "{'epoch': 74, 'train_loss': 0.025232872394747877, 'train_correct': 59553, 'train_error': 447, 'train_acc': 0.99255, 'val_loss': 0.032695473649073395, 'val_correct': 9893, 'val_error': 107, 'val_acc': 0.9893}\n",
            "Adjusting learning rate of group 0 to 1.0000e-02.\n",
            "{'epoch': 75, 'train_loss': 0.02503006307417915, 'train_correct': 59537, 'train_error': 463, 'train_acc': 0.9922833333333333, 'val_loss': 0.03284228347474709, 'val_correct': 9899, 'val_error': 101, 'val_acc': 0.9899}\n",
            "Adjusting learning rate of group 0 to 1.0000e-02.\n",
            "{'epoch': 76, 'train_loss': 0.025070201221775886, 'train_correct': 59547, 'train_error': 453, 'train_acc': 0.99245, 'val_loss': 0.03462149912957102, 'val_correct': 9895, 'val_error': 105, 'val_acc': 0.9895}\n",
            "Adjusting learning rate of group 0 to 1.0000e-02.\n",
            "{'epoch': 77, 'train_loss': 0.024518333446661322, 'train_correct': 59573, 'train_error': 427, 'train_acc': 0.9928833333333333, 'val_loss': 0.03473128649406135, 'val_correct': 9892, 'val_error': 108, 'val_acc': 0.9892}\n",
            "Adjusting learning rate of group 0 to 1.0000e-02.\n",
            "{'epoch': 78, 'train_loss': 0.025043735943424204, 'train_correct': 59555, 'train_error': 445, 'train_acc': 0.9925833333333334, 'val_loss': 0.03517530251294374, 'val_correct': 9890, 'val_error': 110, 'val_acc': 0.989}\n",
            "Adjusting learning rate of group 0 to 1.0000e-02.\n",
            "{'epoch': 79, 'train_loss': 0.024762091961068412, 'train_correct': 59564, 'train_error': 436, 'train_acc': 0.9927333333333334, 'val_loss': 0.03189539628103375, 'val_correct': 9900, 'val_error': 100, 'val_acc': 0.99}\n",
            "Adjusting learning rate of group 0 to 1.0000e-02.\n",
            "{'epoch': 80, 'train_loss': 0.02398614791260722, 'train_correct': 59548, 'train_error': 452, 'train_acc': 0.9924666666666667, 'val_loss': 0.0351961916917935, 'val_correct': 9882, 'val_error': 118, 'val_acc': 0.9882}\n",
            "Adjusting learning rate of group 0 to 1.0000e-02.\n",
            "{'epoch': 81, 'train_loss': 0.02397688178238847, 'train_correct': 59541, 'train_error': 459, 'train_acc': 0.99235, 'val_loss': 0.03190330597339198, 'val_correct': 9891, 'val_error': 109, 'val_acc': 0.9891}\n",
            "Adjusting learning rate of group 0 to 1.0000e-02.\n",
            "{'epoch': 82, 'train_loss': 0.025188395080913323, 'train_correct': 59551, 'train_error': 449, 'train_acc': 0.9925166666666667, 'val_loss': 0.03189317393116653, 'val_correct': 9891, 'val_error': 109, 'val_acc': 0.9891}\n",
            "Adjusting learning rate of group 0 to 1.0000e-02.\n",
            "{'epoch': 83, 'train_loss': 0.02528769421216566, 'train_correct': 59570, 'train_error': 430, 'train_acc': 0.9928333333333333, 'val_loss': 0.03449875295627862, 'val_correct': 9889, 'val_error': 111, 'val_acc': 0.9889}\n",
            "Adjusting learning rate of group 0 to 1.0000e-02.\n",
            "{'epoch': 84, 'train_loss': 0.02475494098189908, 'train_correct': 59557, 'train_error': 443, 'train_acc': 0.9926166666666667, 'val_loss': 0.03136741518042982, 'val_correct': 9894, 'val_error': 106, 'val_acc': 0.9894}\n",
            "Adjusting learning rate of group 0 to 1.0000e-02.\n",
            "{'epoch': 85, 'train_loss': 0.024859033610361316, 'train_correct': 59572, 'train_error': 428, 'train_acc': 0.9928666666666667, 'val_loss': 0.03342754244804382, 'val_correct': 9877, 'val_error': 123, 'val_acc': 0.9877}\n",
            "Adjusting learning rate of group 0 to 1.0000e-02.\n",
            "{'epoch': 86, 'train_loss': 0.0244225519055423, 'train_correct': 59571, 'train_error': 429, 'train_acc': 0.99285, 'val_loss': 0.03229822969879024, 'val_correct': 9899, 'val_error': 101, 'val_acc': 0.9899}\n",
            "Adjusting learning rate of group 0 to 1.0000e-02.\n",
            "{'epoch': 87, 'train_loss': 0.02413890805929744, 'train_correct': 59564, 'train_error': 436, 'train_acc': 0.9927333333333334, 'val_loss': 0.034977966190781445, 'val_correct': 9884, 'val_error': 116, 'val_acc': 0.9884}\n",
            "Adjusting learning rate of group 0 to 1.0000e-02.\n",
            "{'epoch': 88, 'train_loss': 0.025020094188318277, 'train_correct': 59557, 'train_error': 443, 'train_acc': 0.9926166666666667, 'val_loss': 0.03271878054365516, 'val_correct': 9893, 'val_error': 107, 'val_acc': 0.9893}\n",
            "Adjusting learning rate of group 0 to 1.0000e-02.\n",
            "{'epoch': 89, 'train_loss': 0.024426722975137333, 'train_correct': 59566, 'train_error': 434, 'train_acc': 0.9927666666666667, 'val_loss': 0.034118653619661925, 'val_correct': 9892, 'val_error': 108, 'val_acc': 0.9892}\n",
            "Adjusting learning rate of group 0 to 1.0000e-02.\n",
            "{'epoch': 90, 'train_loss': 0.02485270468130087, 'train_correct': 59571, 'train_error': 429, 'train_acc': 0.99285, 'val_loss': 0.035890406114049256, 'val_correct': 9883, 'val_error': 117, 'val_acc': 0.9883}\n",
            "Adjusting learning rate of group 0 to 1.0000e-02.\n",
            "{'epoch': 91, 'train_loss': 0.02406062163625999, 'train_correct': 59579, 'train_error': 421, 'train_acc': 0.9929833333333333, 'val_loss': 0.03310797996353358, 'val_correct': 9897, 'val_error': 103, 'val_acc': 0.9897}\n",
            "Adjusting learning rate of group 0 to 1.0000e-02.\n",
            "{'epoch': 92, 'train_loss': 0.02409403702011332, 'train_correct': 59570, 'train_error': 430, 'train_acc': 0.9928333333333333, 'val_loss': 0.0335379391303286, 'val_correct': 9892, 'val_error': 108, 'val_acc': 0.9892}\n",
            "Adjusting learning rate of group 0 to 1.0000e-02.\n",
            "{'epoch': 93, 'train_loss': 0.024404884992400185, 'train_correct': 59573, 'train_error': 427, 'train_acc': 0.9928833333333333, 'val_loss': 0.03307007270399481, 'val_correct': 9885, 'val_error': 115, 'val_acc': 0.9885}\n",
            "Adjusting learning rate of group 0 to 1.0000e-02.\n",
            "{'epoch': 94, 'train_loss': 0.02402604918383683, 'train_correct': 59585, 'train_error': 415, 'train_acc': 0.9930833333333333, 'val_loss': 0.03373503497801721, 'val_correct': 9891, 'val_error': 109, 'val_acc': 0.9891}\n",
            "Adjusting learning rate of group 0 to 1.0000e-02.\n",
            "{'epoch': 95, 'train_loss': 0.02376920962803221, 'train_correct': 59599, 'train_error': 401, 'train_acc': 0.9933166666666666, 'val_loss': 0.03562208784744143, 'val_correct': 9874, 'val_error': 126, 'val_acc': 0.9874}\n",
            "Adjusting learning rate of group 0 to 1.0000e-02.\n",
            "{'epoch': 96, 'train_loss': 0.024658776460176644, 'train_correct': 59555, 'train_error': 445, 'train_acc': 0.9925833333333334, 'val_loss': 0.032022610700223594, 'val_correct': 9908, 'val_error': 92, 'val_acc': 0.9908}\n",
            "Adjusting learning rate of group 0 to 1.0000e-02.\n",
            "{'epoch': 97, 'train_loss': 0.02355855984108833, 'train_correct': 59583, 'train_error': 417, 'train_acc': 0.99305, 'val_loss': 0.03442803949641529, 'val_correct': 9880, 'val_error': 120, 'val_acc': 0.988}\n",
            "Adjusting learning rate of group 0 to 1.0000e-02.\n",
            "{'epoch': 98, 'train_loss': 0.02355929360181714, 'train_correct': 59588, 'train_error': 412, 'train_acc': 0.9931333333333333, 'val_loss': 0.032365060923621056, 'val_correct': 9898, 'val_error': 102, 'val_acc': 0.9898}\n",
            "Adjusting learning rate of group 0 to 1.0000e-02.\n",
            "{'epoch': 99, 'train_loss': 0.023990141541192618, 'train_correct': 59582, 'train_error': 418, 'train_acc': 0.9930333333333333, 'val_loss': 0.030130977327935397, 'val_correct': 9896, 'val_error': 104, 'val_acc': 0.9896}\n",
            "Adjusting learning rate of group 0 to 1.0000e-03.\n",
            "{'epoch': 100, 'train_loss': 0.022869151663714244, 'train_correct': 59589, 'train_error': 411, 'train_acc': 0.99315, 'val_loss': 0.033102405240060764, 'val_correct': 9886, 'val_error': 114, 'val_acc': 0.9886}\n",
            "time: 3183.0045964717865\n"
          ]
        }
      ],
      "source": [
        "#SGD, lr=0.01, momentum=0.9\n",
        "optimized_params = train(teacher,criterion,optimizer,scheduler,num_epochs=num_epochs)"
      ]
    },
    {
      "cell_type": "code",
      "execution_count": null,
      "metadata": {
        "id": "H_DJ3-ulApH4",
        "colab": {
          "base_uri": "https://localhost:8080/"
        },
        "outputId": "8ecb5cbd-7e7a-4bbd-f222-bd1d5eb5328c"
      },
      "outputs": [
        {
          "output_type": "stream",
          "name": "stdout",
          "text": [
            "{'epoch': 1, 'train_loss': 0.25034247803191345, 'train_correct': 55604, 'train_error': 4396, 'train_acc': 0.9267333333333333, 'val_loss': 0.2363699112460017, 'val_correct': 9296, 'val_error': 704, 'val_acc': 0.9296}\n",
            "{'epoch': 2, 'train_loss': 0.1676873028712968, 'train_correct': 56988, 'train_error': 3012, 'train_acc': 0.9498, 'val_loss': 0.15517611974384635, 'val_correct': 9517, 'val_error': 483, 'val_acc': 0.9517}\n",
            "{'epoch': 3, 'train_loss': 0.1302365362023314, 'train_correct': 57693, 'train_error': 2307, 'train_acc': 0.96155, 'val_loss': 0.121859556871932, 'val_correct': 9637, 'val_error': 363, 'val_acc': 0.9637}\n",
            "{'epoch': 4, 'train_loss': 0.10723459799929212, 'train_correct': 58036, 'train_error': 1964, 'train_acc': 0.9672666666666667, 'val_loss': 0.1045217336062342, 'val_correct': 9659, 'val_error': 341, 'val_acc': 0.9659}\n",
            "{'epoch': 5, 'train_loss': 0.09329416985002657, 'train_correct': 58314, 'train_error': 1686, 'train_acc': 0.9719, 'val_loss': 0.09016837166738696, 'val_correct': 9701, 'val_error': 299, 'val_acc': 0.9701}\n",
            "{'epoch': 6, 'train_loss': 0.08310095491042982, 'train_correct': 58470, 'train_error': 1530, 'train_acc': 0.9745, 'val_loss': 0.08502031906275079, 'val_correct': 9735, 'val_error': 265, 'val_acc': 0.9735}\n",
            "{'epoch': 7, 'train_loss': 0.07603112180251628, 'train_correct': 58595, 'train_error': 1405, 'train_acc': 0.9765833333333334, 'val_loss': 0.07314970788371283, 'val_correct': 9766, 'val_error': 234, 'val_acc': 0.9766}\n",
            "{'epoch': 8, 'train_loss': 0.07251969011267648, 'train_correct': 58660, 'train_error': 1340, 'train_acc': 0.9776666666666667, 'val_loss': 0.06788762675365433, 'val_correct': 9776, 'val_error': 224, 'val_acc': 0.9776}\n",
            "{'epoch': 9, 'train_loss': 0.06806652544221531, 'train_correct': 58761, 'train_error': 1239, 'train_acc': 0.97935, 'val_loss': 0.061920891882618886, 'val_correct': 9793, 'val_error': 207, 'val_acc': 0.9793}\n",
            "{'epoch': 10, 'train_loss': 0.06592654747228759, 'train_correct': 58818, 'train_error': 1182, 'train_acc': 0.9803, 'val_loss': 0.06537411240569782, 'val_correct': 9807, 'val_error': 193, 'val_acc': 0.9807}\n",
            "{'epoch': 11, 'train_loss': 0.05930257535694788, 'train_correct': 58905, 'train_error': 1095, 'train_acc': 0.98175, 'val_loss': 0.06036569672345649, 'val_correct': 9806, 'val_error': 194, 'val_acc': 0.9806}\n",
            "{'epoch': 12, 'train_loss': 0.06203836075263098, 'train_correct': 58860, 'train_error': 1140, 'train_acc': 0.981, 'val_loss': 0.05440769653680036, 'val_correct': 9834, 'val_error': 166, 'val_acc': 0.9834}\n",
            "{'epoch': 13, 'train_loss': 0.05595141611450041, 'train_correct': 58970, 'train_error': 1030, 'train_acc': 0.9828333333333333, 'val_loss': 0.0569824800468632, 'val_correct': 9835, 'val_error': 165, 'val_acc': 0.9835}\n",
            "{'epoch': 14, 'train_loss': 0.052297410122894995, 'train_correct': 59060, 'train_error': 940, 'train_acc': 0.9843333333333333, 'val_loss': 0.055767504824034406, 'val_correct': 9823, 'val_error': 177, 'val_acc': 0.9823}\n",
            "{'epoch': 15, 'train_loss': 0.05139624229399487, 'train_correct': 59057, 'train_error': 943, 'train_acc': 0.9842833333333333, 'val_loss': 0.05268790902860929, 'val_correct': 9838, 'val_error': 162, 'val_acc': 0.9838}\n",
            "{'epoch': 16, 'train_loss': 0.049266045569675045, 'train_correct': 59082, 'train_error': 918, 'train_acc': 0.9847, 'val_loss': 0.05629991089605028, 'val_correct': 9822, 'val_error': 178, 'val_acc': 0.9822}\n",
            "{'epoch': 17, 'train_loss': 0.04779750619471694, 'train_correct': 59134, 'train_error': 866, 'train_acc': 0.9855666666666667, 'val_loss': 0.047740859609621114, 'val_correct': 9856, 'val_error': 144, 'val_acc': 0.9856}\n",
            "{'epoch': 18, 'train_loss': 0.047141758740957204, 'train_correct': 59111, 'train_error': 889, 'train_acc': 0.9851833333333333, 'val_loss': 0.05670814852332114, 'val_correct': 9830, 'val_error': 170, 'val_acc': 0.983}\n",
            "{'epoch': 19, 'train_loss': 0.04559231250934924, 'train_correct': 59123, 'train_error': 877, 'train_acc': 0.9853833333333334, 'val_loss': 0.04510346256953199, 'val_correct': 9853, 'val_error': 147, 'val_acc': 0.9853}\n",
            "{'epoch': 20, 'train_loss': 0.04305246140963088, 'train_correct': 59215, 'train_error': 785, 'train_acc': 0.9869166666666667, 'val_loss': 0.046876019453338816, 'val_correct': 9850, 'val_error': 150, 'val_acc': 0.985}\n",
            "{'epoch': 21, 'train_loss': 0.04211751313414425, 'train_correct': 59233, 'train_error': 767, 'train_acc': 0.9872166666666666, 'val_loss': 0.04855007520935033, 'val_correct': 9838, 'val_error': 162, 'val_acc': 0.9838}\n",
            "{'epoch': 22, 'train_loss': 0.04358190558307494, 'train_correct': 59210, 'train_error': 790, 'train_acc': 0.9868333333333333, 'val_loss': 0.04813513275847072, 'val_correct': 9853, 'val_error': 147, 'val_acc': 0.9853}\n",
            "{'epoch': 23, 'train_loss': 0.03932337031272861, 'train_correct': 59266, 'train_error': 734, 'train_acc': 0.9877666666666667, 'val_loss': 0.04614955046272371, 'val_correct': 9846, 'val_error': 154, 'val_acc': 0.9846}\n",
            "{'epoch': 24, 'train_loss': 0.038428061380206296, 'train_correct': 59273, 'train_error': 727, 'train_acc': 0.9878833333333333, 'val_loss': 0.04530875511700287, 'val_correct': 9854, 'val_error': 146, 'val_acc': 0.9854}\n",
            "{'epoch': 25, 'train_loss': 0.03738515417207964, 'train_correct': 59315, 'train_error': 685, 'train_acc': 0.9885833333333334, 'val_loss': 0.04526015374460258, 'val_correct': 9862, 'val_error': 138, 'val_acc': 0.9862}\n",
            "{'epoch': 26, 'train_loss': 0.036402126613926764, 'train_correct': 59332, 'train_error': 668, 'train_acc': 0.9888666666666667, 'val_loss': 0.04327889254724141, 'val_correct': 9858, 'val_error': 142, 'val_acc': 0.9858}\n",
            "{'epoch': 27, 'train_loss': 0.03653128394779439, 'train_correct': 59325, 'train_error': 675, 'train_acc': 0.98875, 'val_loss': 0.0440804229346395, 'val_correct': 9863, 'val_error': 137, 'val_acc': 0.9863}\n",
            "{'epoch': 28, 'train_loss': 0.036683471772121265, 'train_correct': 59328, 'train_error': 672, 'train_acc': 0.9888, 'val_loss': 0.04458333491289523, 'val_correct': 9871, 'val_error': 129, 'val_acc': 0.9871}\n",
            "{'epoch': 29, 'train_loss': 0.03456698742345907, 'train_correct': 59364, 'train_error': 636, 'train_acc': 0.9894, 'val_loss': 0.039146402104233854, 'val_correct': 9874, 'val_error': 126, 'val_acc': 0.9874}\n",
            "{'epoch': 30, 'train_loss': 0.03806471305976932, 'train_correct': 59295, 'train_error': 705, 'train_acc': 0.98825, 'val_loss': 0.04529555601613538, 'val_correct': 9857, 'val_error': 143, 'val_acc': 0.9857}\n",
            "{'epoch': 31, 'train_loss': 0.03329477098886855, 'train_correct': 59415, 'train_error': 585, 'train_acc': 0.99025, 'val_loss': 0.040887331522899334, 'val_correct': 9871, 'val_error': 129, 'val_acc': 0.9871}\n",
            "{'epoch': 32, 'train_loss': 0.03494233728076021, 'train_correct': 59341, 'train_error': 659, 'train_acc': 0.9890166666666667, 'val_loss': 0.03929070981394034, 'val_correct': 9874, 'val_error': 126, 'val_acc': 0.9874}\n",
            "{'epoch': 33, 'train_loss': 0.03165841431201746, 'train_correct': 59434, 'train_error': 566, 'train_acc': 0.9905666666666667, 'val_loss': 0.04235352812480414, 'val_correct': 9873, 'val_error': 127, 'val_acc': 0.9873}\n",
            "{'epoch': 34, 'train_loss': 0.03099889105166464, 'train_correct': 59432, 'train_error': 568, 'train_acc': 0.9905333333333334, 'val_loss': 0.03923700305080274, 'val_correct': 9884, 'val_error': 116, 'val_acc': 0.9884}\n",
            "{'epoch': 35, 'train_loss': 0.03175129113912893, 'train_correct': 59412, 'train_error': 588, 'train_acc': 0.9902, 'val_loss': 0.04277657025835652, 'val_correct': 9854, 'val_error': 146, 'val_acc': 0.9854}\n",
            "{'epoch': 36, 'train_loss': 0.030045233183773234, 'train_correct': 59450, 'train_error': 550, 'train_acc': 0.9908333333333333, 'val_loss': 0.03823917991037888, 'val_correct': 9871, 'val_error': 129, 'val_acc': 0.9871}\n",
            "{'epoch': 37, 'train_loss': 0.028439373929286374, 'train_correct': 59484, 'train_error': 516, 'train_acc': 0.9914, 'val_loss': 0.0377475410317129, 'val_correct': 9880, 'val_error': 120, 'val_acc': 0.988}\n",
            "{'epoch': 38, 'train_loss': 0.028695045644999483, 'train_correct': 59464, 'train_error': 536, 'train_acc': 0.9910666666666667, 'val_loss': 0.03679836013543536, 'val_correct': 9881, 'val_error': 119, 'val_acc': 0.9881}\n",
            "{'epoch': 39, 'train_loss': 0.02892848477116786, 'train_correct': 59491, 'train_error': 509, 'train_acc': 0.9915166666666667, 'val_loss': 0.038350562795385484, 'val_correct': 9866, 'val_error': 134, 'val_acc': 0.9866}\n",
            "{'epoch': 40, 'train_loss': 0.027975257562162976, 'train_correct': 59491, 'train_error': 509, 'train_acc': 0.9915166666666667, 'val_loss': 0.03615914704041643, 'val_correct': 9887, 'val_error': 113, 'val_acc': 0.9887}\n",
            "{'epoch': 41, 'train_loss': 0.028687387914881887, 'train_correct': 59467, 'train_error': 533, 'train_acc': 0.9911166666666666, 'val_loss': 0.036208277401601666, 'val_correct': 9878, 'val_error': 122, 'val_acc': 0.9878}\n",
            "{'epoch': 42, 'train_loss': 0.025798175099383418, 'train_correct': 59538, 'train_error': 462, 'train_acc': 0.9923, 'val_loss': 0.03704396606670343, 'val_correct': 9876, 'val_error': 124, 'val_acc': 0.9876}\n",
            "{'epoch': 43, 'train_loss': 0.02704936506556502, 'train_correct': 59495, 'train_error': 505, 'train_acc': 0.9915833333333334, 'val_loss': 0.036139960302825784, 'val_correct': 9876, 'val_error': 124, 'val_acc': 0.9876}\n",
            "{'epoch': 44, 'train_loss': 0.02757751691970043, 'train_correct': 59487, 'train_error': 513, 'train_acc': 0.99145, 'val_loss': 0.039031240456097294, 'val_correct': 9879, 'val_error': 121, 'val_acc': 0.9879}\n",
            "{'epoch': 45, 'train_loss': 0.02673822476606195, 'train_correct': 59535, 'train_error': 465, 'train_acc': 0.99225, 'val_loss': 0.03851266777710407, 'val_correct': 9875, 'val_error': 125, 'val_acc': 0.9875}\n",
            "{'epoch': 46, 'train_loss': 0.026627738227737913, 'train_correct': 59542, 'train_error': 458, 'train_acc': 0.9923666666666666, 'val_loss': 0.03592302042015945, 'val_correct': 9881, 'val_error': 119, 'val_acc': 0.9881}\n",
            "{'epoch': 47, 'train_loss': 0.02532694850854265, 'train_correct': 59550, 'train_error': 450, 'train_acc': 0.9925, 'val_loss': 0.03406117809383431, 'val_correct': 9880, 'val_error': 120, 'val_acc': 0.988}\n",
            "{'epoch': 48, 'train_loss': 0.025681450823904016, 'train_correct': 59539, 'train_error': 461, 'train_acc': 0.9923166666666666, 'val_loss': 0.035620616844316826, 'val_correct': 9900, 'val_error': 100, 'val_acc': 0.99}\n",
            "{'epoch': 49, 'train_loss': 0.02615163188961257, 'train_correct': 59509, 'train_error': 491, 'train_acc': 0.9918166666666667, 'val_loss': 0.04073750336923695, 'val_correct': 9872, 'val_error': 128, 'val_acc': 0.9872}\n",
            "{'epoch': 50, 'train_loss': 0.024082829945255072, 'train_correct': 59555, 'train_error': 445, 'train_acc': 0.9925833333333334, 'val_loss': 0.036253451562224655, 'val_correct': 9884, 'val_error': 116, 'val_acc': 0.9884}\n",
            "{'epoch': 51, 'train_loss': 0.02437439581534515, 'train_correct': 59542, 'train_error': 458, 'train_acc': 0.9923666666666666, 'val_loss': 0.03299090744203568, 'val_correct': 9892, 'val_error': 108, 'val_acc': 0.9892}\n",
            "{'epoch': 52, 'train_loss': 0.024083285009255634, 'train_correct': 59571, 'train_error': 429, 'train_acc': 0.99285, 'val_loss': 0.032445341911370634, 'val_correct': 9901, 'val_error': 99, 'val_acc': 0.9901}\n",
            "{'epoch': 53, 'train_loss': 0.02358758252793147, 'train_correct': 59558, 'train_error': 442, 'train_acc': 0.9926333333333334, 'val_loss': 0.03194063783299498, 'val_correct': 9896, 'val_error': 104, 'val_acc': 0.9896}\n",
            "{'epoch': 54, 'train_loss': 0.022743406564501734, 'train_correct': 59599, 'train_error': 401, 'train_acc': 0.9933166666666666, 'val_loss': 0.03244902332357014, 'val_correct': 9907, 'val_error': 93, 'val_acc': 0.9907}\n",
            "{'epoch': 55, 'train_loss': 0.022939070614714487, 'train_correct': 59587, 'train_error': 413, 'train_acc': 0.9931166666666666, 'val_loss': 0.029711850827734452, 'val_correct': 9902, 'val_error': 98, 'val_acc': 0.9902}\n",
            "{'epoch': 56, 'train_loss': 0.022565342671005056, 'train_correct': 59598, 'train_error': 402, 'train_acc': 0.9933, 'val_loss': 0.03470352516005733, 'val_correct': 9891, 'val_error': 109, 'val_acc': 0.9891}\n",
            "{'epoch': 57, 'train_loss': 0.022546384726883844, 'train_correct': 59570, 'train_error': 430, 'train_acc': 0.9928333333333333, 'val_loss': 0.033746381300516076, 'val_correct': 9884, 'val_error': 116, 'val_acc': 0.9884}\n",
            "{'epoch': 58, 'train_loss': 0.022394627980150593, 'train_correct': 59588, 'train_error': 412, 'train_acc': 0.9931333333333333, 'val_loss': 0.03221179418083921, 'val_correct': 9881, 'val_error': 119, 'val_acc': 0.9881}\n",
            "{'epoch': 59, 'train_loss': 0.021375457644559597, 'train_correct': 59635, 'train_error': 365, 'train_acc': 0.9939166666666667, 'val_loss': 0.03117415309738135, 'val_correct': 9895, 'val_error': 105, 'val_acc': 0.9895}\n",
            "{'epoch': 60, 'train_loss': 0.021569323447571755, 'train_correct': 59608, 'train_error': 392, 'train_acc': 0.9934666666666667, 'val_loss': 0.032641845610523884, 'val_correct': 9897, 'val_error': 103, 'val_acc': 0.9897}\n",
            "{'epoch': 61, 'train_loss': 0.021137460548828434, 'train_correct': 59613, 'train_error': 387, 'train_acc': 0.99355, 'val_loss': 0.03199062555297132, 'val_correct': 9887, 'val_error': 113, 'val_acc': 0.9887}\n",
            "{'epoch': 62, 'train_loss': 0.022244688601252467, 'train_correct': 59584, 'train_error': 416, 'train_acc': 0.9930666666666667, 'val_loss': 0.03540763367880572, 'val_correct': 9888, 'val_error': 112, 'val_acc': 0.9888}\n",
            "{'epoch': 63, 'train_loss': 0.019637897847472535, 'train_correct': 59654, 'train_error': 346, 'train_acc': 0.9942333333333333, 'val_loss': 0.03179662000533426, 'val_correct': 9897, 'val_error': 103, 'val_acc': 0.9897}\n",
            "{'epoch': 64, 'train_loss': 0.02040700674299539, 'train_correct': 59638, 'train_error': 362, 'train_acc': 0.9939666666666667, 'val_loss': 0.03229902198861964, 'val_correct': 9901, 'val_error': 99, 'val_acc': 0.9901}\n",
            "{'epoch': 65, 'train_loss': 0.020073740979811797, 'train_correct': 59638, 'train_error': 362, 'train_acc': 0.9939666666666667, 'val_loss': 0.03400791102299991, 'val_correct': 9895, 'val_error': 105, 'val_acc': 0.9895}\n",
            "{'epoch': 66, 'train_loss': 0.020308128878629456, 'train_correct': 59626, 'train_error': 374, 'train_acc': 0.9937666666666667, 'val_loss': 0.035560161276298456, 'val_correct': 9899, 'val_error': 101, 'val_acc': 0.9899}\n",
            "{'epoch': 67, 'train_loss': 0.019935936127828124, 'train_correct': 59632, 'train_error': 368, 'train_acc': 0.9938666666666667, 'val_loss': 0.033358775724627775, 'val_correct': 9883, 'val_error': 117, 'val_acc': 0.9883}\n",
            "{'epoch': 68, 'train_loss': 0.019398484431828063, 'train_correct': 59660, 'train_error': 340, 'train_acc': 0.9943333333333333, 'val_loss': 0.03426684463287529, 'val_correct': 9902, 'val_error': 98, 'val_acc': 0.9902}\n",
            "{'epoch': 69, 'train_loss': 0.0194077682379672, 'train_correct': 59686, 'train_error': 314, 'train_acc': 0.9947666666666667, 'val_loss': 0.032735171675522, 'val_correct': 9898, 'val_error': 102, 'val_acc': 0.9898}\n",
            "{'epoch': 70, 'train_loss': 0.019072388293667853, 'train_correct': 59652, 'train_error': 348, 'train_acc': 0.9942, 'val_loss': 0.029682101854268693, 'val_correct': 9906, 'val_error': 94, 'val_acc': 0.9906}\n",
            "{'epoch': 71, 'train_loss': 0.018562804211687763, 'train_correct': 59667, 'train_error': 333, 'train_acc': 0.99445, 'val_loss': 0.030247166036861017, 'val_correct': 9897, 'val_error': 103, 'val_acc': 0.9897}\n",
            "{'epoch': 72, 'train_loss': 0.01821626574266702, 'train_correct': 59672, 'train_error': 328, 'train_acc': 0.9945333333333334, 'val_loss': 0.03374684113623516, 'val_correct': 9899, 'val_error': 101, 'val_acc': 0.9899}\n",
            "{'epoch': 73, 'train_loss': 0.017981146065576468, 'train_correct': 59668, 'train_error': 332, 'train_acc': 0.9944666666666667, 'val_loss': 0.032936116850396505, 'val_correct': 9899, 'val_error': 101, 'val_acc': 0.9899}\n",
            "{'epoch': 74, 'train_loss': 0.01843621147389058, 'train_correct': 59651, 'train_error': 349, 'train_acc': 0.9941833333333333, 'val_loss': 0.03385712231574871, 'val_correct': 9886, 'val_error': 114, 'val_acc': 0.9886}\n",
            "{'epoch': 75, 'train_loss': 0.01695779016095912, 'train_correct': 59693, 'train_error': 307, 'train_acc': 0.9948833333333333, 'val_loss': 0.03278769189928425, 'val_correct': 9893, 'val_error': 107, 'val_acc': 0.9893}\n",
            "{'epoch': 76, 'train_loss': 0.018363624864044446, 'train_correct': 59670, 'train_error': 330, 'train_acc': 0.9945, 'val_loss': 0.031607730406158226, 'val_correct': 9906, 'val_error': 94, 'val_acc': 0.9906}\n",
            "{'epoch': 77, 'train_loss': 0.01845758419765237, 'train_correct': 59675, 'train_error': 325, 'train_acc': 0.9945833333333334, 'val_loss': 0.03235322356515098, 'val_correct': 9898, 'val_error': 102, 'val_acc': 0.9898}\n",
            "{'epoch': 78, 'train_loss': 0.018119078991100348, 'train_correct': 59685, 'train_error': 315, 'train_acc': 0.99475, 'val_loss': 0.030805609333219762, 'val_correct': 9904, 'val_error': 96, 'val_acc': 0.9904}\n",
            "{'epoch': 79, 'train_loss': 0.017024166967118313, 'train_correct': 59694, 'train_error': 306, 'train_acc': 0.9949, 'val_loss': 0.03199627324662288, 'val_correct': 9885, 'val_error': 115, 'val_acc': 0.9885}\n",
            "{'epoch': 80, 'train_loss': 0.0169346910607419, 'train_correct': 59689, 'train_error': 311, 'train_acc': 0.9948166666666667, 'val_loss': 0.02957010731242917, 'val_correct': 9909, 'val_error': 91, 'val_acc': 0.9909}\n",
            "{'epoch': 81, 'train_loss': 0.016894010662120613, 'train_correct': 59688, 'train_error': 312, 'train_acc': 0.9948, 'val_loss': 0.02971417602049769, 'val_correct': 9910, 'val_error': 90, 'val_acc': 0.991}\n",
            "{'epoch': 82, 'train_loss': 0.016922020285855977, 'train_correct': 59697, 'train_error': 303, 'train_acc': 0.99495, 'val_loss': 0.030487884063331874, 'val_correct': 9897, 'val_error': 103, 'val_acc': 0.9897}\n",
            "{'epoch': 83, 'train_loss': 0.016834230216724488, 'train_correct': 59688, 'train_error': 312, 'train_acc': 0.9948, 'val_loss': 0.031863868711079706, 'val_correct': 9898, 'val_error': 102, 'val_acc': 0.9898}\n",
            "{'epoch': 84, 'train_loss': 0.016347888953265888, 'train_correct': 59711, 'train_error': 289, 'train_acc': 0.9951833333333333, 'val_loss': 0.030351640285734904, 'val_correct': 9901, 'val_error': 99, 'val_acc': 0.9901}\n",
            "{'epoch': 85, 'train_loss': 0.01586158813816534, 'train_correct': 59723, 'train_error': 277, 'train_acc': 0.9953833333333333, 'val_loss': 0.02950238670266117, 'val_correct': 9902, 'val_error': 98, 'val_acc': 0.9902}\n",
            "{'epoch': 86, 'train_loss': 0.015605130124895368, 'train_correct': 59732, 'train_error': 268, 'train_acc': 0.9955333333333334, 'val_loss': 0.02915784345816064, 'val_correct': 9915, 'val_error': 85, 'val_acc': 0.9915}\n",
            "{'epoch': 87, 'train_loss': 0.016644911257123265, 'train_correct': 59699, 'train_error': 301, 'train_acc': 0.9949833333333333, 'val_loss': 0.03170521308818934, 'val_correct': 9909, 'val_error': 91, 'val_acc': 0.9909}\n",
            "{'epoch': 88, 'train_loss': 0.016506022753261882, 'train_correct': 59711, 'train_error': 289, 'train_acc': 0.9951833333333333, 'val_loss': 0.033474413459916835, 'val_correct': 9906, 'val_error': 94, 'val_acc': 0.9906}\n",
            "{'epoch': 89, 'train_loss': 0.015357185770990328, 'train_correct': 59717, 'train_error': 283, 'train_acc': 0.9952833333333333, 'val_loss': 0.03145252480519048, 'val_correct': 9907, 'val_error': 93, 'val_acc': 0.9907}\n",
            "{'epoch': 90, 'train_loss': 0.016962456687324448, 'train_correct': 59716, 'train_error': 284, 'train_acc': 0.9952666666666666, 'val_loss': 0.030432386215270526, 'val_correct': 9904, 'val_error': 96, 'val_acc': 0.9904}\n",
            "{'epoch': 91, 'train_loss': 0.015399969519736866, 'train_correct': 59743, 'train_error': 257, 'train_acc': 0.9957166666666667, 'val_loss': 0.029727910967339996, 'val_correct': 9902, 'val_error': 98, 'val_acc': 0.9902}\n",
            "{'epoch': 92, 'train_loss': 0.01552262580153183, 'train_correct': 59724, 'train_error': 276, 'train_acc': 0.9954, 'val_loss': 0.0304792614849066, 'val_correct': 9901, 'val_error': 99, 'val_acc': 0.9901}\n",
            "{'epoch': 93, 'train_loss': 0.01489793126131796, 'train_correct': 59748, 'train_error': 252, 'train_acc': 0.9958, 'val_loss': 0.03289256126541659, 'val_correct': 9889, 'val_error': 111, 'val_acc': 0.9889}\n",
            "{'epoch': 94, 'train_loss': 0.015216657681303331, 'train_correct': 59744, 'train_error': 256, 'train_acc': 0.9957333333333334, 'val_loss': 0.03412902832998952, 'val_correct': 9888, 'val_error': 112, 'val_acc': 0.9888}\n",
            "{'epoch': 95, 'train_loss': 0.015522917888786954, 'train_correct': 59720, 'train_error': 280, 'train_acc': 0.9953333333333333, 'val_loss': 0.03268979814169143, 'val_correct': 9901, 'val_error': 99, 'val_acc': 0.9901}\n",
            "{'epoch': 96, 'train_loss': 0.015025103422570586, 'train_correct': 59716, 'train_error': 284, 'train_acc': 0.9952666666666666, 'val_loss': 0.03197317773352552, 'val_correct': 9890, 'val_error': 110, 'val_acc': 0.989}\n",
            "{'epoch': 97, 'train_loss': 0.015025513266543082, 'train_correct': 59733, 'train_error': 267, 'train_acc': 0.99555, 'val_loss': 0.02960252652870622, 'val_correct': 9905, 'val_error': 95, 'val_acc': 0.9905}\n",
            "{'epoch': 98, 'train_loss': 0.014766105537710246, 'train_correct': 59733, 'train_error': 267, 'train_acc': 0.99555, 'val_loss': 0.03205176130681139, 'val_correct': 9901, 'val_error': 99, 'val_acc': 0.9901}\n",
            "{'epoch': 99, 'train_loss': 0.01407560618725256, 'train_correct': 59745, 'train_error': 255, 'train_acc': 0.99575, 'val_loss': 0.03109065757780627, 'val_correct': 9902, 'val_error': 98, 'val_acc': 0.9902}\n",
            "{'epoch': 100, 'train_loss': 0.014674295462900772, 'train_correct': 59739, 'train_error': 261, 'train_acc': 0.99565, 'val_loss': 0.030131960652797714, 'val_correct': 9895, 'val_error': 105, 'val_acc': 0.9895}\n",
            "time: 4681.446275949478\n"
          ]
        }
      ],
      "source": [
        "#SGD, lr=0.01, momentum=0.9, no input layer dropout\n",
        "optimized_params = train(teacher,criterion,optimizer,num_epochs)"
      ]
    },
    {
      "cell_type": "code",
      "execution_count": null,
      "metadata": {
        "id": "5RmFk32Dt84N",
        "colab": {
          "base_uri": "https://localhost:8080/"
        },
        "outputId": "9af3772e-9302-4f23-bf94-57fe7135453f"
      },
      "outputs": [
        {
          "output_type": "stream",
          "name": "stdout",
          "text": [
            "{'epoch': 1, 'train_loss': 0.25034247803191345, 'train_correct': 55604, 'train_error': 4396, 'train_acc': 0.9267333333333333, 'val_loss': 0.2363699112460017, 'val_correct': 9296, 'val_error': 704, 'val_acc': 0.9296}\n",
            "{'epoch': 2, 'train_loss': 0.1676873028712968, 'train_correct': 56988, 'train_error': 3012, 'train_acc': 0.9498, 'val_loss': 0.15517611974384635, 'val_correct': 9517, 'val_error': 483, 'val_acc': 0.9517}\n",
            "{'epoch': 3, 'train_loss': 0.1302365362023314, 'train_correct': 57693, 'train_error': 2307, 'train_acc': 0.96155, 'val_loss': 0.121859556871932, 'val_correct': 9637, 'val_error': 363, 'val_acc': 0.9637}\n",
            "{'epoch': 4, 'train_loss': 0.10723459799929212, 'train_correct': 58036, 'train_error': 1964, 'train_acc': 0.9672666666666667, 'val_loss': 0.1045217336062342, 'val_correct': 9659, 'val_error': 341, 'val_acc': 0.9659}\n",
            "{'epoch': 5, 'train_loss': 0.09329416985002657, 'train_correct': 58314, 'train_error': 1686, 'train_acc': 0.9719, 'val_loss': 0.09016837166738696, 'val_correct': 9701, 'val_error': 299, 'val_acc': 0.9701}\n",
            "{'epoch': 6, 'train_loss': 0.08310095491042982, 'train_correct': 58470, 'train_error': 1530, 'train_acc': 0.9745, 'val_loss': 0.08502031906275079, 'val_correct': 9735, 'val_error': 265, 'val_acc': 0.9735}\n",
            "{'epoch': 7, 'train_loss': 0.07603112180251628, 'train_correct': 58595, 'train_error': 1405, 'train_acc': 0.9765833333333334, 'val_loss': 0.07314970788371283, 'val_correct': 9766, 'val_error': 234, 'val_acc': 0.9766}\n",
            "{'epoch': 8, 'train_loss': 0.07251969011267648, 'train_correct': 58660, 'train_error': 1340, 'train_acc': 0.9776666666666667, 'val_loss': 0.06788762675365433, 'val_correct': 9776, 'val_error': 224, 'val_acc': 0.9776}\n",
            "{'epoch': 9, 'train_loss': 0.06806652544221531, 'train_correct': 58761, 'train_error': 1239, 'train_acc': 0.97935, 'val_loss': 0.061920891882618886, 'val_correct': 9793, 'val_error': 207, 'val_acc': 0.9793}\n",
            "{'epoch': 10, 'train_loss': 0.06592654747228759, 'train_correct': 58818, 'train_error': 1182, 'train_acc': 0.9803, 'val_loss': 0.06537411240569782, 'val_correct': 9807, 'val_error': 193, 'val_acc': 0.9807}\n",
            "{'epoch': 11, 'train_loss': 0.05930257535694788, 'train_correct': 58905, 'train_error': 1095, 'train_acc': 0.98175, 'val_loss': 0.06036569672345649, 'val_correct': 9806, 'val_error': 194, 'val_acc': 0.9806}\n",
            "{'epoch': 12, 'train_loss': 0.06203836075263098, 'train_correct': 58860, 'train_error': 1140, 'train_acc': 0.981, 'val_loss': 0.05440769653680036, 'val_correct': 9834, 'val_error': 166, 'val_acc': 0.9834}\n",
            "{'epoch': 13, 'train_loss': 0.05595141611450041, 'train_correct': 58970, 'train_error': 1030, 'train_acc': 0.9828333333333333, 'val_loss': 0.0569824800468632, 'val_correct': 9835, 'val_error': 165, 'val_acc': 0.9835}\n",
            "{'epoch': 14, 'train_loss': 0.052297410122894995, 'train_correct': 59060, 'train_error': 940, 'train_acc': 0.9843333333333333, 'val_loss': 0.055767504824034406, 'val_correct': 9823, 'val_error': 177, 'val_acc': 0.9823}\n",
            "{'epoch': 15, 'train_loss': 0.05139624229399487, 'train_correct': 59057, 'train_error': 943, 'train_acc': 0.9842833333333333, 'val_loss': 0.05268790902860929, 'val_correct': 9838, 'val_error': 162, 'val_acc': 0.9838}\n",
            "{'epoch': 16, 'train_loss': 0.049266045569675045, 'train_correct': 59082, 'train_error': 918, 'train_acc': 0.9847, 'val_loss': 0.05629991089605028, 'val_correct': 9822, 'val_error': 178, 'val_acc': 0.9822}\n",
            "{'epoch': 17, 'train_loss': 0.04779750619471694, 'train_correct': 59134, 'train_error': 866, 'train_acc': 0.9855666666666667, 'val_loss': 0.047740859609621114, 'val_correct': 9856, 'val_error': 144, 'val_acc': 0.9856}\n",
            "{'epoch': 18, 'train_loss': 0.047141758740957204, 'train_correct': 59111, 'train_error': 889, 'train_acc': 0.9851833333333333, 'val_loss': 0.05670814852332114, 'val_correct': 9830, 'val_error': 170, 'val_acc': 0.983}\n",
            "{'epoch': 19, 'train_loss': 0.04559231250934924, 'train_correct': 59123, 'train_error': 877, 'train_acc': 0.9853833333333334, 'val_loss': 0.04510346256953199, 'val_correct': 9853, 'val_error': 147, 'val_acc': 0.9853}\n",
            "{'epoch': 20, 'train_loss': 0.04305246140963088, 'train_correct': 59215, 'train_error': 785, 'train_acc': 0.9869166666666667, 'val_loss': 0.046876019453338816, 'val_correct': 9850, 'val_error': 150, 'val_acc': 0.985}\n",
            "{'epoch': 21, 'train_loss': 0.04211751313414425, 'train_correct': 59233, 'train_error': 767, 'train_acc': 0.9872166666666666, 'val_loss': 0.04855007520935033, 'val_correct': 9838, 'val_error': 162, 'val_acc': 0.9838}\n",
            "{'epoch': 22, 'train_loss': 0.04358190558307494, 'train_correct': 59210, 'train_error': 790, 'train_acc': 0.9868333333333333, 'val_loss': 0.04813513275847072, 'val_correct': 9853, 'val_error': 147, 'val_acc': 0.9853}\n",
            "{'epoch': 23, 'train_loss': 0.03932337031272861, 'train_correct': 59266, 'train_error': 734, 'train_acc': 0.9877666666666667, 'val_loss': 0.04614955046272371, 'val_correct': 9846, 'val_error': 154, 'val_acc': 0.9846}\n",
            "{'epoch': 24, 'train_loss': 0.038428061380206296, 'train_correct': 59273, 'train_error': 727, 'train_acc': 0.9878833333333333, 'val_loss': 0.04530875511700287, 'val_correct': 9854, 'val_error': 146, 'val_acc': 0.9854}\n",
            "{'epoch': 25, 'train_loss': 0.03738515417207964, 'train_correct': 59315, 'train_error': 685, 'train_acc': 0.9885833333333334, 'val_loss': 0.04526015374460258, 'val_correct': 9862, 'val_error': 138, 'val_acc': 0.9862}\n",
            "{'epoch': 26, 'train_loss': 0.036402126613926764, 'train_correct': 59332, 'train_error': 668, 'train_acc': 0.9888666666666667, 'val_loss': 0.04327889254724141, 'val_correct': 9858, 'val_error': 142, 'val_acc': 0.9858}\n",
            "{'epoch': 27, 'train_loss': 0.03653128394779439, 'train_correct': 59325, 'train_error': 675, 'train_acc': 0.98875, 'val_loss': 0.0440804229346395, 'val_correct': 9863, 'val_error': 137, 'val_acc': 0.9863}\n",
            "{'epoch': 28, 'train_loss': 0.036683471772121265, 'train_correct': 59328, 'train_error': 672, 'train_acc': 0.9888, 'val_loss': 0.04458333491289523, 'val_correct': 9871, 'val_error': 129, 'val_acc': 0.9871}\n",
            "{'epoch': 29, 'train_loss': 0.03456698742345907, 'train_correct': 59364, 'train_error': 636, 'train_acc': 0.9894, 'val_loss': 0.039146402104233854, 'val_correct': 9874, 'val_error': 126, 'val_acc': 0.9874}\n",
            "{'epoch': 30, 'train_loss': 0.03806471305976932, 'train_correct': 59295, 'train_error': 705, 'train_acc': 0.98825, 'val_loss': 0.04529555601613538, 'val_correct': 9857, 'val_error': 143, 'val_acc': 0.9857}\n",
            "{'epoch': 31, 'train_loss': 0.03329477098886855, 'train_correct': 59415, 'train_error': 585, 'train_acc': 0.99025, 'val_loss': 0.040887331522899334, 'val_correct': 9871, 'val_error': 129, 'val_acc': 0.9871}\n",
            "{'epoch': 32, 'train_loss': 0.03494233728076021, 'train_correct': 59341, 'train_error': 659, 'train_acc': 0.9890166666666667, 'val_loss': 0.03929070981394034, 'val_correct': 9874, 'val_error': 126, 'val_acc': 0.9874}\n",
            "{'epoch': 33, 'train_loss': 0.03165841431201746, 'train_correct': 59434, 'train_error': 566, 'train_acc': 0.9905666666666667, 'val_loss': 0.04235352812480414, 'val_correct': 9873, 'val_error': 127, 'val_acc': 0.9873}\n",
            "{'epoch': 34, 'train_loss': 0.03099889105166464, 'train_correct': 59432, 'train_error': 568, 'train_acc': 0.9905333333333334, 'val_loss': 0.03923700305080274, 'val_correct': 9884, 'val_error': 116, 'val_acc': 0.9884}\n",
            "{'epoch': 35, 'train_loss': 0.03175129113912893, 'train_correct': 59412, 'train_error': 588, 'train_acc': 0.9902, 'val_loss': 0.04277657025835652, 'val_correct': 9854, 'val_error': 146, 'val_acc': 0.9854}\n",
            "{'epoch': 36, 'train_loss': 0.030045233183773234, 'train_correct': 59450, 'train_error': 550, 'train_acc': 0.9908333333333333, 'val_loss': 0.03823917991037888, 'val_correct': 9871, 'val_error': 129, 'val_acc': 0.9871}\n",
            "{'epoch': 37, 'train_loss': 0.028439373929286374, 'train_correct': 59484, 'train_error': 516, 'train_acc': 0.9914, 'val_loss': 0.0377475410317129, 'val_correct': 9880, 'val_error': 120, 'val_acc': 0.988}\n",
            "{'epoch': 38, 'train_loss': 0.028695045644999483, 'train_correct': 59464, 'train_error': 536, 'train_acc': 0.9910666666666667, 'val_loss': 0.03679836013543536, 'val_correct': 9881, 'val_error': 119, 'val_acc': 0.9881}\n",
            "{'epoch': 39, 'train_loss': 0.02892848477116786, 'train_correct': 59491, 'train_error': 509, 'train_acc': 0.9915166666666667, 'val_loss': 0.038350562795385484, 'val_correct': 9866, 'val_error': 134, 'val_acc': 0.9866}\n",
            "{'epoch': 40, 'train_loss': 0.027975257562162976, 'train_correct': 59491, 'train_error': 509, 'train_acc': 0.9915166666666667, 'val_loss': 0.03615914704041643, 'val_correct': 9887, 'val_error': 113, 'val_acc': 0.9887}\n",
            "{'epoch': 41, 'train_loss': 0.028687387914881887, 'train_correct': 59467, 'train_error': 533, 'train_acc': 0.9911166666666666, 'val_loss': 0.036208277401601666, 'val_correct': 9878, 'val_error': 122, 'val_acc': 0.9878}\n",
            "{'epoch': 42, 'train_loss': 0.025798175099383418, 'train_correct': 59538, 'train_error': 462, 'train_acc': 0.9923, 'val_loss': 0.03704396606670343, 'val_correct': 9876, 'val_error': 124, 'val_acc': 0.9876}\n",
            "{'epoch': 43, 'train_loss': 0.02704936506556502, 'train_correct': 59495, 'train_error': 505, 'train_acc': 0.9915833333333334, 'val_loss': 0.036139960302825784, 'val_correct': 9876, 'val_error': 124, 'val_acc': 0.9876}\n",
            "{'epoch': 44, 'train_loss': 0.02757751691970043, 'train_correct': 59487, 'train_error': 513, 'train_acc': 0.99145, 'val_loss': 0.039031240456097294, 'val_correct': 9879, 'val_error': 121, 'val_acc': 0.9879}\n",
            "{'epoch': 45, 'train_loss': 0.02673822476606195, 'train_correct': 59535, 'train_error': 465, 'train_acc': 0.99225, 'val_loss': 0.03851266777710407, 'val_correct': 9875, 'val_error': 125, 'val_acc': 0.9875}\n",
            "{'epoch': 46, 'train_loss': 0.026627738227737913, 'train_correct': 59542, 'train_error': 458, 'train_acc': 0.9923666666666666, 'val_loss': 0.03592302042015945, 'val_correct': 9881, 'val_error': 119, 'val_acc': 0.9881}\n",
            "{'epoch': 47, 'train_loss': 0.02532694850854265, 'train_correct': 59550, 'train_error': 450, 'train_acc': 0.9925, 'val_loss': 0.03406117809383431, 'val_correct': 9880, 'val_error': 120, 'val_acc': 0.988}\n",
            "{'epoch': 48, 'train_loss': 0.025681450823904016, 'train_correct': 59539, 'train_error': 461, 'train_acc': 0.9923166666666666, 'val_loss': 0.035620616844316826, 'val_correct': 9900, 'val_error': 100, 'val_acc': 0.99}\n",
            "{'epoch': 49, 'train_loss': 0.02615163188961257, 'train_correct': 59509, 'train_error': 491, 'train_acc': 0.9918166666666667, 'val_loss': 0.04073750336923695, 'val_correct': 9872, 'val_error': 128, 'val_acc': 0.9872}\n",
            "{'epoch': 50, 'train_loss': 0.024082829945255072, 'train_correct': 59555, 'train_error': 445, 'train_acc': 0.9925833333333334, 'val_loss': 0.036253451562224655, 'val_correct': 9884, 'val_error': 116, 'val_acc': 0.9884}\n",
            "{'epoch': 51, 'train_loss': 0.02437439581534515, 'train_correct': 59542, 'train_error': 458, 'train_acc': 0.9923666666666666, 'val_loss': 0.03299090744203568, 'val_correct': 9892, 'val_error': 108, 'val_acc': 0.9892}\n",
            "{'epoch': 52, 'train_loss': 0.024083285009255634, 'train_correct': 59571, 'train_error': 429, 'train_acc': 0.99285, 'val_loss': 0.032445341911370634, 'val_correct': 9901, 'val_error': 99, 'val_acc': 0.9901}\n",
            "{'epoch': 53, 'train_loss': 0.02358758252793147, 'train_correct': 59558, 'train_error': 442, 'train_acc': 0.9926333333333334, 'val_loss': 0.03194063783299498, 'val_correct': 9896, 'val_error': 104, 'val_acc': 0.9896}\n",
            "{'epoch': 54, 'train_loss': 0.022743406564501734, 'train_correct': 59599, 'train_error': 401, 'train_acc': 0.9933166666666666, 'val_loss': 0.03244902332357014, 'val_correct': 9907, 'val_error': 93, 'val_acc': 0.9907}\n",
            "{'epoch': 55, 'train_loss': 0.022939070614714487, 'train_correct': 59587, 'train_error': 413, 'train_acc': 0.9931166666666666, 'val_loss': 0.029711850827734452, 'val_correct': 9902, 'val_error': 98, 'val_acc': 0.9902}\n",
            "{'epoch': 56, 'train_loss': 0.022565342671005056, 'train_correct': 59598, 'train_error': 402, 'train_acc': 0.9933, 'val_loss': 0.03470352516005733, 'val_correct': 9891, 'val_error': 109, 'val_acc': 0.9891}\n",
            "{'epoch': 57, 'train_loss': 0.022546384726883844, 'train_correct': 59570, 'train_error': 430, 'train_acc': 0.9928333333333333, 'val_loss': 0.033746381300516076, 'val_correct': 9884, 'val_error': 116, 'val_acc': 0.9884}\n",
            "{'epoch': 58, 'train_loss': 0.022394627980150593, 'train_correct': 59588, 'train_error': 412, 'train_acc': 0.9931333333333333, 'val_loss': 0.03221179418083921, 'val_correct': 9881, 'val_error': 119, 'val_acc': 0.9881}\n",
            "{'epoch': 59, 'train_loss': 0.021375457644559597, 'train_correct': 59635, 'train_error': 365, 'train_acc': 0.9939166666666667, 'val_loss': 0.03117415309738135, 'val_correct': 9895, 'val_error': 105, 'val_acc': 0.9895}\n",
            "{'epoch': 60, 'train_loss': 0.021569323447571755, 'train_correct': 59608, 'train_error': 392, 'train_acc': 0.9934666666666667, 'val_loss': 0.032641845610523884, 'val_correct': 9897, 'val_error': 103, 'val_acc': 0.9897}\n",
            "{'epoch': 61, 'train_loss': 0.021137460548828434, 'train_correct': 59613, 'train_error': 387, 'train_acc': 0.99355, 'val_loss': 0.03199062555297132, 'val_correct': 9887, 'val_error': 113, 'val_acc': 0.9887}\n",
            "{'epoch': 62, 'train_loss': 0.022244688601252467, 'train_correct': 59584, 'train_error': 416, 'train_acc': 0.9930666666666667, 'val_loss': 0.03540763367880572, 'val_correct': 9888, 'val_error': 112, 'val_acc': 0.9888}\n",
            "{'epoch': 63, 'train_loss': 0.019637897847472535, 'train_correct': 59654, 'train_error': 346, 'train_acc': 0.9942333333333333, 'val_loss': 0.03179662000533426, 'val_correct': 9897, 'val_error': 103, 'val_acc': 0.9897}\n",
            "{'epoch': 64, 'train_loss': 0.02040700674299539, 'train_correct': 59638, 'train_error': 362, 'train_acc': 0.9939666666666667, 'val_loss': 0.03229902198861964, 'val_correct': 9901, 'val_error': 99, 'val_acc': 0.9901}\n",
            "{'epoch': 65, 'train_loss': 0.020073740979811797, 'train_correct': 59638, 'train_error': 362, 'train_acc': 0.9939666666666667, 'val_loss': 0.03400791102299991, 'val_correct': 9895, 'val_error': 105, 'val_acc': 0.9895}\n",
            "{'epoch': 66, 'train_loss': 0.020308128878629456, 'train_correct': 59626, 'train_error': 374, 'train_acc': 0.9937666666666667, 'val_loss': 0.035560161276298456, 'val_correct': 9899, 'val_error': 101, 'val_acc': 0.9899}\n",
            "{'epoch': 67, 'train_loss': 0.019935936127828124, 'train_correct': 59632, 'train_error': 368, 'train_acc': 0.9938666666666667, 'val_loss': 0.033358775724627775, 'val_correct': 9883, 'val_error': 117, 'val_acc': 0.9883}\n",
            "{'epoch': 68, 'train_loss': 0.019398484431828063, 'train_correct': 59660, 'train_error': 340, 'train_acc': 0.9943333333333333, 'val_loss': 0.03426684463287529, 'val_correct': 9902, 'val_error': 98, 'val_acc': 0.9902}\n",
            "{'epoch': 69, 'train_loss': 0.0194077682379672, 'train_correct': 59686, 'train_error': 314, 'train_acc': 0.9947666666666667, 'val_loss': 0.032735171675522, 'val_correct': 9898, 'val_error': 102, 'val_acc': 0.9898}\n",
            "{'epoch': 70, 'train_loss': 0.019072388293667853, 'train_correct': 59652, 'train_error': 348, 'train_acc': 0.9942, 'val_loss': 0.029682101854268693, 'val_correct': 9906, 'val_error': 94, 'val_acc': 0.9906}\n",
            "{'epoch': 71, 'train_loss': 0.018562804211687763, 'train_correct': 59667, 'train_error': 333, 'train_acc': 0.99445, 'val_loss': 0.030247166036861017, 'val_correct': 9897, 'val_error': 103, 'val_acc': 0.9897}\n",
            "{'epoch': 72, 'train_loss': 0.01821626574266702, 'train_correct': 59672, 'train_error': 328, 'train_acc': 0.9945333333333334, 'val_loss': 0.03374684113623516, 'val_correct': 9899, 'val_error': 101, 'val_acc': 0.9899}\n",
            "{'epoch': 73, 'train_loss': 0.017981146065576468, 'train_correct': 59668, 'train_error': 332, 'train_acc': 0.9944666666666667, 'val_loss': 0.032936116850396505, 'val_correct': 9899, 'val_error': 101, 'val_acc': 0.9899}\n",
            "{'epoch': 74, 'train_loss': 0.01843621147389058, 'train_correct': 59651, 'train_error': 349, 'train_acc': 0.9941833333333333, 'val_loss': 0.03385712231574871, 'val_correct': 9886, 'val_error': 114, 'val_acc': 0.9886}\n",
            "{'epoch': 75, 'train_loss': 0.01695779016095912, 'train_correct': 59693, 'train_error': 307, 'train_acc': 0.9948833333333333, 'val_loss': 0.03278769189928425, 'val_correct': 9893, 'val_error': 107, 'val_acc': 0.9893}\n",
            "{'epoch': 76, 'train_loss': 0.018363624864044446, 'train_correct': 59670, 'train_error': 330, 'train_acc': 0.9945, 'val_loss': 0.031607730406158226, 'val_correct': 9906, 'val_error': 94, 'val_acc': 0.9906}\n",
            "{'epoch': 77, 'train_loss': 0.01845758419765237, 'train_correct': 59675, 'train_error': 325, 'train_acc': 0.9945833333333334, 'val_loss': 0.03235322356515098, 'val_correct': 9898, 'val_error': 102, 'val_acc': 0.9898}\n",
            "{'epoch': 78, 'train_loss': 0.018119078991100348, 'train_correct': 59685, 'train_error': 315, 'train_acc': 0.99475, 'val_loss': 0.030805609333219762, 'val_correct': 9904, 'val_error': 96, 'val_acc': 0.9904}\n",
            "{'epoch': 79, 'train_loss': 0.017024166967118313, 'train_correct': 59694, 'train_error': 306, 'train_acc': 0.9949, 'val_loss': 0.03199627324662288, 'val_correct': 9885, 'val_error': 115, 'val_acc': 0.9885}\n",
            "{'epoch': 80, 'train_loss': 0.0169346910607419, 'train_correct': 59689, 'train_error': 311, 'train_acc': 0.9948166666666667, 'val_loss': 0.02957010731242917, 'val_correct': 9909, 'val_error': 91, 'val_acc': 0.9909}\n",
            "{'epoch': 81, 'train_loss': 0.016894010662120613, 'train_correct': 59688, 'train_error': 312, 'train_acc': 0.9948, 'val_loss': 0.02971417602049769, 'val_correct': 9910, 'val_error': 90, 'val_acc': 0.991}\n",
            "{'epoch': 82, 'train_loss': 0.016922020285855977, 'train_correct': 59697, 'train_error': 303, 'train_acc': 0.99495, 'val_loss': 0.030487884063331874, 'val_correct': 9897, 'val_error': 103, 'val_acc': 0.9897}\n",
            "{'epoch': 83, 'train_loss': 0.016834230216724488, 'train_correct': 59688, 'train_error': 312, 'train_acc': 0.9948, 'val_loss': 0.031863868711079706, 'val_correct': 9898, 'val_error': 102, 'val_acc': 0.9898}\n",
            "{'epoch': 84, 'train_loss': 0.016347888953265888, 'train_correct': 59711, 'train_error': 289, 'train_acc': 0.9951833333333333, 'val_loss': 0.030351640285734904, 'val_correct': 9901, 'val_error': 99, 'val_acc': 0.9901}\n",
            "{'epoch': 85, 'train_loss': 0.01586158813816534, 'train_correct': 59723, 'train_error': 277, 'train_acc': 0.9953833333333333, 'val_loss': 0.02950238670266117, 'val_correct': 9902, 'val_error': 98, 'val_acc': 0.9902}\n",
            "{'epoch': 86, 'train_loss': 0.015605130124895368, 'train_correct': 59732, 'train_error': 268, 'train_acc': 0.9955333333333334, 'val_loss': 0.02915784345816064, 'val_correct': 9915, 'val_error': 85, 'val_acc': 0.9915}\n",
            "{'epoch': 87, 'train_loss': 0.016644911257123265, 'train_correct': 59699, 'train_error': 301, 'train_acc': 0.9949833333333333, 'val_loss': 0.03170521308818934, 'val_correct': 9909, 'val_error': 91, 'val_acc': 0.9909}\n",
            "{'epoch': 88, 'train_loss': 0.016506022753261882, 'train_correct': 59711, 'train_error': 289, 'train_acc': 0.9951833333333333, 'val_loss': 0.033474413459916835, 'val_correct': 9906, 'val_error': 94, 'val_acc': 0.9906}\n",
            "{'epoch': 89, 'train_loss': 0.015357185770990328, 'train_correct': 59717, 'train_error': 283, 'train_acc': 0.9952833333333333, 'val_loss': 0.03145252480519048, 'val_correct': 9907, 'val_error': 93, 'val_acc': 0.9907}\n",
            "{'epoch': 90, 'train_loss': 0.016962456687324448, 'train_correct': 59716, 'train_error': 284, 'train_acc': 0.9952666666666666, 'val_loss': 0.030432386215270526, 'val_correct': 9904, 'val_error': 96, 'val_acc': 0.9904}\n",
            "{'epoch': 91, 'train_loss': 0.015399969519736866, 'train_correct': 59743, 'train_error': 257, 'train_acc': 0.9957166666666667, 'val_loss': 0.029727910967339996, 'val_correct': 9902, 'val_error': 98, 'val_acc': 0.9902}\n",
            "{'epoch': 92, 'train_loss': 0.01552262580153183, 'train_correct': 59724, 'train_error': 276, 'train_acc': 0.9954, 'val_loss': 0.0304792614849066, 'val_correct': 9901, 'val_error': 99, 'val_acc': 0.9901}\n",
            "{'epoch': 93, 'train_loss': 0.01489793126131796, 'train_correct': 59748, 'train_error': 252, 'train_acc': 0.9958, 'val_loss': 0.03289256126541659, 'val_correct': 9889, 'val_error': 111, 'val_acc': 0.9889}\n",
            "{'epoch': 94, 'train_loss': 0.015216657681303331, 'train_correct': 59744, 'train_error': 256, 'train_acc': 0.9957333333333334, 'val_loss': 0.03412902832998952, 'val_correct': 9888, 'val_error': 112, 'val_acc': 0.9888}\n",
            "{'epoch': 95, 'train_loss': 0.015522917888786954, 'train_correct': 59720, 'train_error': 280, 'train_acc': 0.9953333333333333, 'val_loss': 0.03268979814169143, 'val_correct': 9901, 'val_error': 99, 'val_acc': 0.9901}\n",
            "{'epoch': 96, 'train_loss': 0.015025103422570586, 'train_correct': 59716, 'train_error': 284, 'train_acc': 0.9952666666666666, 'val_loss': 0.03197317773352552, 'val_correct': 9890, 'val_error': 110, 'val_acc': 0.989}\n",
            "{'epoch': 97, 'train_loss': 0.015025513266543082, 'train_correct': 59733, 'train_error': 267, 'train_acc': 0.99555, 'val_loss': 0.02960252652870622, 'val_correct': 9905, 'val_error': 95, 'val_acc': 0.9905}\n",
            "{'epoch': 98, 'train_loss': 0.014766105537710246, 'train_correct': 59733, 'train_error': 267, 'train_acc': 0.99555, 'val_loss': 0.03205176130681139, 'val_correct': 9901, 'val_error': 99, 'val_acc': 0.9901}\n",
            "{'epoch': 99, 'train_loss': 0.01407560618725256, 'train_correct': 59745, 'train_error': 255, 'train_acc': 0.99575, 'val_loss': 0.03109065757780627, 'val_correct': 9902, 'val_error': 98, 'val_acc': 0.9902}\n",
            "{'epoch': 100, 'train_loss': 0.014674295462900772, 'train_correct': 59739, 'train_error': 261, 'train_acc': 0.99565, 'val_loss': 0.030131960652797714, 'val_correct': 9895, 'val_error': 105, 'val_acc': 0.9895}\n",
            "time: 4634.828069448471\n"
          ]
        }
      ],
      "source": [
        "#SGD, lr=0.01, momentum=0.9, no weight regularization\n",
        "optimized_params = train(teacher,criterion,optimizer,num_epochs)"
      ]
    },
    {
      "cell_type": "code",
      "execution_count": null,
      "metadata": {
        "id": "fqrWuHQoKtXW"
      },
      "outputs": [],
      "source": [
        "optimized_params = train(teacher,criterion,optimizer,scheduler,num_epochs=100)"
      ]
    },
    {
      "cell_type": "code",
      "execution_count": null,
      "metadata": {
        "id": "ZtUD65KuLQ0h"
      },
      "outputs": [],
      "source": [
        "optimized_params = train(teacher,criterion,optimizer,num_epochs=num_epochs)"
      ]
    },
    {
      "cell_type": "code",
      "execution_count": null,
      "metadata": {
        "id": "mmoO-2ZXS_eB"
      },
      "outputs": [],
      "source": [
        "optimized_params = train(teacher,criterion,optimizer,num_epochs=num_epochs)"
      ]
    },
    {
      "cell_type": "code",
      "execution_count": null,
      "metadata": {
        "id": "DWy2kjS2o6z9"
      },
      "outputs": [],
      "source": [
        "optimized_params = train(teacher,criterion,optimizer,scheduler,num_epochs=num_epochs)"
      ]
    },
    {
      "cell_type": "code",
      "execution_count": null,
      "metadata": {
        "id": "ZHtn-fJh2OrR"
      },
      "outputs": [],
      "source": [
        "optimized_params = train(teacher,criterion,optimizer,num_epochs=100)"
      ]
    },
    {
      "cell_type": "code",
      "execution_count": null,
      "metadata": {
        "id": "Kb9lLF7ThUdn"
      },
      "outputs": [],
      "source": [
        "torch.save(optimized_params, '/content/teacher/MLP_MNIST_DropoutPaper_CSGD_lr0.1.pth.tar')\n",
        "torch.save(dict(params={k: v.data for k, v in optimized_params.items()}),os.path.join('/content/teacher', 'MLP_MNIST_DropoutPaper_CSGD_lr0.1.pt7'))\n",
        "torch.save({k: v.data for k, v in optimized_params.items()},'/content/teacher/MLP_MNIST_DropoutPaper_CSGD_lr0.1')"
      ]
    },
    {
      "cell_type": "code",
      "execution_count": null,
      "metadata": {
        "id": "KDA-VxPL5cd4"
      },
      "outputs": [],
      "source": [
        "torch.save(optimized_params, '/content/drive/MyDrive/models/MLP-mnist/mlp_mnist_teacher_RevisedPreprocessing_SGD_lr_0.0_schedulerStepLR_gamma_0.1_step_50_moment_0.9_NoWeightReg.pth.tar')\n",
        "torch.save(dict(params={k: v.data for k, v in optimized_params.items()}),os.path.join('/content/drive/MyDrive/models/MLP-mnist', 'mlp_mnist_teacher_SGD_moment0.5_lr_0.0_scheduler.pt7'))\n",
        "torch.save({k: v.data for k, v in optimized_params.items()},'/content/drive/MyDrive/models/MLP-mnist/mlp_mnist_teacher_SGD_moment0.5_0.lr_0.0_scheduler')"
      ]
    },
    {
      "cell_type": "code",
      "execution_count": null,
      "metadata": {
        "id": "-Wg3bnDE2Sm6"
      },
      "outputs": [],
      "source": [
        "torch.save(optimized_params, '/content/teacher/MLP_MNIST_Teacher_RevisedPreprocessing_Xavier_SGD_lr_0.1_0.01_momentum_0.5_InDrpout_0.2_WeightReg.pth.tar')\n",
        "torch.save({k: v.data for k, v in optimized_params.items()},os.path.join('/content/teacher', 'MLP_MNIST_Teacher_RevisedPreprocessing_Xavier_SGD_lr_0.1_0.01_momentum_0.5_InDrpout_0.2_WeightReg.pt7'))\n",
        "torch.save({k: v.data for k, v in optimized_params.items()},'/content/teacher/MLP_MNIST_Teacher_RevisedPreprocessing_Xavier_SGD_lr_0.1_0.01_momentum_0.5_InDrpout_0.2_WeightReg')"
      ]
    },
    {
      "cell_type": "code",
      "execution_count": null,
      "metadata": {
        "id": "FsrHEP44A9MZ"
      },
      "outputs": [],
      "source": [
        "epochs = torch.empty(100)\n",
        "test_errors = torch.empty(100)\n",
        "train_errors = torch.empty(100)\n",
        "f = open('/content/teacher/mlp_mnist_teacher_final_0.01_ROnPlateau.txt','r')\n",
        "for i,row in enumerate(f):\n",
        "  row = row.split('json_stats:')\n",
        "  res = json.loads(row[1])\n",
        "  epochs[i]=res['epoch']\n",
        "  test_errors[i]=res['test_error']\n",
        "  train_errors[i]=res['train_error']"
      ]
    },
    {
      "cell_type": "code",
      "execution_count": null,
      "metadata": {
        "colab": {
          "base_uri": "https://localhost:8080/",
          "height": 520
        },
        "id": "yzpmnWhSltXf",
        "outputId": "056a03ea-0145-4532-cbad-29fce94c070c"
      },
      "outputs": [
        {
          "name": "stderr",
          "output_type": "stream",
          "text": [
            "<ipython-input-44-1e6c0ce7f992>:1: MatplotlibDeprecationWarning: The seaborn styles shipped by Matplotlib are deprecated since 3.6, as they no longer correspond to the styles shipped by seaborn. However, they will remain available as 'seaborn-v0_8-<style>'. Alternatively, directly use the seaborn API instead.\n",
            "  plt.style.use('seaborn')\n"
          ]
        },
        {
          "data": {
            "image/png": "[encoded data removed]",
            "text/plain": [
              "<Figure size 1000x500 with 1 Axes>"
            ]
          },
          "metadata": {},
          "output_type": "display_data"
        }
      ],
      "source": [
        "plt.style.use('seaborn')\n",
        "plt.rcParams['figure.figsize'] = (10,5)\n",
        "plt.plot(epochs,test_errors,color='red',label='test')\n",
        "plt.plot(epochs,train_errors,color='blue',label='train')\n",
        "plt.xlabel('Epoch')\n",
        "plt.ylabel('Number of Errors')\n",
        "plt.legend()\n",
        "plt.show()\n",
        "plt.style.use('default')"
      ]
    },
    {
      "cell_type": "code",
      "execution_count": null,
      "metadata": {
        "colab": {
          "base_uri": "https://localhost:8080/"
        },
        "id": "16qxKCta3bYJ",
        "outputId": "f4f7a48a-42b6-4427-f85d-76fbd1fb454f"
      },
      "outputs": [
        {
          "data": {
            "text/plain": [
              "<All keys matched successfully>"
            ]
          },
          "execution_count": 10,
          "metadata": {},
          "output_type": "execute_result"
        }
      ],
      "source": [
        "teacher.load_state_dict(parameters)"
      ]
    },
    {
      "cell_type": "code",
      "execution_count": null,
      "metadata": {
        "id": "vhi4TtzZzO2U"
      },
      "outputs": [],
      "source": [
        "def test(model,loss_fn):\n",
        "  model.eval()\n",
        "  test_loss = 0.0\n",
        "  test_correct = 0\n",
        "  for x,y in test_loader:\n",
        "    x = x.to(device)\n",
        "    y = y.to(device)\n",
        "    y_hat = model.forward(x)\n",
        "    loss = loss_fn(y_hat,y)\n",
        "    test_loss += loss.item()\n",
        "    test_correct += (((torch.max(y_hat,dim=1)[1]==y).sum())).item()\n",
        "  test_error = len(test_dataset) - test_correct\n",
        "  print(f'The number of correct predictions is:{test_correct}')\n",
        "  print(f'The number of false predictions is:{test_error}')\n",
        "\n"
      ]
    },
    {
      "cell_type": "code",
      "execution_count": null,
      "metadata": {
        "colab": {
          "base_uri": "https://localhost:8080/"
        },
        "id": "tx9tpxvR5R13",
        "outputId": "de7c9f9c-909c-4883-8500-ab63aae0ff2e"
      },
      "outputs": [
        {
          "name": "stderr",
          "output_type": "stream",
          "text": [
            "/usr/local/lib/python3.8/dist-packages/torch/utils/data/dataloader.py:554: UserWarning: This DataLoader will create 4 worker processes in total. Our suggested max number of worker in current system is 2, which is smaller than what this DataLoader is going to create. Please be aware that excessive worker creation might get DataLoader running slow or even freeze, lower the worker number to avoid potential slowness/freeze if necessary.\n",
            "  warnings.warn(_create_warning_msg(\n"
          ]
        },
        {
          "name": "stdout",
          "output_type": "stream",
          "text": [
            "The number of correct predictions is:9931\n",
            "The number of false predictions is:69\n"
          ]
        }
      ],
      "source": [
        "test(teacher,criterion)"
      ]
    },
    {
      "cell_type": "code",
      "execution_count": null,
      "metadata": {
        "id": "x9x5uVYY6Vn1"
      },
      "outputs": [],
      "source": []
    }
  ],
  "metadata": {
    "colab": {
      "provenance": [],
      "machine_shape": "hm",
      "gpuType": "A100",
      "collapsed_sections": [
        "jtlQBXN7qhNf",
        "gwcAdS60qdW4"
      ],
      "authorship_tag": "ABX9TyN9+4ZF9XDPEM/peJIBwzAD",
      "include_colab_link": true
    },
    "kernelspec": {
      "display_name": "Python 3",
      "name": "python3"
    },
    "language_info": {
      "name": "python"
    },
    "accelerator": "GPU"
  },
  "nbformat": 4,
  "nbformat_minor": 0
}